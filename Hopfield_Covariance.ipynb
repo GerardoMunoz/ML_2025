{
  "nbformat": 4,
  "nbformat_minor": 0,
  "metadata": {
    "colab": {
      "provenance": [],
      "authorship_tag": "ABX9TyPz230FpU0Z/7c20E/TOUdC",
      "include_colab_link": true
    },
    "kernelspec": {
      "name": "python3",
      "display_name": "Python 3"
    },
    "language_info": {
      "name": "python"
    }
  },
  "cells": [
    {
      "cell_type": "markdown",
      "metadata": {
        "id": "view-in-github",
        "colab_type": "text"
      },
      "source": [
        "<a href=\"https://colab.research.google.com/github/GerardoMunoz/ML_2025/blob/main/Hopfield_Covariance.ipynb\" target=\"_parent\"><img src=\"https://colab.research.google.com/assets/colab-badge.svg\" alt=\"Open In Colab\"/></a>"
      ]
    },
    {
      "cell_type": "markdown",
      "source": [
        "https://youtu.be/1WPJdAW-sFo?t=264"
      ],
      "metadata": {
        "id": "A80Zj8otb-CF"
      }
    },
    {
      "cell_type": "markdown",
      "source": [
        "\n",
        "---\n",
        "\n",
        "# 1. **Linear Algebra Topics**\n",
        "\n",
        "---\n",
        "\n",
        "## 1.1 **Dot Product**\n",
        "\n",
        "The dot product of two vectors $u$ and $v$ is defined as:\n",
        "\n",
        "$$ u \\cdot v = \\sum_{i=1}^{n} u_i v_i $$\n",
        "\n",
        "Alternatively, using matrix notation:\n",
        "\n",
        "$$ u \\cdot v = u^T v $$\n",
        "\n",
        "\n",
        "**Example: Dot Product in 3D**\n",
        "\n",
        "Given two vectors in 3D:\n",
        "\n",
        "$$ u = (2, -1, 3), \\quad v = (4, 0, -2) $$\n",
        "\n",
        "The dot product is computed as:\n",
        "\n",
        "$$ u \\cdot v = (2)(4) + (-1)(0) + (3)(-2) $$\n",
        "\n",
        "$$ = 8 + 0 - 6 = 2 $$\n",
        "\n",
        "Thus, the dot product of $u$ and $v$ is **2**.\n",
        "\n",
        "**Properties:**\n",
        "- Commutative: $ u \\cdot v = v \\cdot u $\n",
        "- Distributive: $ u \\cdot (v + w) = u \\cdot v + u \\cdot w $\n",
        "- Scalar multiplication: $ (cu) \\cdot v = c (u \\cdot v) $\n",
        "\n",
        "---\n",
        "\n",
        "## 1.2 **Magnitude of a Vector**\n",
        "\n",
        "The **magnitude** (or **norm**) of a vector $u$ is given by:\n",
        "\n",
        "$$ ||u|| = \\sqrt{u \\cdot u} = \\sqrt{\\sum_{i=1}^{n} u_i^2} $$\n",
        "\n",
        "In 3D, for a vector $u$:\n",
        "\n",
        "$$ u = (x, y, z) $$\n",
        "\n",
        "The magnitude is:\n",
        "\n",
        "$$ ||u|| = \\sqrt{x^2 + y^2 + z^2} $$\n",
        "\n",
        "**Example in 3D**\n",
        "\n",
        "Given the vector:\n",
        "\n",
        "$$ u = (3, -4, 12) $$\n",
        "\n",
        "The magnitude is calculated as:\n",
        "\n",
        "$$ ||u|| = \\sqrt{3^2 + (-4)^2 + 12^2} $$\n",
        "\n",
        "$$ = \\sqrt{9 + 16 + 144} $$\n",
        "\n",
        "$$ = \\sqrt{169} = 13 $$\n",
        "\n",
        "Thus, the magnitude of $u$ is **13**.\n",
        "\n",
        "**Properties:**\n",
        "- **Non-negative:** The magnitude of any vector is always $ \\geq 0 $.\n",
        "- **Zero Vector:** $ ||u|| = 0 $ if and only if $ u $ is the zero vector.\n",
        "- **Homogeneity (Scaling):** For any scalar $ c $, $ ||c u|| = |c| ||u|| $.\n",
        "- **Triangle Inequality:** $ ||u + v|| \\leq ||u|| + ||v|| $.\n",
        "\n",
        "---\n",
        "\n",
        "\n",
        "\n",
        "## 1.3 **Projection in 1D**\n",
        "\n",
        "To project a vector $u$ onto a  vector $v$:\n",
        "\n",
        "\n",
        "$$ \\text{proj}_v u = \\frac{u \\cdot v}{v \\cdot v} v $$\n",
        "\n",
        "This gives the closest point to $u$ on the line that spans $v$\n",
        "\n",
        "---\n",
        "\n",
        "## 1.4 **Pseudo Inverse**\n",
        "\n",
        "For a matrix **A**, the Moore-Penrose pseudo-inverse \\( A^+ \\) is defined as:\n",
        "\n",
        "$$ A^+ = (A^T A)^{-1} A^T $$\n",
        "\n",
        "When **A** is not square or not invertible, this gives the best least-squares solution to \\( Ax = b \\).\n",
        "\n",
        "**Properties:**\n",
        "- \\( A A^+ A = A \\)\n",
        "- \\( A^+ A A^+ = A^+ \\)\n",
        "- Symmetry in transposition: \\( (A^+)^T = (A^T)^+ \\)\n",
        "\n"
      ],
      "metadata": {
        "id": "kk3o96vL4Gq4"
      }
    },
    {
      "cell_type": "markdown",
      "source": [
        "\n",
        "---\n",
        "\n",
        "# 2. **Vector Distances and Similarities**\n",
        "If the operation satisfies these properties it is called **distance**.\n",
        "\n",
        "- Non-negative: \\( d(u, v) \\geq 0 \\)\n",
        "- Identity: \\( d(u, v) = 0 \\iff u = v \\)\n",
        "- Symmetry: \\( d(u, v) = d(v, u) \\)\n",
        "- Triangle inequality: \\( d(u, w) \\leq d(u, v) + d(v, w) \\)\n",
        "\n",
        "But if the operation that allows comparing vectors does not satisfy all the properties is called **similarity**.\n",
        "\n",
        "---\n",
        "\n",
        "## 2.1 **Euclidean Distance**\n",
        "\n",
        "The Euclidean distance between two vectors **u** and **v** is given by:\n",
        "\n",
        "$$ d(u, v) = \\sqrt{\\sum_{i=1}^{n} (u_i - v_i)^2} $$\n",
        "\n",
        "Alternatively, in vector notation:\n",
        "\n",
        "$$ d(u, v) = || u - v || $$\n",
        "\n",
        "\n",
        "---\n",
        "\n",
        "## 2.2 **Manhattan Distance**\n",
        "\n",
        "Also called **L1 norm**, the Manhattan distance is:\n",
        "\n",
        "$$ d_1(u, v) = \\sum_{i=1}^{n} |u_i - v_i| $$\n",
        "\n",
        "This measures the total absolute difference across dimensions.\n",
        "\n",
        "**Best for:**\n",
        "- Grid-based distance calculations (e.g., city block distance)\n",
        "- Sparse or high-dimensional data\n",
        "\n",
        "---\n",
        "\n",
        "## 2.3 **Cosine Similarity**\n",
        "\n",
        "Measures the angle between vectors:\n",
        "\n",
        "$$ \\text{cosine}(u, v) = \\frac{u \\cdot v}{||u|| ||v||} $$\n",
        "\n",
        "**Range:**\n",
        "- $ -1 $ (opposite direction)\n",
        "- $ 0 $ (orthogonal)\n",
        "- $ 1 $ (same direction)\n",
        "\n",
        "Useful in:\n",
        "- Text analysis ()\n",
        "- Recommender systems\n",
        "\n",
        "---\n",
        "\n",
        "\n",
        "## 2.4 **Minkowski Distance**\n",
        "\n",
        "The generalized form of Euclidean and Manhattan distances:\n",
        "\n",
        "$$ d_p(u, v) = \\left( \\sum_{i=1}^{n} |u_i - v_i|^p \\right)^{\\frac{1}{p}} $$\n",
        "\n",
        "- $ p = 1 $ → Manhattan Distance\n",
        "- $ p = 2 $ → Euclidean Distance\n",
        "- $ p \\to \\infty $ → Chebyshev Distance (max difference along any coordinate)\n",
        "\n",
        "---\n",
        "\n",
        "## 2.5 **Hamming Distance**\n",
        "\n",
        "Counts differing elements:\n",
        "\n",
        "$$ d_H(u, v) = \\sum_{i=1}^{n} \\mathbf{1}(u_i \\neq v_i) $$\n",
        "\n",
        "Used for:\n",
        "- Comparing binary strings (e.g., error detection)\n",
        "- DNA sequencing\n",
        "\n",
        "---\n",
        "\n",
        "# 2.6 **Applications of Distances & Similarities**\n",
        "\n",
        "- **Machine Learning**: Nearest Neighbor classification, clustering\n",
        "- **Natural Language Processing**: Text similarity, document comparison\n",
        "- **Image Processing**: Feature matching, object recognition\n",
        "- **Graph Theory**: Network analysis, social connections\n",
        "\n",
        "---\n",
        "\n"
      ],
      "metadata": {
        "id": "mVjxULcJ1NRl"
      }
    },
    {
      "cell_type": "markdown",
      "source": [
        "# 3. **Gram matrix: Covariance Matrix and Hopfield Network**\n",
        "\n",
        "---\n",
        "\n",
        "## 3.1 Introduction\n",
        "Given this two vectors in $\\mathbb{R}^3$\n",
        "\n",
        "$$\n",
        "v_1 = \\begin{bmatrix} 0.5 \\\\ 0.5 \\\\ -1 \\end{bmatrix}, \\quad\n",
        "v_2 = \\begin{bmatrix} -1 \\\\ 0.5 \\\\ 0.5 \\end{bmatrix}\n",
        "$$\n",
        "\n",
        "We can define a transformation from $\\mathbb{R}^2$ to $\\mathbb{R}^3$ using the matriz $A=[v_1\\ \\ v_2]$:\n",
        "\n",
        "$$\n",
        "\\begin{bmatrix}\n",
        "y_1\\\\y_2\\\\y_3\n",
        "\\end{bmatrix}\n",
        "=\\begin{bmatrix}\n",
        "0.5 & -1 \\\\\n",
        "0.5 & 0.5 \\\\\n",
        "-1 & 0.5\n",
        "\\end{bmatrix}\n",
        "\\begin{bmatrix}\n",
        "x_1\\\\x_2\\end{bmatrix}\n",
        "$$\n",
        "\n",
        "\n",
        "It is also possible to define a transformation from $\\mathbb{R}^3$ to $\\mathbb{R}^2$ using $A^T$\n",
        "\n",
        "\n",
        "$$\n",
        "\\begin{bmatrix}\n",
        "x'_1\\\\x'_2\n",
        "\\end{bmatrix}\n",
        "=\\begin{bmatrix}\n",
        "0.5 & 0.5 & -1 \\\\\n",
        "-1 & 0.5 & 0.5\n",
        "\\end{bmatrix}\n",
        "\\begin{bmatrix}\n",
        "y'_1\\\\y'_2\\\\y'_3\\end{bmatrix}\n",
        "$$\n",
        "\n",
        "\n",
        "\n",
        "\n",
        "Here we will study the composition of both $A^TA$ and $AA^T$ which are called **Gram matrices**.\n",
        "\n",
        "\n",
        "\n",
        "## 3.2 Gram matrix is a matrix of dot products.\n",
        "\n",
        "$$\n",
        "A = \\begin{bmatrix} v_1 & v_2 & \\cdots & v_n \\end{bmatrix}\n",
        "$$\n",
        "\n",
        "$$\n",
        "A^T = \\begin{bmatrix} v_1^T \\\\ v_2^T \\\\ \\vdots \\\\ v_n^T \\end{bmatrix}\n",
        "$$\n",
        "\n",
        "$$\n",
        "A^TA = \\begin{bmatrix} v_1^T \\\\ v_2^T \\\\ \\vdots \\\\ v_n^T \\end{bmatrix}\\begin{bmatrix} v_1 & v_2 & \\cdots & v_3 \\end{bmatrix}\n",
        "$$\n",
        "\n",
        "$$\n",
        "A^TA = \\begin{bmatrix}\n",
        "v_1 \\cdot v_1 & v_1 \\cdot v_2 & \\cdots & v_1 \\cdot v_n\\\\\n",
        "v_2 \\cdot v_1& v_2 \\cdot v_2  & \\cdots & v_2 \\cdot v_n\\\\\n",
        "\\vdots & \\vdots & \\ddots & \\vdots &\\\\\n",
        "v_n \\cdot v_1& v_n \\cdot v_2  & \\cdots & v_n \\cdot v_n \\end{bmatrix}\n",
        "$$\n",
        "\n",
        "- **Size**: If $A$ is $ m \\times n $ matrix  (i.e. each vector $v_i$ has $m$ rows) then $A^TA$ is $ n \\times n $ square matrix. And $AA^T$ is $ m \\times m $ square matrix. It represents different things if $m>n$ or if $m<n$.\n",
        "- **Diagonal values**: $ G_{ii} = v_i \\cdot v_i $ → **squared norm** of each vector.  \n",
        "- **Off-diagonal values**: $ G_{ij} = v_i \\cdot v_j $ → **similarity** between vectors.  \n",
        "\n",
        "$A^TA$ is used in the Moore-Penrose pseudo-inverse. But in the next two sections we are going to use $AA^T$, where the matrix is square $m \\times m$ and $m$ is the number of components of each vector $v_i$.\n"
      ],
      "metadata": {
        "id": "pIaFI8_ZzPpk"
      }
    },
    {
      "cell_type": "markdown",
      "source": [
        "\n",
        "# 3. **Hopfield Network**\n",
        "**More dimensions than vectors**. So if A is $ m \\times n$ then $m>n$.\n",
        "\n",
        "$$\n",
        "A = \\begin{bmatrix} v_1 & v_2 & \\cdots & v_n \\end{bmatrix}\n",
        "$$\n",
        "\n",
        "\n",
        "Each vector $v_i$ is a pattern that will be stored in the  Hopfield Network  **weight matrix** ($W$), computed as:\n",
        "\n",
        "$$\n",
        "W =  AA^T\n",
        "$$\n",
        "\n",
        "---\n",
        "\n",
        "## 3.1 **Example step by step**\n",
        "\n",
        "In our example, it is a  transformation from $\\mathbb{R}^3$ to $\\mathbb{R}^3$.\n",
        "If\n",
        "$$\n",
        "A=\\begin{bmatrix}\n",
        "0.5 & -1 \\\\\n",
        "0.5 & 0.5 \\\\\n",
        "-1 & 0.5\n",
        "\\end{bmatrix}\n",
        "$$\n",
        "then\n",
        "$$\n",
        "\\begin{bmatrix}\n",
        "y_1\\\\y_2\\\\y_3\n",
        "\\end{bmatrix}\n",
        "=\\begin{bmatrix}\n",
        "0.5 & -1 \\\\\n",
        "0.5 & 0.5 \\\\\n",
        "-1 & 0.5\n",
        "\\end{bmatrix}\n",
        "\\begin{bmatrix}\n",
        "0.5 & 0.5 & -1 \\\\\n",
        "-1 & 0.5 & 0.5\n",
        "\\end{bmatrix}\n",
        "\\begin{bmatrix}\n",
        "y'_1\\\\y'_2\\\\y'_3\\end{bmatrix}\n",
        "$$\n",
        "\n",
        "\n",
        "\n",
        "$$\n",
        "\\begin{bmatrix}\n",
        "y_1\\\\y_2\\\\y_3\n",
        "\\end{bmatrix}\n",
        "=\n",
        "\\begin{bmatrix}1.25 & -0.25 & -1.0\\\\-0.25 & 0.5 & -0.25\\\\-1.0 & -0.25 & 1.25\\end{bmatrix}\n",
        "\\begin{bmatrix}\n",
        "y'_1\\\\y'_2\\\\y'_3\\end{bmatrix}\n",
        "$$\n",
        "\n",
        "\n",
        "\n",
        "\n",
        "\n",
        "The weights $W$ allow us to recover the patterns of positive (+1) and negative (-1) values, where each column of $A$ is one pattern.\n",
        "\n",
        "The first column is\n",
        "\n",
        "$$\n",
        "v_1 = \\begin{bmatrix} 0.5 \\\\ 0.5 \\\\ -1 \\end{bmatrix},\n",
        "$$\n",
        "\n",
        "So it has a pattern of positives and negatives.\n",
        "\n",
        "$$\n",
        "\\begin{bmatrix} 1 \\\\ 1 \\\\ -1 \\end{bmatrix},\n",
        "$$\n",
        "\n",
        "If we add noise, for example to the second row, it sign changes.\n",
        "\n",
        "$$\n",
        "\\begin{bmatrix} 1 \\\\ -1 \\\\ -1 \\end{bmatrix},\n",
        "$$\n",
        "\n",
        "Now we use $W$ to restore the pattern.\n",
        "\n",
        "\n",
        "$$\n",
        "\\begin{bmatrix}1.25 & -0.25 & -1.0\\\\-0.25 & 0.5 & -0.25\\\\-1.0 & -0.25 & 1.25\\end{bmatrix}\n",
        "\\begin{bmatrix} 0 \\\\ 1 \\\\ -1 \\end{bmatrix}\n",
        "=\\begin{bmatrix}0.75\\\\0.75\\\\-1.5\\end{bmatrix}\n",
        "$$\n",
        "\n",
        "\n",
        "So the answer recovers the pattern.\n",
        "\n",
        "$$\n",
        "\\begin{bmatrix} 1 \\\\ 1 \\\\ -1 \\end{bmatrix},\n",
        "$$\n",
        "\n",
        "---\n",
        "\n",
        "## 3.2 **Example in Python**"
      ],
      "metadata": {
        "id": "4nKWoWFb0ULC"
      }
    },
    {
      "cell_type": "code",
      "execution_count": null,
      "metadata": {
        "colab": {
          "base_uri": "https://localhost:8080/",
          "height": 839
        },
        "id": "k77yu6hWBE3z",
        "outputId": "7b65bfb7-a656-4ba9-b1bf-cb9a2629ed52"
      },
      "outputs": [
        {
          "output_type": "display_data",
          "data": {
            "text/plain": [
              "<Figure size 640x480 with 1 Axes>"
            ],
            "image/png": "[encoded data removed]"
          },
          "metadata": {}
        },
        {
          "output_type": "display_data",
          "data": {
            "text/plain": [
              "<Figure size 640x480 with 1 Axes>"
            ],
            "image/png": "[encoded data removed]"
          },
          "metadata": {}
        }
      ],
      "source": [
        "import numpy as np\n",
        "import matplotlib.pyplot as plt\n",
        "\n",
        "def sign(x):\n",
        "    return np.where(x >= 0, 1, -1)\n",
        "\n",
        "def train_hopfield(patterns):\n",
        "    N = patterns.shape[1]\n",
        "    W = np.zeros((N, N))\n",
        "    for p in patterns:\n",
        "        W += np.outer(p, p)\n",
        "    np.fill_diagonal(W, 0)  # No self-connections\n",
        "    return W / N  # Normalize weights\n",
        "\n",
        "def recall_hopfield(W, input_pattern, steps=5):\n",
        "    s = input_pattern.copy()\n",
        "    for _ in range(steps):\n",
        "        s = sign(W @ s)  # Update all neurons at once\n",
        "    return s\n",
        "\n",
        "def display_pattern(pattern, title=\"Pattern\"):\n",
        "    size = int(np.sqrt(len(pattern)))\n",
        "    plt.imshow(pattern.reshape(size, size), cmap=\"gray\")\n",
        "    plt.title(title)\n",
        "    plt.axis(\"off\")\n",
        "    plt.show()\n",
        "\n",
        "# Define 3x3 patterns for '/' and '\\'\n",
        "pattern_slash = np.array([\n",
        "    -1, -1,  1,\n",
        "    -1,  1, -1,\n",
        "     1, -1, -1\n",
        "])\n",
        "\n",
        "pattern_backslash = np.array([\n",
        "     1, -1, -1,\n",
        "    -1,  1, -1,\n",
        "    -1, -1,  1\n",
        "])\n",
        "\n",
        "# Store patterns in Hopfield Network\n",
        "patterns = np.array([pattern_slash, pattern_backslash])\n",
        "W = train_hopfield(patterns)\n",
        "\n",
        "# Create a noisy input\n",
        "noisy_input = np.array([\n",
        "    -1, -1, -1,\n",
        "    -1,  1, -1,\n",
        "     1, -1, -1\n",
        "])\n",
        "\n",
        "display_pattern(noisy_input, \"Noisy Input\")\n",
        "\n",
        "# Recall stored pattern\n",
        "recovered_pattern = recall_hopfield(W, noisy_input)\n",
        "display_pattern(recovered_pattern, \"Recovered Pattern\")\n",
        "\n"
      ]
    },
    {
      "cell_type": "markdown",
      "source": [
        "\n",
        "\n",
        "\n",
        "# 4. **Covariance Matrix**\n",
        "**More vectors than dimensions**.  So if A is $ m \\times n$ then $m<n$.\n",
        "\n",
        "$$\n",
        "A = \\begin{bmatrix} v_1 & v_2 & \\cdots & v_n \\end{bmatrix}\n",
        "$$\n",
        "\n",
        "\n",
        "In statistics, the **covariance matrix** is:\n",
        "\n",
        "$$\n",
        "C = AA^T\n",
        "$$\n",
        "\n",
        "---\n",
        "\n",
        "## 4.1 Example\n",
        "\n",
        "In our example it is a transformation from $\\mathbb{R}^2$ to $\\mathbb{R}^2$.\n",
        "If\n",
        "$$\n",
        "A=\\begin{bmatrix}\n",
        "0.5 & 0.5 & -1 \\\\\n",
        "-1 & 0.5 & 0.5\n",
        "\\end{bmatrix}\n",
        "$$\n",
        "Then\n",
        "$$\n",
        "\\begin{bmatrix}\n",
        "x'_1\\\\x'_2\n",
        "\\end{bmatrix}\n",
        "=\\begin{bmatrix}\n",
        "0.5 & 0.5 & -1 \\\\\n",
        "-1 & 0.5 & 0.5\n",
        "\\end{bmatrix}\n",
        "\\begin{bmatrix}\n",
        "0.5 & -1 \\\\\n",
        "0.5 & 0.5 \\\\\n",
        "-1 & 0.5\n",
        "\\end{bmatrix}\n",
        "\\begin{bmatrix}\n",
        "x_1\\\\x_2\\end{bmatrix}\n",
        "$$\n",
        "\n",
        "$$\n",
        "\\begin{bmatrix}\n",
        "x'_1\\\\x'_2\n",
        "\\end{bmatrix}\n",
        "=\\begin{bmatrix}1.5 & -0.75\\\\-0.75 & 1.5\\end{bmatrix}\n",
        "\\begin{bmatrix}\n",
        "x_1\\\\x_2\\end{bmatrix}\n",
        "$$\n",
        "\n",
        "\n",
        "\n",
        "\n",
        "\n"
      ],
      "metadata": {
        "id": "9l4dxXGUTgCN"
      }
    },
    {
      "cell_type": "markdown",
      "source": [
        "\n",
        "## 4.2 **Viewing the transpose of $A$**\n",
        "\n",
        "Suppose that all the vectors of the matrix are in $\\mathbb{R}^2$, and that the sum of all vectors is the vector zero. So we can write\n",
        "\n",
        "$$\n",
        "A = \\begin{bmatrix} v_{1x} & v_{2x} & \\cdots & v_{nx} \\\\ v_{1y} & v_{2y} & \\cdots & v_{ny} \\end{bmatrix}\n",
        "$$\n",
        "\n",
        "The transpose is\n",
        "\n",
        "$$\n",
        "B=A^T=\\begin{bmatrix} v_{1x} & v_{1y} \\\\ v_{2x} & v_{2y} \\\\ \\vdots & \\vdots \\\\ v_{nx} & v_{ny} \\end{bmatrix} = \\begin{bmatrix} u_{1} & u_{2}  \\end{bmatrix}\n",
        "$$\n",
        "\n",
        "So now we have only two vectors, the first one has all the $x$ components, and the second one has all the $y$ components. Now we are going to calculate the covariance matrix and interpret it. Remember that $B=A^T$ and so $A=B^T$.\n",
        "\n",
        "$$\n",
        "C=AA^T=B^TB =  \\begin{bmatrix} u_{1}^T \\\\ u_{2}^T  \\end{bmatrix} \\begin{bmatrix} u_{1} & u_{2}  \\end{bmatrix} = \\begin{bmatrix} u_{1} \\cdot u_1 & u_1 \\cdot u_{2} \\\\ u_{2} \\cdot u_1 & u_2 \\cdot u_{2} \\end{bmatrix}\n",
        "$$\n",
        "\n",
        "The first element is\n",
        "$$u_{1} \\cdot u_1=||u_1||^2$$\n",
        "that is the square of the norm of the vector with all $x$ components. So if the x components are high then the norm is high, so this component represents how the points are distributed along the $x$ axis.  The same will happen with all elements of the diagonal, in particular, the last element\n",
        "$$  u_2 \\cdot u_{2}=||u_2||^2$$\n",
        "represents the distribution of the points along the $y$ axis. This is called the variance of the axis.\n",
        "\n",
        "\n",
        "The second element and the third element are the same because the dot product is commutative. So this matriz is simetric.\n",
        "$$ u_1 \\cdot u_{2} = u_{2} \\cdot u_1$$\n",
        "This dot product is high if both components are large, and this happens if the points are along the line $x=y$. So this component represents how the points are related in both components. In general, the non-diagonal elements represent the relation of both components. This is called the covariance between the two axes.\n",
        "\n",
        "\n",
        "The Covariance Matrix $C$ (or the weight matrix) when multiplying a vector ($Cw$), transforms the components to better match the patterns."
      ],
      "metadata": {
        "id": "di1TGaPa2Bep"
      }
    },
    {
      "cell_type": "markdown",
      "source": [
        "---\n",
        "\n",
        "# 5. **Eigenvectors** (images review)\n",
        "![img01](https://raw.githubusercontent.com/GerardoMunoz/PresentacionesAlgebraLineal/main/imagenes/VectProp_01_Geom.png)\n",
        "\n",
        "![img02](https://raw.githubusercontent.com/GerardoMunoz/PresentacionesAlgebraLineal/main/imagenes/VectProp_02_Deduc.png)\n",
        "\n",
        "![img01](https://raw.githubusercontent.com/GerardoMunoz/PresentacionesAlgebraLineal/main/imagenes/VectProp_03_EjemA.png)\n",
        "\n",
        "![img01](https://raw.githubusercontent.com/GerardoMunoz/PresentacionesAlgebraLineal/main/imagenes/VectProp_04_EjemB.png)\n"
      ],
      "metadata": {
        "id": "DSVkH7q56-rw"
      }
    },
    {
      "cell_type": "markdown",
      "source": [
        "# 6. **PCA Using the Covariance Matrix**\n",
        "\n",
        "---\n",
        "\n",
        "## 6.1 **Steps by step algorithm**\n",
        "\n",
        "Let $ A $ be an $ m \\times n $ matrix (with $m$ rows and $n$ columns).\n",
        "\n",
        "### 6.1.1 **Center the Data**\n",
        "Subtract the mean from each feature:\n",
        "\n",
        "$$\n",
        "A_{\\text{centered}} = A - \\text{mean}(A)\n",
        "$$\n",
        "\n",
        "### 6.1.2 **Compute the Covariance Matrix**\n",
        "$$\n",
        "C = \\frac{1}{n} A_{\\text{centered}}^T A_{\\text{centered}}\n",
        "$$\n",
        "\n",
        "- $ C $ is an $ m \\times m $ matrix.\n",
        "- The **diagonal elements** represent **variances** of individual features.\n",
        "- The **off-diagonal elements** represent **covariances** between features.\n",
        "\n",
        "### 6.1.3 **Compute the Eigenvectors and Eigenvalues of $ C $**\n",
        "$$\n",
        "C v_i = \\lambda_i v_i\n",
        "$$\n",
        "\n",
        "- The **eigenvectors** $ v_i $ are the **principal components**.\n",
        "- The **eigenvalues** $ \\lambda_i $ measure the **amount of variance** explained by each principal component.\n",
        "\n",
        "### 6.1.4 **Select the Top $ k $ Principal Components**\n",
        "- Choose the eigenvectors corresponding to the **largest eigenvalues**.\n",
        "- This reduces the data to a **lower-dimensional space**.\n",
        "\n",
        "### 6.1.5 **Project the Data Onto the New Basis**\n",
        "$$\n",
        "Z = A_{\\text{centered}} V_k\n",
        "$$\n",
        "\n",
        "where $ V_k $ contains the **top $ k $ eigenvectors**.\n",
        "\n",
        "---\n",
        "\n",
        "## 6.2 **Example**"
      ],
      "metadata": {
        "id": "yHs6q5SoVJ79"
      }
    },
    {
      "cell_type": "markdown",
      "metadata": {
        "id": "5BUjcta3YJ3z"
      },
      "source": [
        "## ¿Cuál es la mejor forma para proyectar puntos?"
      ]
    },
    {
      "cell_type": "code",
      "execution_count": null,
      "metadata": {
        "colab": {
          "base_uri": "https://localhost:8080/",
          "height": 504
        },
        "id": "BWkRmU2k1CZn",
        "outputId": "d07e2957-c66f-44b5-813c-b63f8d657782"
      },
      "outputs": [
        {
          "data": {
            "text/plain": [
              "<matplotlib.patches.Rectangle at 0x1d0a547b070>"
            ]
          },
          "execution_count": 269,
          "metadata": {},
          "output_type": "execute_result"
        },
        {
          "data": {
            "image/png": "[encoded data removed]",
            "text/plain": [
              "<Figure size 360x576 with 3 Axes>"
            ]
          },
          "metadata": {
            "needs_background": "light"
          },
          "output_type": "display_data"
        }
      ],
      "source": [
        "import numpy as np\n",
        "from matplotlib import patches\n",
        "import matplotlib.pyplot as plt\n",
        "\n",
        "xcenter, ycenter = 0.5, 0.5\n",
        "width, height = 1, 3e-1\n",
        "angle = -30\n",
        "\n",
        "fig = plt.figure(figsize=(5,8))\n",
        "\n",
        "ax = fig.add_subplot(311, aspect='auto')\n",
        "e2 = patches.Ellipse((xcenter, ycenter), width, height,\n",
        "                     angle=angle, linewidth=2, fill=False, zorder=2)\n",
        "ax.add_patch(e2)\n",
        "r2 = patches.Rectangle((0, 0.5), 1, 0,\n",
        "                     angle=-angle, linewidth=2, fill=False, zorder=2, color='r')\n",
        "ax.add_patch(r2)\n",
        "\n",
        "ax = fig.add_subplot(312, aspect='auto')\n",
        "e3 = patches.Ellipse((xcenter, ycenter), width, height,\n",
        "                     angle=angle, linewidth=2, fill=False, zorder=2)\n",
        "ax.add_patch(e3)\n",
        "r3 = patches.Rectangle((0.5, 0.0), 1, 0,\n",
        "                     angle=90, linewidth=2, fill=False, zorder=2, color='r')\n",
        "ax.add_patch(r3)\n",
        "ax = fig.add_subplot(313, aspect='auto')\n",
        "e1 = patches.Ellipse((xcenter, ycenter), width, height,\n",
        "                     angle=angle, linewidth=2, fill=False, zorder=2)\n",
        "ax.add_patch(e1)\n",
        "r1 = patches.Rectangle((0, 0.5), 1, 0,\n",
        "                     angle=0, linewidth=2, fill=False, zorder=2, color='r')\n",
        "ax.add_patch(r1)\n"
      ]
    },
    {
      "cell_type": "code",
      "execution_count": null,
      "metadata": {
        "colab": {
          "base_uri": "https://localhost:8080/",
          "height": 282
        },
        "id": "GreCJ4oo1CZo",
        "outputId": "59b82ec8-6b4f-410d-8e5d-c4f1a5680c97"
      },
      "outputs": [
        {
          "data": {
            "text/plain": [
              "[<matplotlib.lines.Line2D at 0x1d0a5502a60>]"
            ]
          },
          "execution_count": 270,
          "metadata": {},
          "output_type": "execute_result"
        },
        {
          "data": {
            "image/png": "[encoded data removed]",
            "text/plain": [
              "<Figure size 432x288 with 1 Axes>"
            ]
          },
          "metadata": {
            "needs_background": "light"
          },
          "output_type": "display_data"
        }
      ],
      "source": [
        "n_vectors=400\n",
        "d=2\n",
        "rng = np.random.RandomState(1)\n",
        "rnd_vec=rng.uniform(-1, 1, size=(n_vectors, d))                # the initial random vectors\n",
        "unif=rng.uniform(size=n_vectors)                               # a second array random numbers\n",
        "scale_f=np.expand_dims(np.linalg.norm(rnd_vec, axis=1)/unif, axis=1) # the scaling factors\n",
        "circulo=(rnd_vec/scale_f).T\n",
        "#rnd_vec.shape\n",
        "A=np.array([[1,-2],[-1,1]])\n",
        "rnd_vec= A @ circulo  +  np.array([[0.6],[-0.8]])\n",
        "plt.plot(rnd_vec[0,:], rnd_vec[1,:], '.', color='black')"
      ]
    },
    {
      "cell_type": "code",
      "execution_count": null,
      "metadata": {
        "colab": {
          "base_uri": "https://localhost:8080/"
        },
        "id": "3Z96ZQ3x1CZp",
        "outputId": "66b0d4bc-8bda-45a1-9657-b5ff89d657ef"
      },
      "outputs": [
        {
          "data": {
            "text/plain": [
              "(2, 400)"
            ]
          },
          "execution_count": 271,
          "metadata": {},
          "output_type": "execute_result"
        }
      ],
      "source": [
        "m,n = rnd_vec.shape\n",
        "m,n"
      ]
    },
    {
      "cell_type": "markdown",
      "metadata": {
        "id": "aOv6A0Ib1CZp"
      },
      "source": [
        "`rnd_vec` es un arreglo con dos renglones (m=2) y 400 columnas (n=400). En la figura se ven los 400 puntos.\n",
        "\n",
        "## El primer paso es __encontrar el centro__ de los puntos.\n",
        "El centro en el eje $x$ es el promedio de todas las componentes $x$, de manera similar se obtiene el promedio en el eje $y$."
      ]
    },
    {
      "cell_type": "code",
      "execution_count": null,
      "metadata": {
        "colab": {
          "base_uri": "https://localhost:8080/"
        },
        "id": "cGXVwDPd1CZp",
        "outputId": "2a1e6a6b-bbc8-47a3-c1dd-a3cbb1d601a4"
      },
      "outputs": [
        {
          "data": {
            "text/plain": [
              "array([ 0.59514884, -0.80301048])"
            ]
          },
          "execution_count": 272,
          "metadata": {},
          "output_type": "execute_result"
        }
      ],
      "source": [
        "centro = (1/n)*np.sum(rnd_vec,axis=1)\n",
        "centro"
      ]
    },
    {
      "cell_type": "markdown",
      "metadata": {
        "id": "zxV4C1jE1CZp"
      },
      "source": [
        "## El segundo paso es __ubicar el origen de coordenadas en el centro de los puntos__."
      ]
    },
    {
      "cell_type": "code",
      "execution_count": null,
      "metadata": {
        "colab": {
          "base_uri": "https://localhost:8080/"
        },
        "id": "uPwhCC1r1CZq",
        "outputId": "cd473b85-da06-4020-d015-56e93bd3ed6b"
      },
      "outputs": [
        {
          "data": {
            "text/plain": [
              "[<matplotlib.lines.Line2D at 0x1d0a5560b80>]"
            ]
          },
          "execution_count": 273,
          "metadata": {},
          "output_type": "execute_result"
        },
        {
          "data": {
            "image/png": "[encoded data removed]",
            "text/plain": [
              "<Figure size 432x288 with 1 Axes>"
            ]
          },
          "metadata": {
            "needs_background": "light"
          },
          "output_type": "display_data"
        }
      ],
      "source": [
        "plt.plot(rnd_vec[0,:], rnd_vec[1,:], '.', color='black')\n",
        "plt.plot(centro[0], centro[1], '.', color='red')"
      ]
    },
    {
      "cell_type": "code",
      "execution_count": null,
      "metadata": {
        "colab": {
          "base_uri": "https://localhost:8080/"
        },
        "id": "gitjqx_Q1CZq",
        "outputId": "c39d8d12-1ce4-44ff-ff8f-ae869fc032e7"
      },
      "outputs": [
        {
          "data": {
            "text/plain": [
              "[<matplotlib.lines.Line2D at 0x1d0a55c36a0>]"
            ]
          },
          "execution_count": 274,
          "metadata": {},
          "output_type": "execute_result"
        },
        {
          "data": {
            "image/png": "[encoded data removed]",
            "text/plain": [
              "<Figure size 432x288 with 1 Axes>"
            ]
          },
          "metadata": {
            "needs_background": "light"
          },
          "output_type": "display_data"
        }
      ],
      "source": [
        "puntos_centrados = rnd_vec - centro.reshape(2,1)\n",
        "plt.plot(puntos_centrados[0,:], puntos_centrados[1,:], '.', color='black')\n",
        "plt.plot(0, 0, '.', color='red')"
      ]
    },
    {
      "cell_type": "markdown",
      "metadata": {
        "id": "sMlXqdLR1CZq"
      },
      "source": [
        "## El tercer paso es __estimar que tan dispersos están los puntos__ con la matriz de covarianza.\n",
        "Este paso requiere tres sub-pasos: Dispersión horizontal ($var(x)$), dispersión vertical ($var(y)$) y la dispersión diagonal ($cov(x,y)$).\n",
        "\n",
        "Pero antes veamos un par de vectores.\n",
        "\n",
        "### Vector de las coordenadas horizontales ($\\tilde{x}$) y vector de las coordenadas verticales ($\\tilde{y}$)\n",
        "\n",
        "Sabemos que `puntos_centrados` es un arreglo de dos renglones y 400 columnas. El cual llamaremos la matriz $C$.\n",
        "\n",
        "$C=\\begin{bmatrix} x_1 & x_2 & \\cdots & x_{400} \\\\ y_1 & y_2 & \\cdots & y_{400} \\end{bmatrix} $\n",
        "\n"
      ]
    },
    {
      "cell_type": "code",
      "execution_count": null,
      "metadata": {
        "colab": {
          "base_uri": "https://localhost:8080/"
        },
        "id": "qQtyWLEl1CZq",
        "outputId": "3c1d4c97-5093-4a9c-8ce8-745220b3b779"
      },
      "outputs": [
        {
          "data": {
            "text/plain": [
              "(2, 400)"
            ]
          },
          "execution_count": 275,
          "metadata": {},
          "output_type": "execute_result"
        }
      ],
      "source": [
        "puntos_centrados.shape"
      ]
    },
    {
      "cell_type": "markdown",
      "metadata": {
        "id": "UqeXmxA81CZq"
      },
      "source": [
        "Podemos describir esta matriz por sus columnas, llamando cada punto como un vector.\n",
        "\n",
        "$C=\\begin{bmatrix} \\vec{v}_1 & \\vec{v}_2 & \\cdots & \\vec{v}_{400}  \\end{bmatrix} $\n",
        "\n",
        "En este caso nos interesa describir la matriz por sus renglones, porque necesitamos operar todas las coordenadas $x$ por un lado, y por otro, las coordenadas $y$.\n",
        "\n",
        "$C=\\begin{bmatrix} \\tilde{x}^T \\\\ \\tilde{y}^T  \\end{bmatrix} $\n",
        "\n",
        "En donde $\\tilde{x} = \\begin{bmatrix} x_1 \\\\ x_2 \\\\ \\vdots \\\\ x_{400} \\end{bmatrix} $  y $\\tilde{y} = \\begin{bmatrix} y_1 \\\\ y_2 \\\\ \\vdots \\\\ y_{400} \\end{bmatrix} $"
      ]
    },
    {
      "cell_type": "code",
      "execution_count": null,
      "metadata": {
        "id": "_xQC0wy_1CZr"
      },
      "outputs": [],
      "source": [
        "x_tilde = puntos_centrados[0,:]\n",
        "y_tilde = puntos_centrados[1,:]"
      ]
    },
    {
      "cell_type": "markdown",
      "metadata": {
        "id": "ahW-j7LB1CZr"
      },
      "source": [
        "### Dispersión horizontal ($var(x)$):\n",
        "\n",
        " Si sumamos las coordenadas $x_i$ de todos los puntos debería dar cero, porque el origen de coordenadas coincide ahora con el centro de los puntos. Pero si sumamos $x_i^2$ ya no da cero porque ahora todos los sumandos son positivos o  cero. El promedio de los $x^2$ se llama $var(x)$, y es fácil comprobar que $$var(x)=\\frac{\\tilde{x} \\cdot \\tilde{x}}{n}$$"
      ]
    },
    {
      "cell_type": "code",
      "execution_count": null,
      "metadata": {
        "colab": {
          "base_uri": "https://localhost:8080/"
        },
        "id": "tM9PAs-K1CZr",
        "outputId": "81d743c2-9222-4a4e-b89c-69703463344e"
      },
      "outputs": [
        {
          "data": {
            "text/plain": [
              "0.8262194307818649"
            ]
          },
          "execution_count": 277,
          "metadata": {},
          "output_type": "execute_result"
        }
      ],
      "source": [
        "x_tilde.dot(x_tilde)/n"
      ]
    },
    {
      "cell_type": "markdown",
      "metadata": {
        "id": "oJ38ZNjL1CZr"
      },
      "source": [
        "\n",
        "### Dispersión vertical ($var(y)$):\n",
        "\n",
        "De manera similar se define $$var(y)=\\frac{\\tilde{y} \\cdot \\tilde{y}}{n}$$"
      ]
    },
    {
      "cell_type": "code",
      "execution_count": null,
      "metadata": {
        "colab": {
          "base_uri": "https://localhost:8080/"
        },
        "id": "K5ovauQv1CZs",
        "outputId": "d54b345a-442b-47cc-b55a-41707d0a4bf0"
      },
      "outputs": [
        {
          "data": {
            "text/plain": [
              "0.3179200742411154"
            ]
          },
          "execution_count": 278,
          "metadata": {},
          "output_type": "execute_result"
        }
      ],
      "source": [
        "y_tilde.dot(y_tilde)/n"
      ]
    },
    {
      "cell_type": "markdown",
      "metadata": {
        "id": "7uxtUACj1CZs"
      },
      "source": [
        "### Dispersión diagonal ($cov(x,y)$)\n",
        "\n",
        "Cuando un punto esta cerca del eje horizontal el valor de $y_i$ es más cercano a cero. Pero si el punto esta cerca del eje vertical el valor de $x_i$ es más cercano a cero. El producto $x_i y_i$ es máximo cuando el punto está cerca a una recta diagonal a 45°. Además, es negativo cerca a la recta diagonal a -45°.\n",
        "\n",
        "El promedio de la suma de estos productos es se llama $cov(x,y)$ y se define $$cov(x,y)=\\frac{\\tilde{x} \\cdot \\tilde{y}}{n}$$"
      ]
    },
    {
      "cell_type": "code",
      "execution_count": null,
      "metadata": {
        "colab": {
          "base_uri": "https://localhost:8080/"
        },
        "id": "viES1mYi1CZs",
        "outputId": "700af225-1f0e-4b95-cb68-831fd867b1a1"
      },
      "outputs": [
        {
          "data": {
            "text/plain": [
              "-0.48597607427197376"
            ]
          },
          "execution_count": 279,
          "metadata": {},
          "output_type": "execute_result"
        }
      ],
      "source": [
        "x_tilde.dot(y_tilde)/n"
      ]
    },
    {
      "cell_type": "markdown",
      "metadata": {
        "id": "yq7vU3ug1CZs"
      },
      "source": [
        "### Matriz de covarianza\n",
        "\n",
        "Recordemos que si $C=\\begin{bmatrix} \\tilde{x}^T \\\\ \\tilde{y}^T  \\end{bmatrix} $ entonces $C^T=\\begin{bmatrix} \\tilde{x} & \\tilde{y}  \\end{bmatrix} $\n",
        "\n",
        "y por lo tanto $\\frac{1}{n}CC^T=\\begin{bmatrix} \\tilde{x}^T \\\\ \\tilde{y}^T  \\end{bmatrix} \\begin{bmatrix} \\tilde{x} & \\tilde{y}  \\end{bmatrix}=\\frac{1}{n}\\begin{bmatrix} \\tilde{x}^T \\tilde{x}&\\tilde{x}^T \\tilde{y}\\\\ \\tilde{y}^T\\tilde{x} & \\tilde{y}^T  \\tilde{y}\\end{bmatrix} = \\frac{1}{n}\\begin{bmatrix} \\tilde{x} \\cdot \\tilde{x}&\\tilde{x} \\cdot \\tilde{y}\\\\ \\tilde{y} \\cdot \\tilde{x} & \\tilde{y} \\cdot \\tilde{y}\\end{bmatrix} = \\begin{bmatrix} var(x)&cov(x,y)\\\\ cov(y,x) & var(y)\\end{bmatrix}$\n",
        "\n",
        "La cual se conoce como la matriz de covarianza."
      ]
    },
    {
      "cell_type": "code",
      "execution_count": null,
      "metadata": {
        "colab": {
          "base_uri": "https://localhost:8080/"
        },
        "id": "nzRdPkHh1CZs",
        "outputId": "840189e4-4add-4472-a82e-ad9bfa6293e4"
      },
      "outputs": [
        {
          "data": {
            "text/plain": [
              "array([[ 0.82621943, -0.48597607],\n",
              "       [-0.48597607,  0.31792007]])"
            ]
          },
          "execution_count": 280,
          "metadata": {},
          "output_type": "execute_result"
        }
      ],
      "source": [
        "matriz_covarianza = (1/n)*puntos_centrados @ puntos_centrados.T\n",
        "matriz_covarianza"
      ]
    },
    {
      "cell_type": "markdown",
      "metadata": {
        "id": "_Pq2pTSu1CZt"
      },
      "source": [
        "La matriz de covarianzas se puede interpretar como una transformación que transforma los puntos dentro de un círculo"
      ]
    },
    {
      "cell_type": "code",
      "execution_count": null,
      "metadata": {
        "colab": {
          "base_uri": "https://localhost:8080/"
        },
        "id": "jzrzhQ3d1CZt",
        "outputId": "ade5d5aa-a619-496d-b14d-8fe033a0617e"
      },
      "outputs": [
        {
          "data": {
            "text/plain": [
              "[<matplotlib.lines.Line2D at 0x1d0a56031c0>]"
            ]
          },
          "execution_count": 281,
          "metadata": {},
          "output_type": "execute_result"
        },
        {
          "data": {
            "image/png": "[encoded data removed]",
            "text/plain": [
              "<Figure size 432x288 with 1 Axes>"
            ]
          },
          "metadata": {
            "needs_background": "light"
          },
          "output_type": "display_data"
        }
      ],
      "source": [
        "plt.plot(circulo[0,:], circulo[1,:], '.', color='black')"
      ]
    },
    {
      "cell_type": "markdown",
      "metadata": {
        "id": "JuyxzlUx1CZt"
      },
      "source": [
        "en los puntos dentro de una elipse"
      ]
    },
    {
      "cell_type": "code",
      "execution_count": null,
      "metadata": {
        "colab": {
          "base_uri": "https://localhost:8080/"
        },
        "id": "-YR2poKV1CZt",
        "outputId": "449609f3-2f3e-4d8b-8ab7-d1adeedf877b"
      },
      "outputs": [
        {
          "data": {
            "text/plain": [
              "[<matplotlib.lines.Line2D at 0x1d0a568cd90>]"
            ]
          },
          "execution_count": 282,
          "metadata": {},
          "output_type": "execute_result"
        },
        {
          "data": {
            "image/png": "[encoded data removed]",
            "text/plain": [
              "<Figure size 432x288 with 1 Axes>"
            ]
          },
          "metadata": {
            "needs_background": "light"
          },
          "output_type": "display_data"
        }
      ],
      "source": [
        "modelo= matriz_covarianza @ circulo\n",
        "plt.plot(modelo[0,:], modelo[1,:], '.', color='black')"
      ]
    },
    {
      "cell_type": "markdown",
      "metadata": {
        "id": "iMYwizNO1qQJ"
      },
      "source": [
        "El anterior modelo no es igual a los datos originales (que se muestran abajo). Sin embargo, tienen el mismo ángulo de inclinación, lo cual será muy útil para encontrar la proyección."
      ]
    },
    {
      "cell_type": "code",
      "execution_count": null,
      "metadata": {
        "colab": {
          "base_uri": "https://localhost:8080/"
        },
        "id": "MPqeH_WM1moa",
        "outputId": "a35eade5-719b-4e24-ee2f-8446b05e2e30"
      },
      "outputs": [
        {
          "data": {
            "text/plain": [
              "[<matplotlib.lines.Line2D at 0x1d0a57021c0>]"
            ]
          },
          "execution_count": 283,
          "metadata": {},
          "output_type": "execute_result"
        },
        {
          "data": {
            "image/png": "[encoded data removed]",
            "text/plain": [
              "<Figure size 432x288 with 1 Axes>"
            ]
          },
          "metadata": {
            "needs_background": "light"
          },
          "output_type": "display_data"
        }
      ],
      "source": [
        "plt.plot(puntos_centrados[0,:], puntos_centrados[1,:], '.', color='black')"
      ]
    },
    {
      "cell_type": "markdown",
      "metadata": {
        "id": "pJ0Cecld1CZt"
      },
      "source": [
        "## Cuarto paso, __calcular los valores propios de la matriz de covarianza__\n",
        "\n",
        "Lo interesante es que los valores propios indican los vectores que no cambian de dirección, lo cual corresponde a los ejes de la elipse. Cada valor propio indica lo extensa de la elipse en ese eje."
      ]
    },
    {
      "cell_type": "code",
      "execution_count": null,
      "metadata": {
        "colab": {
          "base_uri": "https://localhost:8080/"
        },
        "id": "AcMzrj_81CZt",
        "outputId": "62b7f274-eb81-48cf-8260-7b899d164c28"
      },
      "outputs": [
        {
          "data": {
            "text/plain": [
              "[[0.8262194307818649, -0.4859760742719738],\n",
              " [-0.4859760742719738, 0.3179200742411153]]"
            ]
          },
          "execution_count": 284,
          "metadata": {},
          "output_type": "execute_result"
        }
      ],
      "source": [
        "matriz_covarianza.tolist()"
      ]
    },
    {
      "cell_type": "code",
      "execution_count": null,
      "metadata": {
        "colab": {
          "base_uri": "https://localhost:8080/",
          "height": 58
        },
        "id": "POTpG1Ws1CZt",
        "outputId": "633ea8c0-bfa7-4169-e0d1-ab6289def93e"
      },
      "outputs": [
        {
          "data": {
            "text/latex": [
              "$\\displaystyle \\left[\\begin{matrix}0.826219430781865 - \\lambda & -0.485976074271974\\\\-0.485976074271974 & 0.317920074241115 - \\lambda\\end{matrix}\\right]$"
            ],
            "text/plain": [
              "Matrix([\n",
              "[0.826219430781865 - \\lambda,          -0.485976074271974],\n",
              "[         -0.485976074271974, 0.317920074241115 - \\lambda]])"
            ]
          },
          "execution_count": 285,
          "metadata": {},
          "output_type": "execute_result"
        }
      ],
      "source": [
        "import sympy as sp\n",
        "l = sp.symbols('\\lambda')\n",
        "matriz_caracteristica = sp.Matrix(matriz_covarianza.tolist()) - l*sp.eye(2)\n",
        "matriz_caracteristica"
      ]
    },
    {
      "cell_type": "code",
      "execution_count": null,
      "metadata": {
        "colab": {
          "base_uri": "https://localhost:8080/",
          "height": 38
        },
        "id": "l5N7BX6x1CZu",
        "outputId": "243a5621-ddb4-4bf2-8403-5f79ec010d69"
      },
      "outputs": [
        {
          "data": {
            "text/latex": [
              "$\\displaystyle \\lambda^{2} - 1.14413950502298 \\lambda + 0.0264989980088235$"
            ],
            "text/plain": [
              "\\lambda**2 - 1.14413950502298*\\lambda + 0.0264989980088235"
            ]
          },
          "execution_count": 286,
          "metadata": {},
          "output_type": "execute_result"
        }
      ],
      "source": [
        "sp.det(matriz_caracteristica)"
      ]
    },
    {
      "cell_type": "markdown",
      "metadata": {
        "id": "8fnij2nqWlgu"
      },
      "source": [
        "Utilizando la cuadrática obtenemos los valores propios."
      ]
    },
    {
      "cell_type": "code",
      "execution_count": null,
      "metadata": {
        "colab": {
          "base_uri": "https://localhost:8080/"
        },
        "id": "4HVt303w1CZu",
        "outputId": "3c35b8bd-1b8e-47ac-b188-7bd5a9e73211"
      },
      "outputs": [
        {
          "data": {
            "text/plain": [
              "(1.12049003270701, 0.0236494723159688)"
            ]
          },
          "execution_count": 287,
          "metadata": {},
          "output_type": "execute_result"
        }
      ],
      "source": [
        "a=1\n",
        "b=-1.14413950502298\n",
        "c=0.0264989980088234\n",
        "\n",
        "l1=(-b + sp.sqrt(b**2 - 4*a*c))/(2*a)\n",
        "l2=(-b - sp.sqrt(b**2 - 4*a*c))/(2*a)\n",
        "l1,l2"
      ]
    },
    {
      "cell_type": "markdown",
      "metadata": {
        "id": "VDJElBqw1CZu"
      },
      "source": [
        "Al seleccionar los vectores propios con mayor valor propio, se selecciona los vectores que generan el subespacio sobre el cual se van a realizar las proyecciones.\n",
        "\n",
        "En este caso el mayor valor propio es  $\\lambda_1 = 1.12049003270701$,\n",
        "\n",
        "A continuación, se procede a encontrar la solución del sistema homogéneo de la primera matriz característica."
      ]
    },
    {
      "cell_type": "code",
      "execution_count": null,
      "metadata": {
        "colab": {
          "base_uri": "https://localhost:8080/"
        },
        "id": "wV64oLAK1CZu",
        "outputId": "e3d6f231-6a64-4a67-dc18-af652e12c6ef"
      },
      "outputs": [
        {
          "data": {
            "text/plain": [
              "array([[-0.294270601925145, -0.485976074271974, 0.0],\n",
              "       [-0.485976074271974, -0.802569958465895, 0.0]], dtype=object)"
            ]
          },
          "execution_count": 288,
          "metadata": {},
          "output_type": "execute_result"
        }
      ],
      "source": [
        "M=np.hstack((matriz_covarianza - 1.12049003270701*sp.eye(2), np.zeros((2,1))))\n",
        "M"
      ]
    },
    {
      "cell_type": "code",
      "execution_count": null,
      "metadata": {
        "colab": {
          "base_uri": "https://localhost:8080/"
        },
        "id": "kZ9h34r11CZu",
        "outputId": "b798f6bb-970b-4313-d870-2efa8a1700f8"
      },
      "outputs": [
        {
          "data": {
            "text/plain": [
              "array([[-0.294270601925145, -0.485976074271974, 0.0],\n",
              "       [0, 4.99600361081320e-15, 0]], dtype=object)"
            ]
          },
          "execution_count": 289,
          "metadata": {},
          "output_type": "execute_result"
        }
      ],
      "source": [
        "M[1,:] = M[1,:] - M[0,:]*M[1,0]/M[0,0]\n",
        "M"
      ]
    },
    {
      "cell_type": "markdown",
      "metadata": {
        "id": "kmOUt6WpV2I9"
      },
      "source": [
        "Debido a las aproxiomaciones de 15 dígitos de los números tipos `float`, 4.99600361081320e-15 puede ser considerado como cero.\n",
        "\n",
        "Ahora se procede a encontrar la solución general. Cómo $x_2$ es una variable libre se le asigna un parámetro.\n",
        "\n",
        "$$x_2 = t$$\n",
        "\n",
        "Ahora se despeja la variable delantera $x_1$.\n",
        "\n",
        "$-0.294270601925145 x_1 -0.485976074271974t =0$"
      ]
    },
    {
      "cell_type": "code",
      "execution_count": null,
      "metadata": {
        "colab": {
          "base_uri": "https://localhost:8080/"
        },
        "id": "LptyzVc0V7V3",
        "outputId": "efb3ceae-80f5-4fc0-a3df-ebcb195ab30b"
      },
      "outputs": [
        {
          "data": {
            "text/plain": [
              "-1.6514598165520933"
            ]
          },
          "execution_count": 290,
          "metadata": {},
          "output_type": "execute_result"
        }
      ],
      "source": [
        "0.485976074271974/-0.294270601925145"
      ]
    },
    {
      "cell_type": "markdown",
      "metadata": {
        "id": "S0Au-ZS21CZu"
      },
      "source": [
        "\n",
        "\n",
        "$x_1 \\approx -1.6514598165520933t$\n",
        "\n",
        "La solución general es\n",
        "\n",
        "$$\\begin{pmatrix}x_1 \\\\ x_2 \\end{pmatrix} = t\\begin{pmatrix}-1.6514598165520933 \\\\ 1 \\end{pmatrix}$$\n",
        "\n",
        "Ahora se verifica que $\\begin{pmatrix}-1.6514598165520933 \\\\ 1 \\end{pmatrix}$ sí es un vector propio. Bueno, hasta donde las aproximaciones lo permitan."
      ]
    },
    {
      "cell_type": "code",
      "execution_count": null,
      "metadata": {
        "colab": {
          "base_uri": "https://localhost:8080/"
        },
        "id": "PTeNyCNa1CZv",
        "outputId": "ff622782-2f60-4d46-d524-19dd3216f9a4"
      },
      "outputs": [
        {
          "data": {
            "text/plain": [
              "array([[-1.85044426],\n",
              "       [ 1.12049003]])"
            ]
          },
          "execution_count": 291,
          "metadata": {},
          "output_type": "execute_result"
        }
      ],
      "source": [
        "matriz_covarianza @ np.array([[-1.6514598165520933],[1]])"
      ]
    },
    {
      "cell_type": "code",
      "execution_count": null,
      "metadata": {
        "colab": {
          "base_uri": "https://localhost:8080/"
        },
        "id": "UjzzvSk81CZv",
        "outputId": "a0a4bfdd-e16b-40ae-91ab-35f9ff3fdcd1"
      },
      "outputs": [
        {
          "data": {
            "text/plain": [
              "array([[-1.85044426],\n",
              "       [ 1.12049003]])"
            ]
          },
          "execution_count": 292,
          "metadata": {},
          "output_type": "execute_result"
        }
      ],
      "source": [
        "1.12049003270701 * np.array([[-1.6514598165520933],[1]])"
      ]
    },
    {
      "cell_type": "markdown",
      "metadata": {
        "id": "aTRW4ee_1CZv"
      },
      "source": [
        "Ahora se grafica el vector propio sobre los puntos."
      ]
    },
    {
      "cell_type": "code",
      "execution_count": null,
      "metadata": {
        "colab": {
          "base_uri": "https://localhost:8080/",
          "height": 193
        },
        "id": "OnrqaFbS1CZv",
        "outputId": "79c16f79-115b-42ae-e438-21d1458a1bd8"
      },
      "outputs": [
        {
          "data": {
            "text/plain": [
              "[<matplotlib.lines.Line2D at 0x1d0a5764a90>]"
            ]
          },
          "execution_count": 293,
          "metadata": {},
          "output_type": "execute_result"
        },
        {
          "data": {
            "image/png": "[encoded data removed]",
            "text/plain": [
              "<Figure size 360x576 with 1 Axes>"
            ]
          },
          "metadata": {
            "needs_background": "light"
          },
          "output_type": "display_data"
        }
      ],
      "source": [
        "fig = plt.figure(figsize=(5,8))\n",
        "\n",
        "ax = fig.add_subplot(311, aspect='auto')\n",
        "e2 = patches.Arrow(0,0,-1.593847973468874,1,width=0.4,color='green',zorder=3)\n",
        "ax.add_patch(e2)\n",
        "\n",
        "plt.plot(puntos_centrados[0,:], puntos_centrados[1,:], '.', color='gray')"
      ]
    },
    {
      "cell_type": "markdown",
      "metadata": {
        "id": "DhLRJYMmYJ36"
      },
      "source": [
        "Finalmente se grafica el subespacio sobre los puntos."
      ]
    },
    {
      "cell_type": "code",
      "execution_count": null,
      "metadata": {
        "colab": {
          "base_uri": "https://localhost:8080/",
          "height": 193
        },
        "id": "A8dZMU3u1CZv",
        "outputId": "917fbd07-0ea8-4545-fef2-100771e43629"
      },
      "outputs": [
        {
          "data": {
            "text/plain": [
              "[<matplotlib.lines.Line2D at 0x1d0a57bed00>]"
            ]
          },
          "execution_count": 294,
          "metadata": {},
          "output_type": "execute_result"
        },
        {
          "data": {
            "image/png": "[encoded data removed]",
            "text/plain": [
              "<Figure size 360x576 with 1 Axes>"
            ]
          },
          "metadata": {
            "needs_background": "light"
          },
          "output_type": "display_data"
        }
      ],
      "source": [
        "fig = plt.figure(figsize=(5,8))\n",
        "\n",
        "ax = fig.add_subplot(311, aspect='auto')\n",
        "r1 = patches.Rectangle((1.5*-1.593847973468874,1.5*1), 6, 0,\n",
        "                     angle=np.arctan(1/-1.593847973468874)*180/np.pi, linewidth=2, fill=False, zorder=4, color='r')\n",
        "ax.add_patch(r1)\n",
        "plt.plot(puntos_centrados[0,:], puntos_centrados[1,:], '.', color='gray')"
      ]
    },
    {
      "cell_type": "markdown",
      "metadata": {
        "id": "TJUg1uJk2ZZB"
      },
      "source": [
        "El anterior procedimiento se conoce como el análisis de componentes principales (PCA). Observe que sólo obtuvimos el vector propio del mayor valor propio. Los mayores valores propios indican cuales componentes son principales.\n",
        "\n",
        "En este caso teníamos puntos en $\\mathbb{R}^2$, pero este procedimiento se puede extender a    $\\mathbb{R}^k$"
      ]
    },
    {
      "cell_type": "markdown",
      "source": [
        "# 7. **Step-by-Step Singular Value Decomposition (SVD)**  \n",
        "\n",
        "Singular Value Decomposition (SVD) factorizes a matrix $A$ into three matrices:  \n",
        "\n",
        "$$\n",
        "A = U \\Sigma V^T\n",
        "$$  \n",
        "\n",
        "where:  \n",
        "- $U$ is an **orthogonal** (or unitary) matrix containing the **left singular vectors**.  \n",
        "- $\\Sigma$ is a **diagonal matrix** containing the **singular values**.  \n",
        "- $V^T$ is an **orthogonal** (or unitary) matrix containing the **right singular vectors**.  \n",
        "\n",
        "---\n",
        "\n",
        "## 7.1 **Step by step algorithm**\n",
        "\n",
        "### 7.1.1 **Compute $A^T A$ and $A A^T$**  \n",
        "\n",
        "To find $V$ and $U$, we compute:  \n",
        "\n",
        "$$\n",
        "A^T A\n",
        "$$  \n",
        "\n",
        "and  \n",
        "\n",
        "$$\n",
        "A A^T\n",
        "$$  \n",
        "\n",
        "These matrices are **symmetric**, and their eigenvectors give us $V$ and $U$, respectively.  \n",
        "\n",
        "\n",
        "\n",
        "### 7.1.2 **Compute Eigenvalues & Eigenvectors**  \n",
        "\n",
        "Solve the **eigenvalue problems**:  \n",
        "\n",
        "$$\n",
        "A^T A v_i = \\lambda_i v_i\n",
        "$$  \n",
        "\n",
        "$$\n",
        "A A^T u_i = \\lambda_i u_i\n",
        "$$  \n",
        "\n",
        "where:  \n",
        "- The **eigenvectors** $v_i$ of $A^T A$ form the columns of $V$.  \n",
        "- The **eigenvectors** $u_i$ of $A A^T$ form the columns of $U$.  \n",
        "- The **eigenvalues** $\\lambda_i$ are used to compute the **singular values**:  \n",
        "\n",
        "$$\n",
        "\\sigma_i = \\sqrt{\\lambda_i}\n",
        "$$  \n",
        "\n",
        "Both $A^T A$ and $A A^T$ share the same nonzero eigenvalues $\\lambda_i$.\n",
        "\n",
        "\n",
        "\n",
        "### 7.1.3 **Construct the Matrices $U$, $\\Sigma$, and $V^T$**  \n",
        "\n",
        "- The **columns of $U$** are the **eigenvectors of $A A^T$**.  \n",
        "- The **columns of $V$** are the **eigenvectors of $A^T A$**.  \n",
        "- The **singular values** $\\sigma_i$ are placed in the **diagonal matrix $\\Sigma$**.  \n",
        "\n",
        "\n",
        "\n",
        "### 7.1.4 **Verify the Decomposition**  \n",
        "\n",
        "Check that:  \n",
        "\n",
        "$$\n",
        "A = U \\Sigma V^T\n",
        "$$  \n",
        "\n",
        "This confirms that $U$ and $V$ are **orthogonal matrices**, and $\\Sigma$ contains **non-negative singular values** sorted in descending order.  \n",
        "\n",
        "\n",
        "\n",
        "### 7.1.5 **Applications of SVD**  \n",
        "\n",
        "- **Dimensionality Reduction (PCA)**: The top $k$ singular values capture most of the variance.  \n",
        "- **Pseudo-Inverse Computation**: $A^+ = V \\Sigma^+ U^T$.  \n",
        "- **Low-Rank Approximation**: Approximating $A$ using only the top $k$ singular values.  \n",
        "\n",
        "---\n",
        "\n",
        "# 8 **How Is SVD Used in PCA?**  \n",
        "\n",
        "Principal Component Analysis (PCA) is used for **dimensionality reduction**, and it is directly related to SVD.  \n",
        "\n",
        "---\n",
        "\n",
        "## 8.1 **Step-by-Step PCA Using SVD**  \n",
        "\n",
        "### 8.1.1 **Center the Data**  \n",
        "Subtract the mean from each feature:  \n",
        "\n",
        "$$\n",
        "X_{\\text{centered}} = X - \\text{mean}(X)\n",
        "$$  \n",
        "\n",
        "### 8.1.2 **Compute SVD**  \n",
        "\n",
        "$$\n",
        "X = U \\Sigma V^T\n",
        "$$  \n",
        "\n",
        "### 8.1.3 **Select the Top $k$ Singular Values and Vectors**  \n",
        "- The first **$k$ columns of $U$** give the **principal components**.  \n",
        "- The **first $k$ singular values in $\\Sigma$** show how much variance each component explains.  \n",
        "\n",
        "### 8.1.4 **Project Data onto the New Subspace**  \n",
        "\n",
        "$$\n",
        "Z = X V_k\n",
        "$$  \n",
        "\n",
        "where $V_k$ contains the **top $k$ right singular vectors**.  \n",
        "\n",
        "\n",
        "---\n",
        "\n",
        "## 8.2 **Why Use SVD Instead of Covariance?**\n",
        "* **Numerical Stability**:  SVD is more stable than computing eigenvalues of Covariance matrix.\n",
        "* **Works for Any Matrix**:  PCA via covariance $A$ is full-rank. SVD does not have this issue.\n"
      ],
      "metadata": {
        "id": "sPlEGO3Wcood"
      }
    }
  ]
}