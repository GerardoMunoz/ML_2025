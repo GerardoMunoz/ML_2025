{
  "nbformat": 4,
  "nbformat_minor": 0,
  "metadata": {
    "colab": {
      "provenance": [],
      "authorship_tag": "ABX9TyPGUSFrz5u2Q1cIZk/GThei",
      "include_colab_link": true
    },
    "kernelspec": {
      "name": "python3",
      "display_name": "Python 3"
    },
    "language_info": {
      "name": "python"
    }
  },
  "cells": [
    {
      "cell_type": "markdown",
      "metadata": {
        "id": "view-in-github",
        "colab_type": "text"
      },
      "source": [
        "<a href=\"https://colab.research.google.com/github/GerardoMunoz/ML_2025/blob/main/Perceptron_3_inputs.ipynb\" target=\"_parent\"><img src=\"https://colab.research.google.com/assets/colab-badge.svg\" alt=\"Open In Colab\"/></a>"
      ]
    },
    {
      "cell_type": "code",
      "source": [],
      "metadata": {
        "id": "9afx09PEX7sj"
      },
      "execution_count": 19,
      "outputs": []
    },
    {
      "cell_type": "markdown",
      "source": [
        "# **Analyzing Order Completion Time in a Fast-Food Restaurant**\n",
        "\n",
        "## **Introduction**\n",
        "In a fast-food restaurant, a customer records the time it takes to receive their order each time they visit. After visiting **10 times**, they plot the number of  hamburgers, fries and drinks ordered against the wait time. The goal is to understand the relationship between the ordered and the time required for order completion.\n",
        "\n",
        "## **Collected Data**\n",
        "Below is the recorded data from the customer's visits:\n",
        "\n",
        "| **Number of Hamburgers Ordered (\\( x \\))** | **Time to Get Called (\\( y \\))** (in minutes) |\n",
        "|------------------|------------------|\n",
        "| $x_1$=1  | $y_{r1}$=4.8  |\n",
        "| $x_2$=2  | $y_{r2}$=7.2  |\n",
        "| $x_3$=3  | $y_{r3}$=9.0  |\n",
        "| $x_4$=2  | $y_{r4}$=6.7  |\n",
        "| $x_5$=4  | $y_{r5}$=11.2 |\n",
        "| $x_6$=5  | $y_{r6}$=13.3 |\n",
        "| $x_7$=3  | $y_{r7}$=9.5  |\n",
        "| $x_8$=6  | $y_{r8}$=15.1 |\n",
        "| $x_9$=5  | $y_{r9}$=12.6 |\n",
        "| $x_{10}$=7  | $y_{r10}$=17.5 |\n",
        "\n",
        "\n",
        "# **Analyzing Order Completion Time in a Fast-Food Restaurant**\n",
        "\n",
        "## **Introduction**\n",
        "In a fast-food restaurant, a customer records the time it takes to receive their order each time they visit. Over **10 visits**, they recorded the number of hamburgers, fries, and drinks ordered, along with the corresponding wait time. The goal is to understand the relationship between the number of items ordered and the time required for order completion.\n",
        "\n",
        "## **Collected Data**\n",
        "The following table shows the recorded data from the customer's visits.\n",
        "\n",
        "| **Hamburgers ($ x_h $)** | **Fries ($ x_f $)** | **Drinks ($ x_d $)** | **Time ($ y_r $)**  |\n",
        "|------------------|------------------|------------------|------------------|\n",
        "| 1  | 1  | 1  | 9.3  |\n",
        "| 2  | 0  | 2  | 9.7  |\n",
        "| 3  | 2  | 1  | 13.5  |\n",
        "| 2  | 1  | 1  | 10.8  |\n",
        "| 4  | 3  | 2  | 19.2  |\n",
        "| 5  | 2  | 1  | 18.6  |\n",
        "| 3  | 2  | 3  | 15.9  |\n",
        "| 6  | 4  | 2  | 25.5  |\n",
        "| 5  | 3  | 1  | 22.8  |\n",
        "| 7  | 5  | 3  | 32.4  |\n",
        "\n",
        "The r in $y_r$ refers to the real data, instead of $y_p$ for the predicted data.\n",
        "\n",
        "\n"
      ],
      "metadata": {
        "id": "on2bESkZIzoE"
      }
    },
    {
      "cell_type": "markdown",
      "source": [
        "We will approximate to the function\n",
        "\n",
        " $y_p= m_h x_h + m_f x_f + m_d x_d + b$\n",
        "\n",
        " so we need to update the vector notion.\n",
        "\n",
        "##  Expressing in Vector Form**  \n",
        "Now, we can write our equations using vector notation for better efficiency in computations. We are going to use affine vectors and matrices.\n",
        "\n",
        "$\\mathbf{x} = \\begin{bmatrix} x_h & x_f & x_d & 1 \\end{bmatrix}$\n",
        "\n",
        "$\\mathbf{y_r} = \\begin{bmatrix} y_r & 1 \\end{bmatrix}$\n",
        "\n",
        "$\\mathbf{y_p} = \\begin{bmatrix} y_p & 1 \\end{bmatrix}$\n",
        "\n",
        "$\\mathbf{W} = \\begin{bmatrix} m_h & 0 \\\\ m_f & 0 \\\\ m_d & 0 \\\\ b & 1 \\end{bmatrix}$\n",
        "\n",
        "So, the line equation is:\n",
        "\n",
        "$\\mathbf{y_p} = \\mathbf{x} \\mathbf{W}$\n",
        "\n",
        "$\\begin{bmatrix} y_p & 1 \\end{bmatrix} =\n",
        "\\begin{bmatrix} x_h & x_f & x_d & 1 \\end{bmatrix}\n",
        "\\begin{bmatrix} m_h & 0 \\\\ m_f & 0 \\\\ m_d & 0 \\\\ b & 1 \\end{bmatrix}$\n",
        "\n",
        "$\\begin{bmatrix} y_p & 1 \\end{bmatrix} =\n",
        "\\begin{bmatrix}m_h x_h + m_f x_f + m_d x_d + b  & 1 \\end{bmatrix} $\n",
        "\n",
        "$y_p= m_h x_h + m_f x_f + m_d x_d + b$,  $\\ \\ \\ \\ 1=1$\n",
        "\n",
        "\n",
        "\n",
        "The points an the error matrices are:\n",
        "\n",
        "$\\mathbf{X}= \\begin{bmatrix} x_{h1} & x_{f1} & x_{d1} & 1 \\\\  x_{h2} & x_{f2} & x_{d2}  & 1 \\\\ \\vdots & \\vdots \\\\  x_{hn} & x_{fn} & x_{dn}  & 1 \\end{bmatrix}$\n",
        "\n",
        "$\\mathbf{Y_r}= \\begin{bmatrix} y_{r1} & 1 \\\\ y_{r2} & 1 \\\\ \\vdots & \\vdots \\\\ y_{rn} & 1 \\end{bmatrix}$\n",
        "\n",
        "\n",
        "$\\mathbf{Y_p} = \\mathbf{X} \\mathbf{W}$\n",
        "\n",
        "\n",
        "$\\mathbf{E}= \\mathbf{Y_r}-\\mathbf{Y_p}=\n",
        "\\begin{bmatrix} y_{r1} - y_{p1} & 1-1 \\\\ y_{r2}  - y_{p1} & 1-1  \\\\ \\vdots & \\vdots \\\\ y_{rn}  - y_{p1} & 1-1  \\end{bmatrix}=\\begin{bmatrix} e_1 & 0 \\\\ e_2 & 0 \\\\ \\vdots & \\vdots \\\\ e_n & 0 \\end{bmatrix}$\n",
        "\n",
        "Now we are goint to see how to update $\\mathbf{W}$\n",
        "\n",
        "$\\mathbf{W} += \\eta \\mathbf{X}^T \\mathbf{E}$\n",
        "\n",
        "\n",
        "\n",
        "$ \\begin{bmatrix} m_h & 0 \\\\ m_f & 0 \\\\ m_d & 0 \\\\ b & 1 \\end{bmatrix}+= \\eta\n",
        "\\begin{bmatrix}\n",
        "x_{h1} &  x_{h2}  & \\cdots & x_{hn} \\\\\n",
        "x_{f1} &  x_{f2}  & \\cdots & x_{fn} \\\\\n",
        "x_{d1} &  x_{d2}  & \\cdots & x_{dn} \\\\  \n",
        "1 & 1 &\\cdots & 1 \\end{bmatrix}\n",
        "\\begin{bmatrix} e_1 & 0 \\\\ e_2 & 0 \\\\\n",
        "\\vdots & \\vdots \\\\ e_n & 0 \\end{bmatrix}$\n",
        "\n",
        "$\\begin{bmatrix} m_h & 0 \\\\ m_f & 0 \\\\ m_d & 0 \\\\ b & 1 \\end{bmatrix} +=\\eta\\begin{bmatrix} e_1 x_{h1} + e_2 x_{h2} + \\cdots + e_n x_{hn} & 0 \\\\ e_1 x_{f1} + e_2 x_{f2} + \\cdots + e_n x_{fn} & 0 \\\\ e_1 x_{d1} + e_2 x_{d2} + \\cdots + e_n x_{dn} & 0 \\\\ e_1 + e_2 + \\cdots\n",
        " + e_n & 0 \\end{bmatrix} $\n"
      ],
      "metadata": {
        "id": "FBP05UsElBF7"
      }
    },
    {
      "cell_type": "code",
      "source": [
        "import numpy as np\n",
        "\n",
        "# Original inputs with an added 1 at the tail\n",
        "X = np.array([\n",
        "    [1, 1, 1, 1],\n",
        "    [2, 0, 2, 1],\n",
        "    [3, 2, 1, 1],\n",
        "    [2, 1, 1, 1],\n",
        "    [4, 3, 2, 1],\n",
        "    [5, 2, 1, 1],\n",
        "    [3, 2, 3, 1],\n",
        "    [6, 4, 2, 1],\n",
        "    [5, 3, 1, 1],\n",
        "    [7, 5, 3, 1]\n",
        "])\n",
        "\n",
        "# Output converted to a column vector with 1 at the end of each row\n",
        "Y_r = np.array([\n",
        "    [9.3, 1],\n",
        "    [8.7, 1],\n",
        "    [15.5, 1],\n",
        "    [10.8, 1],\n",
        "    [22.2, 1],\n",
        "    [19.6, 1],\n",
        "    [18.9, 1],\n",
        "    [29.5, 1],\n",
        "    [22.8, 1],\n",
        "    [35.4, 1]\n",
        "])\n",
        "\n"
      ],
      "metadata": {
        "id": "t16pU89eCiSa"
      },
      "execution_count": 20,
      "outputs": []
    },
    {
      "cell_type": "code",
      "source": [],
      "metadata": {
        "id": "ZH-3HTgl4H6D"
      },
      "execution_count": 20,
      "outputs": []
    },
    {
      "cell_type": "code",
      "source": [
        "Y_= 2*X[:,0]+ 3*X[:,1]+ 1*X[:,2]+3\n",
        "Y_"
      ],
      "metadata": {
        "colab": {
          "base_uri": "https://localhost:8080/"
        },
        "id": "BTym4Fdv3yOo",
        "outputId": "be45dc06-023f-4a28-c606-8d04175bd691"
      },
      "execution_count": 21,
      "outputs": [
        {
          "output_type": "execute_result",
          "data": {
            "text/plain": [
              "array([ 9,  9, 16, 11, 22, 20, 18, 29, 23, 35])"
            ]
          },
          "metadata": {},
          "execution_count": 21
        }
      ]
    },
    {
      "cell_type": "code",
      "source": [
        "Y_r[:,0]-Y_"
      ],
      "metadata": {
        "colab": {
          "base_uri": "https://localhost:8080/"
        },
        "id": "ncJwRZACBP5a",
        "outputId": "8ce4cefa-cbe1-4f1f-c26d-45a4e2c8b7a6"
      },
      "execution_count": 22,
      "outputs": [
        {
          "output_type": "execute_result",
          "data": {
            "text/plain": [
              "array([ 0.3, -0.3, -0.5, -0.2,  0.2, -0.4,  0.9,  0.5, -0.2,  0.4])"
            ]
          },
          "metadata": {},
          "execution_count": 22
        }
      ]
    },
    {
      "cell_type": "code",
      "source": [
        "# Initialize parameters\n",
        "m_h = 1.5  # Initial slope\n",
        "m_f = 1.8  # Initial slope\n",
        "m_d = 1.2  # Initial slope\n",
        "b = -1  # Initial intercept\n",
        "learning_rate = 0.01\n",
        "iterations = 3000\n",
        "W = np.array([\n",
        "    [m_h, 0],\n",
        "    [m_f, 0],\n",
        "    [m_d, 0],\n",
        "    [b, 1]\n",
        "])\n",
        "Y_p =X @ W\n",
        "E = Y_r - Y_p\n",
        "print(f'Error: {max(abs(E[:,0]))}')"
      ],
      "metadata": {
        "id": "wpAUYzglkTWs",
        "colab": {
          "base_uri": "https://localhost:8080/"
        },
        "outputId": "43f49812-95ea-49ae-9f33-3c2a7c7a1017"
      },
      "execution_count": 23,
      "outputs": [
        {
          "output_type": "stream",
          "name": "stdout",
          "text": [
            "Error: 13.299999999999997\n"
          ]
        }
      ]
    },
    {
      "cell_type": "code",
      "source": [
        "for i in range(iterations):\n",
        "    # Update values\n",
        "    E = Y_r - Y_p\n",
        "    W = W + learning_rate * X.T @ E\n",
        "    if i%100 == 0:\n",
        "        print(f'Error: {max(abs(E[:,0]))}, m: {W[0,0]}, b: {W[1,0]}')\n",
        "    Y_p = X @ W"
      ],
      "metadata": {
        "colab": {
          "base_uri": "https://localhost:8080/"
        },
        "id": "Vb7O0cN2s9SK",
        "outputId": "ab09562b-d8c8-4107-8f80-fdc039547eb6"
      },
      "execution_count": 24,
      "outputs": [
        {
          "output_type": "stream",
          "name": "stdout",
          "text": [
            "Error: 13.299999999999997, m: 5.143000000000001, b: 4.104\n",
            "Error: 6.990905051874888e+27, m: 1.1142443604312148e+27, b: 7.041497612300763e+26\n",
            "Error: 3.2782461417015055e+54, m: 5.225027730160142e+53, b: 3.3019705185574664e+53\n",
            "Error: 1.5372684489111486e+81, m: 2.45017302760922e+80, b: 1.5483935244650595e+80\n",
            "Error: 7.208715214993348e+107, m: 1.1489600008380687e+107, b: 7.260884048270472e+106\n",
            "Error: 3.3803838937619447e+134, m: 5.387819834152377e+133, b: 3.4048474324795727e+133\n",
            "Error: 1.5851639201168978e+161, m: 2.52651115305249e+160, b: 1.5966356109521098e+160\n",
            "Error: 7.433311519077197e+187, m: 1.1847572493119277e+187, b: 7.487105735906447e+186\n",
            "Error: 3.485703871910674e+214, m: 5.555683924455658e+213, b: 3.5109296019782064e+213\n",
            "Error: 1.634551633073689e+241, m: 2.6052276857880357e+240, b: 1.6463807384115326e+240\n",
            "Error: 7.664905394615005e+267, m: 1.2216698046697213e+267, b: 7.720375635800969e+266\n",
            "Error: 3.594305222278022e+294, m: 5.728778024982143e+293, b: 3.620316890695457e+293\n",
            "Error: nan, m: nan, b: nan\n",
            "Error: nan, m: nan, b: nan\n",
            "Error: nan, m: nan, b: nan\n",
            "Error: nan, m: nan, b: nan\n",
            "Error: nan, m: nan, b: nan\n",
            "Error: nan, m: nan, b: nan\n",
            "Error: nan, m: nan, b: nan\n",
            "Error: nan, m: nan, b: nan\n",
            "Error: nan, m: nan, b: nan\n",
            "Error: nan, m: nan, b: nan\n",
            "Error: nan, m: nan, b: nan\n",
            "Error: nan, m: nan, b: nan\n",
            "Error: nan, m: nan, b: nan\n",
            "Error: nan, m: nan, b: nan\n",
            "Error: nan, m: nan, b: nan\n",
            "Error: nan, m: nan, b: nan\n",
            "Error: nan, m: nan, b: nan\n",
            "Error: nan, m: nan, b: nan\n"
          ]
        },
        {
          "output_type": "stream",
          "name": "stderr",
          "text": [
            "<ipython-input-24-30bb3867fa12>:7: RuntimeWarning: overflow encountered in matmul\n",
            "  Y_p = X @ W\n",
            "<ipython-input-24-30bb3867fa12>:7: RuntimeWarning: invalid value encountered in matmul\n",
            "  Y_p = X @ W\n"
          ]
        }
      ]
    },
    {
      "cell_type": "markdown",
      "source": [
        "We need to normalize the data, each column is typically normalized individually to ensure all features contribute equally to the model.\n",
        "\n",
        "\n",
        "\n",
        "## **Common Normalization Techniques**\n",
        "There are two widely used methods:\n",
        "\n",
        "### **1. Min-Max Scaling (Normalization)**\n",
        "Scales values between **0 and 1** using the formula:\n",
        "\n",
        "$x' = \\frac{x - \\min(x)}{\\max(x) - \\min(x)}$\n",
        "\n",
        "\n",
        "\n",
        "### **2. Z-Score Standardization (Standardization)**\n",
        "Centers data around **0** with a standard deviation of **1** using:\n",
        "\n",
        "$x' = \\frac{x - \\mu}{\\sigma}$\n",
        "\n",
        "Where:\n",
        "- $ \\mu $ is the **mean** of the column.\n",
        "- $ \\sigma $ is the **standard deviation** of the column.\n",
        "\n",
        "\n",
        "\n",
        "\n",
        "\n"
      ],
      "metadata": {
        "id": "AG4Gcb6HNYhW"
      }
    },
    {
      "cell_type": "code",
      "source": [
        "import numpy as np\n",
        "\n",
        "import numpy as np\n",
        "\n",
        "def normalize_columns(data):\n",
        "    \"\"\"\n",
        "    Normalizes all columns in a NumPy array except the last column using Min-Max Scaling.\n",
        "    Stores min and max values for later restoration.\n",
        "\n",
        "    Parameters:\n",
        "        data (np.array): The input NumPy array.\n",
        "\n",
        "    Returns:\n",
        "        normalized_data (np.array): The normalized array.\n",
        "        min_max_values (list): List of (min, max) values for each column.\n",
        "    \"\"\"\n",
        "    normalized_data = data.astype(float).copy()\n",
        "    min_max_values = []  # Store min and max values for restoration\n",
        "\n",
        "    for col in range(data.shape[1] - 1):  # Ignore last column\n",
        "        min_val, max_val = data[:, col].min(), data[:, col].max()\n",
        "        normalized_data[:, col] = (data[:, col] - min_val) / (max_val - min_val)\n",
        "        min_max_values.append((min_val, max_val))\n",
        "\n",
        "    #min_max_values.append((None, None))  # Last column remains unchanged\n",
        "    return normalized_data, min_max_values\n",
        "\n",
        "\n",
        "def restore_columns(normalized_data, min_max_values):\n",
        "    \"\"\"\n",
        "    Restores the original values from the normalized data using stored min and max values.\n",
        "\n",
        "    Parameters:\n",
        "        normalized_data (np.array): The normalized array.\n",
        "        min_max_values (list): List of (min, max) values for each column.\n",
        "\n",
        "    Returns:\n",
        "        np.array: Restored original data.\n",
        "    \"\"\"\n",
        "    restored_data = normalized_data.astype(float).copy()\n",
        "\n",
        "    for col in range(normalized_data.shape[1] - 1):  # Ignore last column\n",
        "        min_val, max_val = min_max_values[col]\n",
        "        restored_data[:, col] = normalized_data[:, col] * (max_val - min_val) + min_val\n",
        "\n",
        "    return restored_data\n",
        "\n",
        "import numpy as np\n",
        "\n",
        "def denormalize_W(W_norm, X_limits, Y_limits):\n",
        "    \"\"\"\n",
        "    Denormalizes the weight matrix W using Min-Max Scaling limits.\n",
        "\n",
        "    Parameters:\n",
        "        W_norm (np.array): (n+1, 1) normalized weight matrix (including bias).\n",
        "        X_limits (list): List of (min, max) values for each input feature.\n",
        "        Y_limits (tuple): (min, max) values for the output variable.\n",
        "\n",
        "    Returns:\n",
        "        W_denorm (np.array): (n+1, 1) denormalized weight matrix.\n",
        "    \"\"\"\n",
        "    W_denorm = W_norm.copy()\n",
        "    num_features = len(X_limits)  # Number of input variables\n",
        "\n",
        "    # Extract min and max for output variable (Y)\n",
        "    y_min, y_max = Y_limits[0]\n",
        "\n",
        "    # Denormalize each coefficient\n",
        "    for i in range(num_features):\n",
        "        x_min, x_max = X_limits[i]\n",
        "        W_denorm[i, 0] = W_norm[i, 0] * (y_max - y_min) / (x_max - x_min)\n",
        "\n",
        "    # Denormalize bias term\n",
        "    b_denorm = W_norm[-1, 0] * (y_max - y_min) + y_min\n",
        "    for i in range(num_features):\n",
        "        x_min, _ = X_limits[i]\n",
        "        b_denorm -= W_denorm[i, 0] * x_min\n",
        "\n",
        "    W_denorm[-1, 0] = b_denorm  # Update bias in the matrix\n",
        "\n",
        "    return W_denorm\n",
        "\n",
        "\n",
        "# Example usage\n",
        "\n",
        "\n",
        "# Normalize the data\n",
        "X_n, X_limits = normalize_columns(X)\n",
        "Y_rn, Y_limits = normalize_columns(Y_r)\n",
        "\n",
        "# Restore the original data\n",
        "X_ = restore_columns(X_n, X_limits)\n",
        "\n",
        "print(\"Original Data:\\n\", X)\n",
        "print(\"\\nNormalized Data:\\n\", X_n)\n",
        "print(\"\\nRestored Data:\\n\", X_)\n",
        "print(\"\\nNormalization limits:\\n\", X_limits)\n"
      ],
      "metadata": {
        "colab": {
          "base_uri": "https://localhost:8080/"
        },
        "id": "iZwgymDIn8lO",
        "outputId": "a2c23f36-dfcf-49f0-a667-78749b5b26bf"
      },
      "execution_count": 25,
      "outputs": [
        {
          "output_type": "stream",
          "name": "stdout",
          "text": [
            "Original Data:\n",
            " [[1 1 1 1]\n",
            " [2 0 2 1]\n",
            " [3 2 1 1]\n",
            " [2 1 1 1]\n",
            " [4 3 2 1]\n",
            " [5 2 1 1]\n",
            " [3 2 3 1]\n",
            " [6 4 2 1]\n",
            " [5 3 1 1]\n",
            " [7 5 3 1]]\n",
            "\n",
            "Normalized Data:\n",
            " [[0.         0.2        0.         1.        ]\n",
            " [0.16666667 0.         0.5        1.        ]\n",
            " [0.33333333 0.4        0.         1.        ]\n",
            " [0.16666667 0.2        0.         1.        ]\n",
            " [0.5        0.6        0.5        1.        ]\n",
            " [0.66666667 0.4        0.         1.        ]\n",
            " [0.33333333 0.4        1.         1.        ]\n",
            " [0.83333333 0.8        0.5        1.        ]\n",
            " [0.66666667 0.6        0.         1.        ]\n",
            " [1.         1.         1.         1.        ]]\n",
            "\n",
            "Restored Data:\n",
            " [[1. 1. 1. 1.]\n",
            " [2. 0. 2. 1.]\n",
            " [3. 2. 1. 1.]\n",
            " [2. 1. 1. 1.]\n",
            " [4. 3. 2. 1.]\n",
            " [5. 2. 1. 1.]\n",
            " [3. 2. 3. 1.]\n",
            " [6. 4. 2. 1.]\n",
            " [5. 3. 1. 1.]\n",
            " [7. 5. 3. 1.]]\n",
            "\n",
            "Normalization limits:\n",
            " [(1, 7), (0, 5), (1, 3)]\n"
          ]
        }
      ]
    },
    {
      "cell_type": "code",
      "source": [
        "W_n = np.array([\n",
        "    [m_h, 0],\n",
        "    [m_f, 0],\n",
        "    [m_d, 0],\n",
        "    [b, 1]\n",
        "])\n",
        "Y_pn =X_n @ W_n\n",
        "E_n = Y_rn - Y_pn\n",
        "print(f'Error: {max(abs(E_n[:,0]))}')"
      ],
      "metadata": {
        "colab": {
          "base_uri": "https://localhost:8080/"
        },
        "id": "31x0etvB1hGp",
        "outputId": "4dc34bf7-7928-4c2f-c3d6-bef69e909024"
      },
      "execution_count": 26,
      "outputs": [
        {
          "output_type": "stream",
          "name": "stdout",
          "text": [
            "Error: 2.5\n"
          ]
        }
      ]
    },
    {
      "cell_type": "code",
      "source": [
        "\n",
        "for i in range(iterations):\n",
        "    # Update values\n",
        "    E_n = Y_rn - Y_pn\n",
        "    W_n = W_n + learning_rate * X_n.T @ E_n\n",
        "    if i%100 == 0:\n",
        "        print(f'Error: {max(abs(E_n[:,0]))}, m: {W_n[0,0]}, b: {W_n[1,0]}')\n",
        "    Y_pn = X_n @ W_n"
      ],
      "metadata": {
        "colab": {
          "base_uri": "https://localhost:8080/"
        },
        "id": "n-lVC_G-mnKF",
        "outputId": "1fa299ed-5edf-4ad4-f70a-450a455186ff"
      },
      "execution_count": 27,
      "outputs": [
        {
          "output_type": "stream",
          "name": "stdout",
          "text": [
            "Error: 2.5, m: 1.4497156054931335, b: 1.751056479400749\n",
            "Error: 0.34757996175044914, m: 0.6190463352859336, b: 0.9611501238513626\n",
            "Error: 0.09624859719406897, m: 0.4308247524410763, b: 0.7819854323815847\n",
            "Error: 0.038585397834888915, m: 0.3717909530398695, b: 0.7207990478530942\n",
            "Error: 0.020147077880495967, m: 0.3536444232273951, b: 0.6962778576904617\n",
            "Error: 0.020268155992763326, m: 0.3493757904249272, b: 0.6842880324807201\n",
            "Error: 0.019822658661875714, m: 0.35001624021905164, b: 0.6770244877457782\n",
            "Error: 0.019385224748425467, m: 0.35237328087325137, b: 0.6717494108526556\n",
            "Error: 0.019017287411618566, m: 0.35525454437102766, b: 0.6674330909442346\n",
            "Error: 0.018702854848725747, m: 0.3582046899190812, b: 0.6636637520325858\n",
            "Error: 0.01842506154865503, m: 0.3610518402349865, b: 0.660265524295772\n",
            "Error: 0.018173916758695563, m: 0.3637358783357618, b: 0.6571562385417213\n",
            "Error: 0.017943990598018877, m: 0.3662411250845541, b: 0.6542921955007551\n",
            "Error: 0.01773218046361974, m: 0.3685693805596489, b: 0.6516461006982736\n",
            "Error: 0.017536489326442195, m: 0.37072901250453694, b: 0.6491980750186246\n",
            "Error: 0.01735544859440502, m: 0.3727305311082044, b: 0.6469319294533408\n",
            "Error: 0.01718785998017297, m: 0.3745848097882234, b: 0.6448335871434598\n",
            "Error: 0.017032681630586577, m: 0.37630238979293573, b: 0.6428903894000545\n",
            "Error: 0.016888976968290448, m: 0.3778932285882652, b: 0.6410907688618683\n",
            "Error: 0.016755890356710934, m: 0.37936662882148553, b: 0.639424077113049\n",
            "Error: 0.016632634230584198, m: 0.38073123947273696, b: 0.637880478867289\n",
            "Error: 0.016518481208071367, m: 0.3819950846001846, b: 0.6364508762220632\n",
            "Error: 0.01641275846045276, m: 0.38316560141054096, b: 0.6351268477107506\n",
            "Error: 0.016314843192341555, m: 0.38424968025407585, b: 0.6339005956630057\n",
            "Error: 0.01622415874351174, m: 0.3852537036254672, b: 0.6327648990275917\n",
            "Error: 0.016140171097783318, m: 0.38618358309523193, b: 0.6317130703308211\n",
            "Error: 0.01606238569905405, m: 0.3870447938493076, b: 0.6307389160831367\n",
            "Error: 0.015990344522875677, m: 0.3878424068167801, b: 0.629836700221121\n",
            "Error: 0.015923623372737228, m: 0.3885811184825008, b: 0.6290011102953683\n",
            "Error: 0.015861829379504644, m: 0.3892652785218942, b: 0.6282272261743812\n"
          ]
        }
      ]
    },
    {
      "cell_type": "code",
      "source": [
        "W_n"
      ],
      "metadata": {
        "colab": {
          "base_uri": "https://localhost:8080/"
        },
        "id": "Q3TvN7gw1K9a",
        "outputId": "35a15c44-277a-4547-cc00-47d7243a2fb6"
      },
      "execution_count": 28,
      "outputs": [
        {
          "output_type": "execute_result",
          "data": {
            "text/plain": [
              "array([[ 0.38989282,  0.        ],\n",
              "       [ 0.62751739,  0.        ],\n",
              "       [ 0.10215826,  0.        ],\n",
              "       [-0.11048498,  1.        ]])"
            ]
          },
          "metadata": {},
          "execution_count": 28
        }
      ]
    },
    {
      "cell_type": "code",
      "source": [
        "W_=denormalize_W(W_n, X_limits, Y_limits)\n",
        "W_"
      ],
      "metadata": {
        "colab": {
          "base_uri": "https://localhost:8080/"
        },
        "id": "uQ-3E9UfmnHG",
        "outputId": "522886c6-dccc-4b4f-f869-42ff69ecb551"
      },
      "execution_count": 29,
      "outputs": [
        {
          "output_type": "execute_result",
          "data": {
            "text/plain": [
              "array([[1.73502303, 0.        ],\n",
              "       [3.35094286, 0.        ],\n",
              "       [1.36381273, 0.        ],\n",
              "       [2.65121523, 1.        ]])"
            ]
          },
          "metadata": {},
          "execution_count": 29
        }
      ]
    },
    {
      "cell_type": "code",
      "source": [
        "Y_ =X @ W_\n",
        "E_ = Y_r - Y_\n",
        "print(f'Error: {max(abs(E_[:,0]))}')"
      ],
      "metadata": {
        "colab": {
          "base_uri": "https://localhost:8080/"
        },
        "id": "22m76hGQmnEV",
        "outputId": "6d48eb5d-927c-4411-cbe0-c2f9baa34f66"
      },
      "execution_count": 30,
      "outputs": [
        {
          "output_type": "stream",
          "name": "stdout",
          "text": [
            "Error: 0.4219827849420277\n"
          ]
        }
      ]
    },
    {
      "cell_type": "code",
      "source": [
        "W__ = np.array([\n",
        "    [2, 0],\n",
        "    [3, 0],\n",
        "    [1, 0],\n",
        "    [3, 1]\n",
        "])\n",
        "Y__ =X @ W__\n",
        "E__ = Y_r - Y__\n",
        "print(f'Error: {max(abs(E__[:,0]))}')"
      ],
      "metadata": {
        "colab": {
          "base_uri": "https://localhost:8080/"
        },
        "id": "lL7yEkDW2quY",
        "outputId": "1343789b-e3a5-4ac1-8e7d-804e0bc7c1cb"
      },
      "execution_count": 31,
      "outputs": [
        {
          "output_type": "stream",
          "name": "stdout",
          "text": [
            "Error: 0.8999999999999986\n"
          ]
        }
      ]
    },
    {
      "cell_type": "markdown",
      "source": [
        "The error of the approximation (trained model) is smaller than the error of the function that create the data (without noise)"
      ],
      "metadata": {
        "id": "zVNFBNsUSoSi"
      }
    },
    {
      "cell_type": "code",
      "source": [
        "# Aproximation\n",
        "Y_"
      ],
      "metadata": {
        "colab": {
          "base_uri": "https://localhost:8080/"
        },
        "id": "wB5X17V0RjNR",
        "outputId": "500b95d8-9f7a-4dd8-d5fa-97eaa946b052"
      },
      "execution_count": 36,
      "outputs": [
        {
          "output_type": "execute_result",
          "data": {
            "text/plain": [
              "array([[ 9.10099386,  1.        ],\n",
              "       [ 8.84888676,  1.        ],\n",
              "       [15.92198278,  1.        ],\n",
              "       [10.83601689,  1.        ],\n",
              "       [22.37176141,  1.        ],\n",
              "       [19.39202885,  1.        ],\n",
              "       [18.64960825,  1.        ],\n",
              "       [29.19275034,  1.        ],\n",
              "       [22.74297171,  1.        ],\n",
              "       [35.64252897,  1.        ]])"
            ]
          },
          "metadata": {},
          "execution_count": 36
        }
      ]
    },
    {
      "cell_type": "code",
      "source": [
        "# Data created with noise\n",
        "Y_r"
      ],
      "metadata": {
        "colab": {
          "base_uri": "https://localhost:8080/"
        },
        "id": "DUCB-oCDBugm",
        "outputId": "a8e200aa-0395-4e45-bfcf-bfb9761c6462"
      },
      "execution_count": 32,
      "outputs": [
        {
          "output_type": "execute_result",
          "data": {
            "text/plain": [
              "array([[ 9.3,  1. ],\n",
              "       [ 8.7,  1. ],\n",
              "       [15.5,  1. ],\n",
              "       [10.8,  1. ],\n",
              "       [22.2,  1. ],\n",
              "       [19.6,  1. ],\n",
              "       [18.9,  1. ],\n",
              "       [29.5,  1. ],\n",
              "       [22.8,  1. ],\n",
              "       [35.4,  1. ]])"
            ]
          },
          "metadata": {},
          "execution_count": 32
        }
      ]
    },
    {
      "cell_type": "code",
      "source": [
        "# Data with out noise\n",
        "Y__"
      ],
      "metadata": {
        "colab": {
          "base_uri": "https://localhost:8080/"
        },
        "id": "XE2PHp1oByiE",
        "outputId": "f796c3ca-f167-45e5-f754-a9e8a26cff21"
      },
      "execution_count": 35,
      "outputs": [
        {
          "output_type": "execute_result",
          "data": {
            "text/plain": [
              "array([[ 9,  1],\n",
              "       [ 9,  1],\n",
              "       [16,  1],\n",
              "       [11,  1],\n",
              "       [22,  1],\n",
              "       [20,  1],\n",
              "       [18,  1],\n",
              "       [29,  1],\n",
              "       [23,  1],\n",
              "       [35,  1]])"
            ]
          },
          "metadata": {},
          "execution_count": 35
        }
      ]
    }
  ]
}