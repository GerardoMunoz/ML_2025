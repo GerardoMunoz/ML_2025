{
  "nbformat": 4,
  "nbformat_minor": 0,
  "metadata": {
    "colab": {
      "provenance": [],
      "authorship_tag": "ABX9TyOdw/uLuB+0nv5Z8RaQexL5",
      "include_colab_link": true
    },
    "kernelspec": {
      "name": "python3",
      "display_name": "Python 3"
    },
    "language_info": {
      "name": "python"
    }
  },
  "cells": [
    {
      "cell_type": "markdown",
      "metadata": {
        "id": "view-in-github",
        "colab_type": "text"
      },
      "source": [
        "<a href=\"https://colab.research.google.com/github/GerardoMunoz/ML_2025/blob/main/Probalities.ipynb\" target=\"_parent\"><img src=\"https://colab.research.google.com/assets/colab-badge.svg\" alt=\"Open In Colab\"/></a>"
      ]
    },
    {
      "cell_type": "markdown",
      "source": [
        "# Probability in Classification\n",
        "Probability plays a crucial role in classification tasks, helping to determine how likely a data point belongs to a particular class. In models like Naïve Bayes, probability is used to:\n",
        "\n",
        "* Estimate the probability of words occurring in each category.\n",
        "\n",
        "* Compute the posterior probability of a document belonging to a specific class.\n",
        "\n",
        "* Predict the most probable class based on these probabilities.\n",
        "\n",
        "\n",
        "\n",
        "\n",
        "\n",
        "\n",
        "## The 20 Newsgroups Dataset\n",
        "The 20 Newsgroups dataset is a popular benchmark for text classification tasks. It consists of 20 different categories of newsgroup posts, covering topics such as sports, politics, religion, science, and technology. Each article is labeled with one of these categories, making it an excellent dataset for training and evaluating text classification models.\n",
        "\n",
        "This dataset is widely used in natural language processing (NLP) and machine learning, particularly for:\n",
        "\n",
        "* Document classification (e.g., determining the topic of a given text)\n",
        "\n",
        "* Feature extraction techniques (e.g., TF-IDF, Bag of Words, word embeddings)\n",
        "\n",
        "* Supervised learning experiments (e.g., Naïve Bayes, SVM, Neural Networks)\n",
        "\n",
        "Next we will explore some aspects of this dataset"
      ],
      "metadata": {
        "id": "1NsUh-mQC3xq"
      }
    },
    {
      "cell_type": "code",
      "source": [
        "from sklearn.datasets import fetch_20newsgroups\n",
        "\n",
        "# Load the full dataset\n",
        "newsgroups = fetch_20newsgroups(subset='all')\n",
        "\n",
        "# Print total number of news articles\n",
        "print(f\"Total number of news articles: {len(newsgroups.data)}\")"
      ],
      "metadata": {
        "colab": {
          "base_uri": "https://localhost:8080/"
        },
        "id": "kXLHDdKDL2Ks",
        "outputId": "2ceaf0a4-bb36-4eb4-cfdf-c9be56ef1c95"
      },
      "execution_count": 1,
      "outputs": [
        {
          "output_type": "stream",
          "name": "stdout",
          "text": [
            "Total number of news articles: 18846\n"
          ]
        }
      ]
    },
    {
      "cell_type": "code",
      "source": [
        "type(newsgroups.data)"
      ],
      "metadata": {
        "colab": {
          "base_uri": "https://localhost:8080/"
        },
        "id": "dgVOrDG5L2Hn",
        "outputId": "be29f056-2a54-40fd-c795-5479521a9fb8"
      },
      "execution_count": 2,
      "outputs": [
        {
          "output_type": "execute_result",
          "data": {
            "text/plain": [
              "list"
            ]
          },
          "metadata": {},
          "execution_count": 2
        }
      ]
    },
    {
      "cell_type": "code",
      "source": [
        "len(newsgroups.data)"
      ],
      "metadata": {
        "colab": {
          "base_uri": "https://localhost:8080/"
        },
        "id": "5_YbtKSTOpw4",
        "outputId": "4125d463-7561-4d2a-f128-fe3af2436177"
      },
      "execution_count": 3,
      "outputs": [
        {
          "output_type": "execute_result",
          "data": {
            "text/plain": [
              "18846"
            ]
          },
          "metadata": {},
          "execution_count": 3
        }
      ]
    },
    {
      "cell_type": "code",
      "source": [
        "print(newsgroups.data[0])"
      ],
      "metadata": {
        "colab": {
          "base_uri": "https://localhost:8080/"
        },
        "id": "iNWnRUBhL-ys",
        "outputId": "21a3a73c-e60c-405f-9bd9-7e535fbde9de"
      },
      "execution_count": 4,
      "outputs": [
        {
          "output_type": "stream",
          "name": "stdout",
          "text": [
            "From: Mamatha Devineni Ratnam <mr47+@andrew.cmu.edu>\n",
            "Subject: Pens fans reactions\n",
            "Organization: Post Office, Carnegie Mellon, Pittsburgh, PA\n",
            "Lines: 12\n",
            "NNTP-Posting-Host: po4.andrew.cmu.edu\n",
            "\n",
            "\n",
            "\n",
            "I am sure some bashers of Pens fans are pretty confused about the lack\n",
            "of any kind of posts about the recent Pens massacre of the Devils. Actually,\n",
            "I am  bit puzzled too and a bit relieved. However, I am going to put an end\n",
            "to non-PIttsburghers' relief with a bit of praise for the Pens. Man, they\n",
            "are killing those Devils worse than I thought. Jagr just showed you why\n",
            "he is much better than his regular season stats. He is also a lot\n",
            "fo fun to watch in the playoffs. Bowman should let JAgr have a lot of\n",
            "fun in the next couple of games since the Pens are going to beat the pulp out of Jersey anyway. I was very disappointed not to see the Islanders lose the final\n",
            "regular season game.          PENS RULE!!!\n",
            "\n",
            "\n"
          ]
        }
      ]
    },
    {
      "cell_type": "code",
      "source": [
        "print(newsgroups.data[1])"
      ],
      "metadata": {
        "colab": {
          "base_uri": "https://localhost:8080/"
        },
        "id": "jypaw05LM33a",
        "outputId": "b262d343-843d-46fb-dd7e-96a72e9c1d0d"
      },
      "execution_count": 5,
      "outputs": [
        {
          "output_type": "stream",
          "name": "stdout",
          "text": [
            "From: mblawson@midway.ecn.uoknor.edu (Matthew B Lawson)\n",
            "Subject: Which high-performance VLB video card?\n",
            "Summary: Seek recommendations for VLB video card\n",
            "Nntp-Posting-Host: midway.ecn.uoknor.edu\n",
            "Organization: Engineering Computer Network, University of Oklahoma, Norman, OK, USA\n",
            "Keywords: orchid, stealth, vlb\n",
            "Lines: 21\n",
            "\n",
            "  My brother is in the market for a high-performance video card that supports\n",
            "VESA local bus with 1-2MB RAM.  Does anyone have suggestions/ideas on:\n",
            "\n",
            "  - Diamond Stealth Pro Local Bus\n",
            "\n",
            "  - Orchid Farenheit 1280\n",
            "\n",
            "  - ATI Graphics Ultra Pro\n",
            "\n",
            "  - Any other high-performance VLB card\n",
            "\n",
            "\n",
            "Please post or email.  Thank you!\n",
            "\n",
            "  - Matt\n",
            "\n",
            "-- \n",
            "    |  Matthew B. Lawson <------------> (mblawson@essex.ecn.uoknor.edu)  |   \n",
            "  --+-- \"Now I, Nebuchadnezzar, praise and exalt and glorify the King  --+-- \n",
            "    |   of heaven, because everything he does is right and all his ways  |   \n",
            "    |   are just.\" - Nebuchadnezzar, king of Babylon, 562 B.C.           |   \n",
            "\n"
          ]
        }
      ]
    },
    {
      "cell_type": "code",
      "source": [
        "type(newsgroups.target)"
      ],
      "metadata": {
        "colab": {
          "base_uri": "https://localhost:8080/"
        },
        "id": "MJCdYrsnL-vO",
        "outputId": "ee88bf5a-684c-4346-9c68-ac2f87f1d673"
      },
      "execution_count": 6,
      "outputs": [
        {
          "output_type": "execute_result",
          "data": {
            "text/plain": [
              "numpy.ndarray"
            ]
          },
          "metadata": {},
          "execution_count": 6
        }
      ]
    },
    {
      "cell_type": "code",
      "source": [
        "newsgroups.target[0]\n"
      ],
      "metadata": {
        "colab": {
          "base_uri": "https://localhost:8080/"
        },
        "id": "wAgXeqbhL-sM",
        "outputId": "c01d0771-e4d0-49fb-8121-a86e1a074cf9"
      },
      "execution_count": 7,
      "outputs": [
        {
          "output_type": "execute_result",
          "data": {
            "text/plain": [
              "np.int64(10)"
            ]
          },
          "metadata": {},
          "execution_count": 7
        }
      ]
    },
    {
      "cell_type": "code",
      "source": [
        "newsgroups.target[1]\n"
      ],
      "metadata": {
        "colab": {
          "base_uri": "https://localhost:8080/"
        },
        "id": "_5KjyJTcL-pD",
        "outputId": "cdb7a792-214e-475f-8e38-115d6a4e34d1"
      },
      "execution_count": 8,
      "outputs": [
        {
          "output_type": "execute_result",
          "data": {
            "text/plain": [
              "np.int64(3)"
            ]
          },
          "metadata": {},
          "execution_count": 8
        }
      ]
    },
    {
      "cell_type": "code",
      "source": [
        "# Load all categories\n",
        "all_categories = newsgroups.target_names\n",
        "print('type:',type(all_categories))\n",
        "print('len:',len(all_categories))\n",
        "print()\n",
        "\n",
        "# Display categories\n",
        "for i, category in enumerate(all_categories):\n",
        "    print(f\"{i+1}. {category}\")\n"
      ],
      "metadata": {
        "colab": {
          "base_uri": "https://localhost:8080/"
        },
        "id": "YhqRtzcSL-ls",
        "outputId": "462dd843-389f-4ea4-9922-ce77609ee687"
      },
      "execution_count": 9,
      "outputs": [
        {
          "output_type": "stream",
          "name": "stdout",
          "text": [
            "type: <class 'list'>\n",
            "len: 20\n",
            "\n",
            "1. alt.atheism\n",
            "2. comp.graphics\n",
            "3. comp.os.ms-windows.misc\n",
            "4. comp.sys.ibm.pc.hardware\n",
            "5. comp.sys.mac.hardware\n",
            "6. comp.windows.x\n",
            "7. misc.forsale\n",
            "8. rec.autos\n",
            "9. rec.motorcycles\n",
            "10. rec.sport.baseball\n",
            "11. rec.sport.hockey\n",
            "12. sci.crypt\n",
            "13. sci.electronics\n",
            "14. sci.med\n",
            "15. sci.space\n",
            "16. soc.religion.christian\n",
            "17. talk.politics.guns\n",
            "18. talk.politics.mideast\n",
            "19. talk.politics.misc\n",
            "20. talk.religion.misc\n"
          ]
        }
      ]
    },
    {
      "cell_type": "code",
      "source": [
        "from collections import Counter\n",
        "\n",
        "target_counts = Counter(newsgroups.target)\n",
        "\n",
        "target_counts\n"
      ],
      "metadata": {
        "colab": {
          "base_uri": "https://localhost:8080/"
        },
        "id": "KzFIgG1OYuyE",
        "outputId": "c7121fe8-0832-49f6-9ca6-5cffb21ecd14"
      },
      "execution_count": 10,
      "outputs": [
        {
          "output_type": "execute_result",
          "data": {
            "text/plain": [
              "Counter({np.int64(10): 999,\n",
              "         np.int64(3): 982,\n",
              "         np.int64(17): 940,\n",
              "         np.int64(4): 963,\n",
              "         np.int64(12): 984,\n",
              "         np.int64(19): 628,\n",
              "         np.int64(11): 991,\n",
              "         np.int64(13): 990,\n",
              "         np.int64(0): 799,\n",
              "         np.int64(8): 996,\n",
              "         np.int64(7): 990,\n",
              "         np.int64(5): 988,\n",
              "         np.int64(1): 973,\n",
              "         np.int64(14): 987,\n",
              "         np.int64(16): 910,\n",
              "         np.int64(6): 975,\n",
              "         np.int64(9): 994,\n",
              "         np.int64(18): 775,\n",
              "         np.int64(2): 985,\n",
              "         np.int64(15): 997})"
            ]
          },
          "metadata": {},
          "execution_count": 10
        }
      ]
    },
    {
      "cell_type": "code",
      "source": [
        "# Calculate the probability of each class\n",
        "total_articles = len(newsgroups.target)\n",
        "class_probabilities = {\n",
        "    class_label: count / total_articles\n",
        "    for class_label, count in target_counts.items()\n",
        "}\n",
        "\n",
        "# Print the probabilities\n",
        "for class_label, probability in class_probabilities.items():\n",
        "  print(f\"Class {class_label}: {probability:.4f}\")\n"
      ],
      "metadata": {
        "colab": {
          "base_uri": "https://localhost:8080/"
        },
        "id": "d2IidUFZg0iO",
        "outputId": "2dc7d670-12dd-4ab7-aa9f-32c28784f3aa"
      },
      "execution_count": 11,
      "outputs": [
        {
          "output_type": "stream",
          "name": "stdout",
          "text": [
            "Class 10: 0.0530\n",
            "Class 3: 0.0521\n",
            "Class 17: 0.0499\n",
            "Class 4: 0.0511\n",
            "Class 12: 0.0522\n",
            "Class 19: 0.0333\n",
            "Class 11: 0.0526\n",
            "Class 13: 0.0525\n",
            "Class 0: 0.0424\n",
            "Class 8: 0.0528\n",
            "Class 7: 0.0525\n",
            "Class 5: 0.0524\n",
            "Class 1: 0.0516\n",
            "Class 14: 0.0524\n",
            "Class 16: 0.0483\n",
            "Class 6: 0.0517\n",
            "Class 9: 0.0527\n",
            "Class 18: 0.0411\n",
            "Class 2: 0.0523\n",
            "Class 15: 0.0529\n"
          ]
        }
      ]
    },
    {
      "cell_type": "code",
      "source": [
        "\n",
        "import matplotlib.pyplot as plt\n",
        "\n",
        "# Assuming you have class_probabilities defined as in your previous code\n",
        "\n",
        "# Extract class labels and probabilities\n",
        "class_labels = list(class_probabilities.keys())\n",
        "probabilities = list(class_probabilities.values())\n",
        "\n",
        "# Create a bar plot\n",
        "plt.figure(figsize=(12, 6))  # Adjust figure size if needed\n",
        "plt.bar(class_labels, probabilities)\n",
        "plt.xlabel(\"Class Labels\")\n",
        "plt.ylabel(\"Probability\")\n",
        "plt.title(\"Probability Distribution of News Articles by Class\")\n",
        "plt.xticks(rotation=90)  # Rotate x-axis labels for better readability\n",
        "plt.tight_layout()\n",
        "plt.show()\n"
      ],
      "metadata": {
        "colab": {
          "base_uri": "https://localhost:8080/",
          "height": 603
        },
        "id": "_6IQGY5whVcu",
        "outputId": "8e86165d-6a33-4a1d-f510-dd35c86501fd"
      },
      "execution_count": 12,
      "outputs": [
        {
          "output_type": "display_data",
          "data": {
            "text/plain": [
              "<Figure size 1200x600 with 1 Axes>"
            ],
            "image/png": "[encoded data removed]"
          },
          "metadata": {}
        }
      ]
    },
    {
      "cell_type": "markdown",
      "source": [
        "## The most probable class\n",
        "The most probable class is **10. rec.sport.baseball**  with a probability of 5.3% (0.0530).\n",
        "\n",
        "\n",
        "\n",
        "\n",
        "## The Importance of Balanced Data in Classification\n",
        "In machine learning, balanced data is crucial for ensuring that models make fair and accurate predictions. Looking at the given probability distribution, we notice that the most probable class (Class 10) has a 5.3% probability, while many other classes have very similar probabilities (around 5.2%).\n",
        "\n",
        "### What Does This Tell Us?\n",
        "1. Minimal Probability Differences\n",
        "   * The small gaps between class probabilities suggest that the model may be struggling to differentiate between them.\n",
        "   * This can be a sign that the dataset is imbalanced, meaning some classes have far fewer samples than others.\n",
        "\n",
        "2. Risk of Bias\n",
        "  *  If some classes are underrepresented, the model may not learn their patterns well.\n",
        "  *  As a result, it might misclassify minority classes or always favor majority classes.\n",
        "\n",
        "3. Accuracy vs. Class Distribution\n",
        "  *  Even if a model achieves high accuracy, it might not be truly effective.\n",
        "  *  Example: If one class appears in 90% of the dataset, a model predicting that class all the time would still be 90% accurate—but completely useless for the other classes!\n",
        "\n",
        "### How to Address Class Imbalance?\n",
        "1. Resampling Techniques\n",
        "  *  Oversampling: Increase the number of samples in the minority classes.\n",
        "  *  Undersampling: Reduce the number of samples in the majority classes.\n",
        "2. Using Class Weights\n",
        "  *  Some algorithms (like logistic regression and decision trees) allow assigning higher weight to minority classes, forcing the model to pay more attention to them.\n",
        "3. Anomaly Detection Methods\n",
        "  * If a class is extremely rare, it may be better to treat it as an anomaly detection problem rather than a typical classification task.\n",
        "\n"
      ],
      "metadata": {
        "id": "jSbL4CHn9_y7"
      }
    },
    {
      "cell_type": "code",
      "source": [],
      "metadata": {
        "id": "oQpuRVMWhkXs"
      },
      "execution_count": 12,
      "outputs": []
    },
    {
      "cell_type": "markdown",
      "source": [
        "#"
      ],
      "metadata": {
        "id": "O1oLs5uOFp1x"
      }
    },
    {
      "cell_type": "code",
      "source": [
        "# from sklearn.datasets import fetch_20newsgroups\n",
        "# from sklearn.preprocessing import LabelBinarizer\n",
        "# from collections import Counter\n",
        "# import numpy as np\n",
        "\n",
        "# # Load the full dataset\n",
        "# newsgroups = fetch_20newsgroups(subset='all')\n",
        "\n",
        "# # Tokenize and build vocabulary\n",
        "# all_words = []\n",
        "# for text in newsgroups.data:\n",
        "#     all_words.extend(text.split())  # Simple whitespace-based tokenization\n",
        "\n",
        "# # Create a vocabulary of unique words\n",
        "# vocab = list(set(all_words))\n",
        "# vocab_size = len(vocab)\n",
        "\n",
        "# # Create a mapping from words to indices\n",
        "# word_to_index = {word: i for i, word in enumerate(vocab)}\n",
        "\n",
        "# #Python 3.7 and later, dictionaries maintain the insertion order.\n",
        "\n",
        "# # One-hot encode each word\n",
        "# def one_hot_encode(word, vocab_size):\n",
        "#     vec = np.zeros(vocab_size)\n",
        "#     if word in word_to_index:\n",
        "#         vec[word_to_index[word]] = 1\n",
        "#     return vec\n",
        "\n",
        "# # Example: Print one-hot encoding of some words\n",
        "# sample_words = [\"computer\", \"science\", \"email\"]\n",
        "# for word in sample_words:\n",
        "#     print(f\"{word}: {one_hot_encode(word, vocab_size)}\")\n"
      ],
      "metadata": {
        "id": "rYLchVK6FocK"
      },
      "execution_count": 13,
      "outputs": []
    },
    {
      "cell_type": "code",
      "source": [
        "#len(word_to_index)"
      ],
      "metadata": {
        "id": "tBKqHJe8H80Y"
      },
      "execution_count": 14,
      "outputs": []
    },
    {
      "cell_type": "code",
      "source": [
        "from sklearn.feature_extraction.text import CountVectorizer\n",
        "\n",
        "def bag_of_words(news_data):\n",
        "    \"\"\"Converts a list of news articles into a Bag of Words representation.\"\"\"\n",
        "    vectorizer = CountVectorizer()\n",
        "    bow_matrix = vectorizer.fit_transform(news_data)  # Sparse matrix\n",
        "    vocab = vectorizer.get_feature_names_out()  # Get vocabulary words\n",
        "    return bow_matrix, vocab\n",
        "\n",
        "# Example usage:\n",
        "#newsgroups = fetch_20newsgroups(subset='all')\n",
        "bow_matrix, vocab = bag_of_words(newsgroups.data)\n",
        "\n",
        "# Print the shape of the matrix\n",
        "print(f\"BoW Matrix Shape: {bow_matrix.shape}\")  # (num_articles, vocab_size)\n",
        "\n",
        "# Get the most frequent words\n",
        "word_counts = bow_matrix.sum(axis=0)  # Sum occurrences per word\n",
        "sorted_word_indices = word_counts.argsort().tolist()[0][-10:]  # Top 10 words\n",
        "\n",
        "# Print the most common words\n",
        "most_common_words = [vocab[i] for i in sorted_word_indices]\n",
        "print(\"Most common words:\", most_common_words)\n"
      ],
      "metadata": {
        "colab": {
          "base_uri": "https://localhost:8080/"
        },
        "id": "d0x6XcLjKG8t",
        "outputId": "c83ba0c9-cce5-4c96-f638-04130f66322c"
      },
      "execution_count": 15,
      "outputs": [
        {
          "output_type": "stream",
          "name": "stdout",
          "text": [
            "BoW Matrix Shape: (18846, 173762)\n",
            "Most common words: ['for', 'it', 'ax', 'that', 'is', 'in', 'and', 'of', 'to', 'the']\n"
          ]
        }
      ]
    },
    {
      "cell_type": "markdown",
      "source": [
        "---\n",
        "\n",
        "## Conditional Probability\n",
        "\n",
        "Conditional probability is the probability of an event **A** occurring, given that another event **B** has already occurred. It is denoted as:\n",
        "\n",
        "$$\n",
        "P(A | B) = \\frac{P(A \\cap B)}{P(B)}\n",
        "$$\n",
        "\n",
        "where:\n",
        "- $ P(A | B) $ is the probability of **A** given **B**  \n",
        "- $ P(A \\cap B) $ is the probability of **A and B** happening together  \n",
        "- $ P(B) $ is the probability of **B** occurring  \n",
        "\n",
        "\n",
        "\n",
        "\n",
        "\n",
        "###  Example: Dog Breeds & Colors\n",
        "\n",
        "#### **Problem Statement**\n",
        "Suppose we have this dataset of **10 dogs**, each with a **breed** and a **color**.\n",
        "\n",
        "\n",
        "| Dog | Breed      | Color  |\n",
        "|-----|-----------|--------|\n",
        "| 1   | Labrador  | Black  |\n",
        "| 2   | Beagle    | Brown  |\n",
        "| 3   | Poodle    | White  |\n",
        "| 4   | Labrador  | Brown  |\n",
        "| 5   | Beagle    | Brown  |\n",
        "| 6   | Beagle    | White  |\n",
        "| 7   | Beagle    | White  |\n",
        "| 8   | Labrador  | Black  |\n",
        "| 9   | Poodle    | Brown  |\n",
        "| 10  | Beagle    | White  |\n",
        "\n",
        "\n",
        "\n",
        "We want to calculate:\n",
        "\n",
        "\n",
        "$$\n",
        "P(Brown)=\\frac{4}{10}=\\frac{2}{5}\n",
        "$$\n",
        "\n",
        "$$\n",
        "P(Beagle)=\\frac{5}{10}=\\frac{1}{2}\n",
        "$$\n",
        "\n",
        "$$\n",
        "P(Beagle \\cap Brown)=\\frac{2}{10}=\\frac{1}{5}\n",
        "$$\n",
        "\n",
        "\n",
        "Let's calculate the probability that a dog is a **Beagle**, given that it is **Brown**.\n",
        "\n",
        "$$\n",
        "P(\\text{Beagle} | \\text{Brown})=\\frac{P(Beagle \\cap Brown)}{P(Brown)}=\\frac{\\frac{2}{10}}{\\frac{4}{10}}=\\frac{1}{2}\n",
        "$$\n",
        "\n",
        "\n",
        "Also, calculate the probability that a dog is a **Brown**, given that it is **Beagle**.\n",
        "\n",
        "$$\n",
        "P(\\text{Brown} | \\text{Beagle})=\\frac{P(Beagle \\cap Brown)}{P(Beagle)}=\\frac{\\frac{2}{10}}{\\frac{5}{10}}=\\frac{2}{5}\n",
        "$$\n",
        "\n",
        "---\n",
        "\n",
        "Now, suppose someone tells you they are going to give you a **Cream** dog, but they do not say the breed.  \n",
        "You want to know the probability that the dog is a **Golden Retriever**, denoted as $ P(\\text{Golden Retriever} | \\text{Cream}) $.  \n",
        "\n",
        "And you know the proportions of the dogs in the city:  \n",
        "- The proportion of **Golden Retrievers**: $ P(\\text{Golden Retriever}) $  \n",
        "- The proportion of **Cream-colored dogs**: $ P(\\text{Cream}) $\n",
        "- The proportion of **Golden Retrievers that are Cream**: $ P(\\text{Cream} | \\text{Golden Retriever}) $  \n",
        "\n",
        "This can be computed using **Bayes' Theorem**:\n",
        "\n",
        "$$\n",
        "P(\\text{Golden Retriever} | \\text{Cream}) = \\frac{P(\\text{Cream} | \\text{Golden Retriever}) \\cdot P(\\text{Golden Retriever})}{P(\\text{Cream})}\n",
        "$$\n",
        "\n",
        "\n",
        "---\n",
        "##  Bayes' Theorem\n",
        "\n",
        "Bayes' Theorem is derived from the definition of conditional probability as follows:\n",
        "\n",
        "$$\n",
        "P(A | B) = \\frac{P(A \\cap B)}{P(B)}\n",
        "$$\n",
        "\n",
        "and\n",
        "\n",
        "$$\n",
        "P(B | A) = \\frac{P(A \\cap B)}{P(A)}\n",
        "$$\n",
        "\n",
        "\n",
        "So\n",
        "\n",
        "$$\n",
        "P(A | B)P(B) = P(A \\cap B) = P(B | A) P(A)\n",
        "$$\n",
        "\n",
        "Or\n",
        "\n",
        "$$\n",
        "P(A | B) =\\frac{P(B | A) P(A)}{P(B)}\n",
        "$$\n",
        "\n",
        "---\n",
        "\n",
        "\n",
        "\n",
        "### Classic Applications of Bayes' Theorem\n",
        "\n",
        "Bayes' Theorem is widely used in classification tasks, especially with **Naïve Bayes classifiers**. Here are **three classic applications**:\n",
        "\n",
        "\n",
        "\n",
        "#### 1. **Spam Detection**  \n",
        "Naïve Bayes is widely used to classify emails as **spam or not spam** based on word occurrences.  \n",
        "\n",
        "- **Example:** If an email contains words like *“free,” “lottery,” “win”*, the probability of being spam increases.  \n",
        "- **Formula:**  \n",
        "  $$\n",
        "  P(\\text{Spam} | \\text{Words}) = \\frac{P(\\text{Words} | \\text{Spam}) \\cdot P(\\text{Spam})}{P(\\text{Words})}\n",
        "  $$\n",
        "- **Why Bayes?** It efficiently estimates the probability of spam even with limited data.  \n",
        "\n",
        "\n",
        "\n",
        "#### 2. **Medical Diagnosis**  \n",
        "Doctors use Bayes' Theorem to assess the probability of a disease given a positive test result.  \n",
        "\n",
        "- **Example:** If a patient tests positive for a rare disease, Bayes helps compute the actual likelihood of having it, considering false positives.  \n",
        "- **Formula:**  \n",
        "  $$\n",
        "  P(\\text{Disease} | \\text{Test Positive}) = \\frac{P(\\text{Test Positive} | \\text{Disease}) \\cdot P(\\text{Disease})}{P(\\text{Test Positive})}\n",
        "  $$\n",
        "- **Why Bayes?** It accounts for **false positives** and the **base rate** of diseases in the population.  \n",
        "\n",
        "\n",
        "\n",
        "#### 3. **Document Classification**  \n",
        "Bayes is used to categorize text documents (news, reviews, etc.).  \n",
        "\n",
        "- **Example:** Classifying news articles into topics like *sports, politics, technology, or entertainment* based on word frequency.  \n",
        "- **Why Bayes?** It’s fast and effective for text data with many features (words).  \n",
        "\n",
        "----\n",
        "\n",
        "### The Naïve in Naïve Bayes\n",
        "\n",
        "Naïve Bayes is considered \"Naïve\" because it makes a strong independence assumption between features. This means that it assumes all features in the dataset are conditionally independent given the class label.\n",
        "\n",
        "#### Why is this assumption \"Naïve\"?\n",
        "In reality, many features are not truly independent. For example:\n",
        "\n",
        "* In text classification, words in a sentence are often correlated (e.g., \"New\" and \"York\" frequently appear together).\n",
        "\n",
        "* In medical diagnosis, symptoms may be related (e.g., fever and sore throat often occur together).\n",
        "\n",
        "#### Example of the Naïve Assumption Failing\n",
        "Imagine you're classifying emails as Spam or Not Spam based on words in the email.\n",
        "\n",
        "* Naïve Bayes assumes that the presence of the words \"free\" and \"money\" are independent.\n",
        "\n",
        "* But in reality, if \"free\" appears, \"money\" is more likely to appear too, especially in spam emails.\n",
        "\n",
        "Despite this assumption, Naïve Bayes works well in practice because it still captures useful patterns in the data."
      ],
      "metadata": {
        "id": "dfhg0apXZ9HG"
      }
    },
    {
      "cell_type": "markdown",
      "source": [
        "# **Bayes' Theorem Example with 20 Newsgroups**\n",
        "\n",
        "The **20 Newsgroups dataset** is a collection of documents categorized into **20 different topics**. A common application of **Naïve Bayes** is to classify a given document into one of these topics based on word frequencies.\n",
        "\n",
        "## **Problem Statement**\n",
        "Suppose we receive a new article, and we want to determine whether it belongs to the **rec.sport.baseball** category.\n",
        "\n",
        "We can use **Bayes' Theorem** to compute:\n",
        "\n",
        "$$\n",
        "P(\\text{Baseball} | \\text{Words in Document})\n",
        "$$\n",
        "\n",
        "which is the probability that the document belongs to the \"rec.sport.baseball\" category given the words it contains.\n",
        "\n",
        "---\n",
        "\n",
        "## **Applying Bayes' Theorem**\n",
        "Bayes' Theorem states:\n",
        "\n",
        "$$\n",
        "P(\\text{Baseball} | \\text{Words}) = \\frac{P(\\text{Words} | \\text{Baseball}) \\cdot P(\\text{Baseball})}{P(\\text{Words})}\n",
        "$$\n",
        "\n",
        "Where:\n",
        "- **$ P(\\text{Baseball} | \\text{Words}) $**: Probability that the document belongs to \"rec.sport.baseball\" given its words.\n",
        "- **$ P(\\text{Words} | \\text{Baseball}) $**: Probability of these words appearing in a baseball article.\n",
        "- **$ P(\\text{Baseball}) $**: Prior probability of an article being about baseball.\n",
        "- **$ P(\\text{Words}) $**: Probability of seeing this combination of words in any document.\n",
        "\n",
        "---\n",
        "\n",
        "## **Estimating the Probabilities**\n",
        "Using the training data from 20 Newsgroups, we can estimate:\n",
        "\n",
        "1. **Prior Probability**  \n",
        "   $$\n",
        "   P(\\text{Baseball}) = \\frac{\\text{Number of baseball articles}}{\\text{Total articles}}\n",
        "   $$\n",
        "\n",
        "2. **Likelihood of Words Given Baseball**  \n",
        "   If our document contains words like `\"home run\"`, `\"pitcher\"`, and `\"bat\"`, we compute:\n",
        "\n",
        "   $$\n",
        "   P(\\text{\"home run\"} | \\text{Baseball}) = \\frac{\\text{Count of \"home run\" in Baseball}}{\\text{Total words in Baseball}}\n",
        "   $$\n",
        "\n",
        "   Similarly, for all words in the document:\n",
        "\n",
        "   $$\n",
        "   P(\\text{Words} | \\text{Baseball}) = P(\\text{\"home run\"} | \\text{Baseball}) \\times P(\\text{\"pitcher\"} | \\text{Baseball}) \\times P(\\text{\"bat\"} | \\text{Baseball}) \\times ...\n",
        "   $$\n",
        "\n",
        "3. **Denominator $ P(\\text{Words}) $**  \n",
        "   This is a normalization factor and can be computed by summing over all classes:\n",
        "\n",
        "   $$\n",
        "   P(\\text{Words}) = P(\\text{Words} | \\text{Baseball}) P(\\text{Baseball}) + P(\\text{Words} | \\text{Other Categories}) P(\\text{Other Categories})\n",
        "   $$\n",
        "\n",
        "---\n",
        "\n",
        "## **Decision Rule**\n",
        "Once we compute $ P(\\text{Baseball} | \\text{Words}) $ and similar probabilities for other categories, we **assign the document to the class with the highest probability**:\n",
        "\n",
        "$$\n",
        "\\text{Predicted Category} = \\arg\\max_{C} P(C | \\text{Words})\n",
        "$$\n",
        "\n",
        "---\n",
        "\n",
        "## **Why Naïve Bayes Works Well**\n",
        "- Even though **words are not truly independent**, Naïve Bayes **performs well** in text classification.\n",
        "- It is **computationally efficient** and works well with **high-dimensional data** like text.\n",
        "\n",
        "---\n",
        "\n",
        "## **Implementation in Python**\n",
        "You can apply **Naïve Bayes to 20 Newsgroups** in Python using `sklearn`:\n",
        "\n"
      ],
      "metadata": {
        "id": "DSe_2fjaGbfV"
      }
    },
    {
      "cell_type": "code",
      "source": [
        "# Import necessary libraries\n",
        "from sklearn.datasets import fetch_20newsgroups\n",
        "from sklearn.feature_extraction.text import CountVectorizer, TfidfTransformer\n",
        "from sklearn.naive_bayes import MultinomialNB\n",
        "from sklearn.pipeline import Pipeline\n",
        "import numpy as np\n",
        "\n",
        "# Load the dataset with selected categories\n",
        "categories = ['rec.sport.baseball', 'sci.space']  # We choose two categories for simplicity\n",
        "newsgroups_train = fetch_20newsgroups(subset='train', categories=categories, shuffle=True, random_state=42)\n",
        "newsgroups_test = fetch_20newsgroups(subset='test', categories=categories, shuffle=True, random_state=42)\n",
        "\n",
        "# Build a pipeline with Naïve Bayes\n",
        "text_clf = Pipeline([\n",
        "    ('vect', CountVectorizer()),        # Convert text to count vectors\n",
        "    ('tfidf', TfidfTransformer()),      # Compute TF-IDF\n",
        "    ('clf', MultinomialNB()),           # Train Naïve Bayes classifier\n",
        "])\n",
        "\n",
        "# Train the model\n",
        "text_clf.fit(newsgroups_train.data, newsgroups_train.target)\n",
        "\n",
        "# Test on a new document\n",
        "new_doc = [\"The pitcher threw a perfect game with an amazing home run.\"]\n",
        "predicted_category = text_clf.predict(new_doc)\n",
        "\n",
        "# Output the predicted category\n",
        "print(f\"Predicted Category: {newsgroups_train.target_names[predicted_category[0]]}\")\n",
        "\n",
        "# Evaluate the model on the test set\n",
        "predicted = text_clf.predict(newsgroups_test.data)\n",
        "accuracy = np.mean(predicted == newsgroups_test.target)\n",
        "print(f\"Model Accuracy: {accuracy:.4f}\")\n"
      ],
      "metadata": {
        "colab": {
          "base_uri": "https://localhost:8080/"
        },
        "id": "9rH6reFhYhcM",
        "outputId": "8c158875-6783-4582-b5a2-0592f9e1c63a"
      },
      "execution_count": 1,
      "outputs": [
        {
          "output_type": "stream",
          "name": "stdout",
          "text": [
            "Predicted Category: rec.sport.baseball\n",
            "Model Accuracy: 0.9924\n"
          ]
        }
      ]
    },
    {
      "cell_type": "markdown",
      "source": [
        "## To Do\n",
        "* Find the word that best classifies the `rec.sport.baseball` category.\n",
        "* Using the same method, find a word for each of the other categories.\n",
        "* How can you determine the category of a new document if multiple words suggest different categories?\n",
        "* Consult about 'Term Frequency-Inverse Document Frequency' and describe how they could be used for document classification."
      ],
      "metadata": {
        "id": "76efRSQ6Rbum"
      }
    }
  ]
}