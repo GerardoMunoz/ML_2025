{
  "cells": [
    {
      "cell_type": "markdown",
      "metadata": {
        "id": "view-in-github",
        "colab_type": "text"
      },
      "source": [
        "<a href=\"https://colab.research.google.com/github/GerardoMunoz/ML_2025/blob/main/kNN.ipynb\" target=\"_parent\"><img src=\"https://colab.research.google.com/assets/colab-badge.svg\" alt=\"Open In Colab\"/></a>"
      ]
    },
    {
      "cell_type": "markdown",
      "source": [
        "# `k` Near Neighbors"
      ],
      "metadata": {
        "id": "TSrMnuuCS6En"
      }
    },
    {
      "cell_type": "markdown",
      "metadata": {
        "id": "hRuuxOPPW_IL"
      },
      "source": [
        "## Upload data\n",
        "https://www.kaggle.com/datasets/mahmoudelhemaly/students-grading-dataset?resource=download"
      ]
    },
    {
      "cell_type": "code",
      "execution_count": null,
      "metadata": {
        "colab": {
          "base_uri": "https://localhost:8080/"
        },
        "id": "aD1jShvlDAKU",
        "outputId": "fa6a1531-5b80-4655-9459-a9fba42c605a"
      },
      "outputs": [
        {
          "metadata": {
            "tags": null
          },
          "name": "stdout",
          "output_type": "stream",
          "text": [
            "Archive:  archive (11).zip\n",
            "replace Students_Grading_Dataset.csv? [y]es, [n]o, [A]ll, [N]one, [r]ename: "
          ]
        }
      ],
      "source": [
        "# prompt: unzip archive (11).zip\n",
        "\n",
        "#!unzip archive\\ \\(11\\).zip"
      ]
    },
    {
      "cell_type": "code",
      "execution_count": null,
      "metadata": {
        "colab": {
          "base_uri": "https://localhost:8080/"
        },
        "id": "QRDxKsiQDMsb",
        "outputId": "cc268baa-b378-47c9-aaab-0a3bd45d0b1e"
      },
      "outputs": [
        {
          "output_type": "stream",
          "name": "stdout",
          "text": [
            "Fatal Python error: init_import_site: Failed to import the site module\n",
            "Python runtime state: initialized\n",
            "Traceback (most recent call last):\n",
            "  File \"<frozen importlib._bootstrap>\", line 1176, in _find_and_load\n",
            "  File \"<frozen importlib._bootstrap>\", line 1147, in _find_and_load_unlocked\n",
            "object address  : 0x7ae6fc6a2980\n",
            "object refcount : 1\n",
            "object type     : 0x9d5ea0\n",
            "object type name: KeyboardInterrupt\n",
            "object repr     : KeyboardInterrupt()\n",
            "lost sys.stderr\n",
            "  File \"<frozen importlib._bootstrap>\", line 690, in _load_unlocked\n",
            "shape: (5, 23)\n",
            "┌───────────┬───────────┬───────────┬───────────┬───┬───────────┬───────────┬───────────┬──────────┐\n",
            "│ Student_I ┆ First_Nam ┆ Last_Name ┆ Email     ┆ … ┆ Parent_Ed ┆ Family_In ┆ Stress_Le ┆ Sleep_Ho │\n",
            "│ D         ┆ e         ┆ ---       ┆ ---       ┆   ┆ ucation_L ┆ come_Leve ┆ vel       ┆ urs_per_ │\n",
            "│ ---       ┆ ---       ┆ str       ┆ str       ┆   ┆ evel      ┆ l         ┆ (1-10)    ┆ Night    │\n",
            "│ str       ┆ str       ┆           ┆           ┆   ┆ ---       ┆ ---       ┆ ---       ┆ ---      │\n",
            "│           ┆           ┆           ┆           ┆   ┆ str       ┆ str       ┆ i64       ┆ f64      │\n",
            "╞═══════════╪═══════════╪═══════════╪═══════════╪═══╪═══════════╪═══════════╪═══════════╪══════════╡\n",
            "│ S1000     ┆ Omar      ┆ Williams  ┆ student0@ ┆ … ┆ High      ┆ Medium    ┆ 5         ┆ 4.7      │\n",
            "│           ┆           ┆           ┆ universit ┆   ┆ School    ┆           ┆           ┆          │\n",
            "│           ┆           ┆           ┆ y.com     ┆   ┆           ┆           ┆           ┆          │\n",
            "│ S1001     ┆ Maria     ┆ Brown     ┆ student1@ ┆ … ┆ None      ┆ Medium    ┆ 4         ┆ 9.0      │\n",
            "│           ┆           ┆           ┆ universit ┆   ┆           ┆           ┆           ┆          │\n",
            "│           ┆           ┆           ┆ y.com     ┆   ┆           ┆           ┆           ┆          │\n",
            "│ S1002     ┆ Ahmed     ┆ Jones     ┆ student2@ ┆ … ┆ Master's  ┆ Low       ┆ 6         ┆ 6.2      │\n",
            "│           ┆           ┆           ┆ universit ┆   ┆           ┆           ┆           ┆          │\n",
            "│           ┆           ┆           ┆ y.com     ┆   ┆           ┆           ┆           ┆          │\n",
            "│ S1003     ┆ Omar      ┆ Williams  ┆ student3@ ┆ … ┆ High      ┆ High      ┆ 3         ┆ 6.7      │\n",
            "│           ┆           ┆           ┆ universit ┆   ┆ School    ┆           ┆           ┆          │\n",
            "│           ┆           ┆           ┆ y.com     ┆   ┆           ┆           ┆           ┆          │\n",
            "│ S1004     ┆ John      ┆ Smith     ┆ student4@ ┆ … ┆ High      ┆ High      ┆ 2         ┆ 7.1      │\n",
            "│           ┆           ┆           ┆ universit ┆   ┆ School    ┆           ┆           ┆          │\n",
            "│           ┆           ┆           ┆ y.com     ┆   ┆           ┆           ┆           ┆          │\n",
            "└───────────┴───────────┴───────────┴───────────┴───┴───────────┴───────────┴───────────┴──────────┘\n"
          ]
        }
      ],
      "source": [
        "# prompt: load in polars .csv file\n",
        "\n",
        "!pip install polars\n",
        "\n",
        "import polars as pl\n",
        "\n",
        "# Replace 'your_file.csv' with the actual path to your CSV file\n",
        "df = pl.read_csv('/content/Students_Grading_Dataset.csv')\n",
        "\n",
        "# Now you can work with the DataFrame 'df'\n",
        "print(df.head())\n"
      ]
    },
    {
      "cell_type": "code",
      "execution_count": null,
      "metadata": {
        "colab": {
          "base_uri": "https://localhost:8080/"
        },
        "id": "Sr-tyWIPX02k",
        "outputId": "e2c93585-26fa-4f36-f3fa-c05a39aebf7f"
      },
      "outputs": [
        {
          "output_type": "execute_result",
          "data": {
            "text/plain": [
              "Schema([('Student_ID', String),\n",
              "        ('First_Name', String),\n",
              "        ('Last_Name', String),\n",
              "        ('Email', String),\n",
              "        ('Gender', String),\n",
              "        ('Age', Int64),\n",
              "        ('Department', String),\n",
              "        ('Attendance (%)', Float64),\n",
              "        ('Midterm_Score', Float64),\n",
              "        ('Final_Score', Float64),\n",
              "        ('Assignments_Avg', Float64),\n",
              "        ('Quizzes_Avg', Float64),\n",
              "        ('Participation_Score', Float64),\n",
              "        ('Projects_Score', Float64),\n",
              "        ('Total_Score', Float64),\n",
              "        ('Grade', String),\n",
              "        ('Study_Hours_per_Week', Float64),\n",
              "        ('Extracurricular_Activities', String),\n",
              "        ('Internet_Access_at_Home', String),\n",
              "        ('Parent_Education_Level', String),\n",
              "        ('Family_Income_Level', String),\n",
              "        ('Stress_Level (1-10)', Int64),\n",
              "        ('Sleep_Hours_per_Night', Float64)])"
            ]
          },
          "metadata": {},
          "execution_count": 29
        }
      ],
      "source": [
        "# prompt: Print columns name and type\n",
        "\n",
        "df.schema\n"
      ]
    },
    {
      "cell_type": "markdown",
      "source": [
        "## Knowing the data"
      ],
      "metadata": {
        "id": "8JiosWeZ_kOw"
      }
    },
    {
      "cell_type": "code",
      "execution_count": null,
      "metadata": {
        "colab": {
          "base_uri": "https://localhost:8080/",
          "height": 443
        },
        "id": "ozXGfmAnaFzE",
        "outputId": "878fe4ed-c77d-4dc8-aac3-7e487af5120c"
      },
      "outputs": [
        {
          "output_type": "execute_result",
          "data": {
            "text/plain": [
              "shape: (5_000, 5)\n",
              "┌───────┬─────────────────────┬───────────────────────┬──────────────────────┬─────────────────────┐\n",
              "│ Grade ┆ Stress_Level (1-10) ┆ Internet_Access_at_Ho ┆ Study_Hours_per_Week ┆ Family_Income_Level │\n",
              "│ ---   ┆ ---                 ┆ me                    ┆ ---                  ┆ ---                 │\n",
              "│ str   ┆ i64                 ┆ ---                   ┆ f64                  ┆ str                 │\n",
              "│       ┆                     ┆ str                   ┆                      ┆                     │\n",
              "╞═══════╪═════════════════════╪═══════════════════════╪══════════════════════╪═════════════════════╡\n",
              "│ F     ┆ 5                   ┆ Yes                   ┆ 6.2                  ┆ Medium              │\n",
              "│ A     ┆ 4                   ┆ Yes                   ┆ 19.0                 ┆ Medium              │\n",
              "│ D     ┆ 6                   ┆ Yes                   ┆ 20.7                 ┆ Low                 │\n",
              "│ A     ┆ 3                   ┆ Yes                   ┆ 24.8                 ┆ High                │\n",
              "│ F     ┆ 2                   ┆ Yes                   ┆ 15.4                 ┆ High                │\n",
              "│ …     ┆ …                   ┆ …                     ┆ …                    ┆ …                   │\n",
              "│ D     ┆ 10                  ┆ Yes                   ┆ 25.5                 ┆ Low                 │\n",
              "│ C     ┆ 4                   ┆ Yes                   ┆ 5.0                  ┆ Medium              │\n",
              "│ A     ┆ 4                   ┆ No                    ┆ 24.8                 ┆ Medium              │\n",
              "│ A     ┆ 1                   ┆ Yes                   ┆ 16.1                 ┆ Low                 │\n",
              "│ F     ┆ 2                   ┆ Yes                   ┆ 29.2                 ┆ Low                 │\n",
              "└───────┴─────────────────────┴───────────────────────┴──────────────────────┴─────────────────────┘"
            ],
            "text/html": [
              "<div><style>\n",
              ".dataframe > thead > tr,\n",
              ".dataframe > tbody > tr {\n",
              "  text-align: right;\n",
              "  white-space: pre-wrap;\n",
              "}\n",
              "</style>\n",
              "<small>shape: (5_000, 5)</small><table border=\"1\" class=\"dataframe\"><thead><tr><th>Grade</th><th>Stress_Level (1-10)</th><th>Internet_Access_at_Home</th><th>Study_Hours_per_Week</th><th>Family_Income_Level</th></tr><tr><td>str</td><td>i64</td><td>str</td><td>f64</td><td>str</td></tr></thead><tbody><tr><td>&quot;F&quot;</td><td>5</td><td>&quot;Yes&quot;</td><td>6.2</td><td>&quot;Medium&quot;</td></tr><tr><td>&quot;A&quot;</td><td>4</td><td>&quot;Yes&quot;</td><td>19.0</td><td>&quot;Medium&quot;</td></tr><tr><td>&quot;D&quot;</td><td>6</td><td>&quot;Yes&quot;</td><td>20.7</td><td>&quot;Low&quot;</td></tr><tr><td>&quot;A&quot;</td><td>3</td><td>&quot;Yes&quot;</td><td>24.8</td><td>&quot;High&quot;</td></tr><tr><td>&quot;F&quot;</td><td>2</td><td>&quot;Yes&quot;</td><td>15.4</td><td>&quot;High&quot;</td></tr><tr><td>&hellip;</td><td>&hellip;</td><td>&hellip;</td><td>&hellip;</td><td>&hellip;</td></tr><tr><td>&quot;D&quot;</td><td>10</td><td>&quot;Yes&quot;</td><td>25.5</td><td>&quot;Low&quot;</td></tr><tr><td>&quot;C&quot;</td><td>4</td><td>&quot;Yes&quot;</td><td>5.0</td><td>&quot;Medium&quot;</td></tr><tr><td>&quot;A&quot;</td><td>4</td><td>&quot;No&quot;</td><td>24.8</td><td>&quot;Medium&quot;</td></tr><tr><td>&quot;A&quot;</td><td>1</td><td>&quot;Yes&quot;</td><td>16.1</td><td>&quot;Low&quot;</td></tr><tr><td>&quot;F&quot;</td><td>2</td><td>&quot;Yes&quot;</td><td>29.2</td><td>&quot;Low&quot;</td></tr></tbody></table></div>"
            ]
          },
          "metadata": {},
          "execution_count": 30
        }
      ],
      "source": [
        "# prompt: select the columns: Letter grade ,Stress_Level, Internet, Study hours, Familly income level\n",
        "\n",
        "df2 = df.select(['Grade', 'Stress_Level (1-10)', 'Internet_Access_at_Home', 'Study_Hours_per_Week', 'Family_Income_Level'])\n",
        "df2\n"
      ]
    },
    {
      "cell_type": "code",
      "execution_count": null,
      "metadata": {
        "colab": {
          "base_uri": "https://localhost:8080/"
        },
        "id": "xueCxiegczZn",
        "outputId": "73d3a421-01a9-4a4b-dd6a-3d8c2783d23f"
      },
      "outputs": [
        {
          "output_type": "execute_result",
          "data": {
            "text/plain": [
              "Schema([('Grade', String),\n",
              "        ('Stress_Level (1-10)', Int64),\n",
              "        ('Internet_Access_at_Home', String),\n",
              "        ('Study_Hours_per_Week', Float64),\n",
              "        ('Family_Income_Level', String)])"
            ]
          },
          "metadata": {},
          "execution_count": 31
        }
      ],
      "source": [
        "df2.schema  # Shows column names and their data types"
      ]
    },
    {
      "cell_type": "code",
      "execution_count": null,
      "metadata": {
        "colab": {
          "base_uri": "https://localhost:8080/",
          "height": 129
        },
        "id": "yhqeHyikekpA",
        "outputId": "35dbec3d-fc76-409e-b7bc-63dd78508ca0"
      },
      "outputs": [
        {
          "output_type": "execute_result",
          "data": {
            "text/plain": [
              "shape: (1, 5)\n",
              "┌───────┬─────────────────────┬───────────────────────┬──────────────────────┬─────────────────────┐\n",
              "│ Grade ┆ Stress_Level (1-10) ┆ Internet_Access_at_Ho ┆ Study_Hours_per_Week ┆ Family_Income_Level │\n",
              "│ ---   ┆ ---                 ┆ me                    ┆ ---                  ┆ ---                 │\n",
              "│ u32   ┆ u32                 ┆ ---                   ┆ u32                  ┆ u32                 │\n",
              "│       ┆                     ┆ u32                   ┆                      ┆                     │\n",
              "╞═══════╪═════════════════════╪═══════════════════════╪══════════════════════╪═════════════════════╡\n",
              "│ 0     ┆ 0                   ┆ 0                     ┆ 0                    ┆ 0                   │\n",
              "└───────┴─────────────────────┴───────────────────────┴──────────────────────┴─────────────────────┘"
            ],
            "text/html": [
              "<div><style>\n",
              ".dataframe > thead > tr,\n",
              ".dataframe > tbody > tr {\n",
              "  text-align: right;\n",
              "  white-space: pre-wrap;\n",
              "}\n",
              "</style>\n",
              "<small>shape: (1, 5)</small><table border=\"1\" class=\"dataframe\"><thead><tr><th>Grade</th><th>Stress_Level (1-10)</th><th>Internet_Access_at_Home</th><th>Study_Hours_per_Week</th><th>Family_Income_Level</th></tr><tr><td>u32</td><td>u32</td><td>u32</td><td>u32</td><td>u32</td></tr></thead><tbody><tr><td>0</td><td>0</td><td>0</td><td>0</td><td>0</td></tr></tbody></table></div>"
            ]
          },
          "metadata": {},
          "execution_count": 32
        }
      ],
      "source": [
        "df2.null_count()\n"
      ]
    },
    {
      "cell_type": "code",
      "execution_count": null,
      "metadata": {
        "colab": {
          "base_uri": "https://localhost:8080/"
        },
        "id": "H-zBzPAtczWP",
        "outputId": "a88c490c-adf7-4da9-f711-e02a3c6fd7bf"
      },
      "outputs": [
        {
          "output_type": "execute_result",
          "data": {
            "text/plain": [
              "['Grade', 'Internet_Access_at_Home', 'Family_Income_Level']"
            ]
          },
          "metadata": {},
          "execution_count": 33
        }
      ],
      "source": [
        "categorical_cols = [col for col, dtype in df2.schema.items() if dtype == pl.Utf8]\n",
        "categorical_cols"
      ]
    },
    {
      "cell_type": "code",
      "execution_count": null,
      "metadata": {
        "colab": {
          "base_uri": "https://localhost:8080/"
        },
        "id": "6xHxtBJGczTb",
        "outputId": "c9c246e5-1d97-41c0-e64d-27c46809bfc5"
      },
      "outputs": [
        {
          "output_type": "stream",
          "name": "stdout",
          "text": [
            "\n",
            "Value counts for Grade:\n",
            "shape: (5, 2)\n",
            "┌───────┬───────┐\n",
            "│ Grade ┆ count │\n",
            "│ ---   ┆ ---   │\n",
            "│ str   ┆ u32   │\n",
            "╞═══════╪═══════╡\n",
            "│ D     ┆ 889   │\n",
            "│ B     ┆ 978   │\n",
            "│ A     ┆ 1495  │\n",
            "│ F     ┆ 844   │\n",
            "│ C     ┆ 794   │\n",
            "└───────┴───────┘\n",
            "\n",
            "Value counts for Internet_Access_at_Home:\n",
            "shape: (2, 2)\n",
            "┌─────────────────────────┬───────┐\n",
            "│ Internet_Access_at_Home ┆ count │\n",
            "│ ---                     ┆ ---   │\n",
            "│ str                     ┆ u32   │\n",
            "╞═════════════════════════╪═══════╡\n",
            "│ Yes                     ┆ 4485  │\n",
            "│ No                      ┆ 515   │\n",
            "└─────────────────────────┴───────┘\n",
            "\n",
            "Value counts for Family_Income_Level:\n",
            "shape: (3, 2)\n",
            "┌─────────────────────┬───────┐\n",
            "│ Family_Income_Level ┆ count │\n",
            "│ ---                 ┆ ---   │\n",
            "│ str                 ┆ u32   │\n",
            "╞═════════════════════╪═══════╡\n",
            "│ High                ┆ 1044  │\n",
            "│ Medium              ┆ 1973  │\n",
            "│ Low                 ┆ 1983  │\n",
            "└─────────────────────┴───────┘\n"
          ]
        }
      ],
      "source": [
        "for col in categorical_cols:\n",
        "    print(f\"\\nValue counts for {col}:\")\n",
        "    print(df2[col].value_counts())"
      ]
    },
    {
      "cell_type": "code",
      "execution_count": null,
      "metadata": {
        "colab": {
          "base_uri": "https://localhost:8080/"
        },
        "id": "VTSGyQmLczP-",
        "outputId": "7d9b903b-9d8c-4d63-fb2f-06d328a19600"
      },
      "outputs": [
        {
          "output_type": "execute_result",
          "data": {
            "text/plain": [
              "['Stress_Level (1-10)', 'Study_Hours_per_Week']"
            ]
          },
          "metadata": {},
          "execution_count": 35
        }
      ],
      "source": [
        "numeric_cols = [col for col, dtype in df2.schema.items() if dtype in [pl.Int64, pl.Float64]]\n",
        "numeric_cols"
      ]
    },
    {
      "cell_type": "code",
      "execution_count": null,
      "metadata": {
        "colab": {
          "base_uri": "https://localhost:8080/",
          "height": 380
        },
        "id": "iwiLFbQ8czM_",
        "outputId": "b077b6ee-7035-4cf8-c493-51c7ecc31603"
      },
      "outputs": [
        {
          "data": {
            "text/html": [
              "<div><style>\n",
              ".dataframe > thead > tr,\n",
              ".dataframe > tbody > tr {\n",
              "  text-align: right;\n",
              "  white-space: pre-wrap;\n",
              "}\n",
              "</style>\n",
              "<small>shape: (9, 3)</small><table border=\"1\" class=\"dataframe\"><thead><tr><th>statistic</th><th>Stress_Level (1-10)</th><th>Study_Hours_per_Week</th></tr><tr><td>str</td><td>f64</td><td>f64</td></tr></thead><tbody><tr><td>&quot;count&quot;</td><td>5000.0</td><td>5000.0</td></tr><tr><td>&quot;null_count&quot;</td><td>0.0</td><td>0.0</td></tr><tr><td>&quot;mean&quot;</td><td>5.4808</td><td>17.65886</td></tr><tr><td>&quot;std&quot;</td><td>2.86155</td><td>7.275864</td></tr><tr><td>&quot;min&quot;</td><td>1.0</td><td>5.0</td></tr><tr><td>&quot;25%&quot;</td><td>3.0</td><td>11.4</td></tr><tr><td>&quot;50%&quot;</td><td>5.0</td><td>17.5</td></tr><tr><td>&quot;75%&quot;</td><td>8.0</td><td>24.1</td></tr><tr><td>&quot;max&quot;</td><td>10.0</td><td>30.0</td></tr></tbody></table></div>"
            ],
            "text/plain": [
              "shape: (9, 3)\n",
              "┌────────────┬─────────────────────┬──────────────────────┐\n",
              "│ statistic  ┆ Stress_Level (1-10) ┆ Study_Hours_per_Week │\n",
              "│ ---        ┆ ---                 ┆ ---                  │\n",
              "│ str        ┆ f64                 ┆ f64                  │\n",
              "╞════════════╪═════════════════════╪══════════════════════╡\n",
              "│ count      ┆ 5000.0              ┆ 5000.0               │\n",
              "│ null_count ┆ 0.0                 ┆ 0.0                  │\n",
              "│ mean       ┆ 5.4808              ┆ 17.65886             │\n",
              "│ std        ┆ 2.86155             ┆ 7.275864             │\n",
              "│ min        ┆ 1.0                 ┆ 5.0                  │\n",
              "│ 25%        ┆ 3.0                 ┆ 11.4                 │\n",
              "│ 50%        ┆ 5.0                 ┆ 17.5                 │\n",
              "│ 75%        ┆ 8.0                 ┆ 24.1                 │\n",
              "│ max        ┆ 10.0                ┆ 30.0                 │\n",
              "└────────────┴─────────────────────┴──────────────────────┘"
            ]
          },
          "execution_count": 36,
          "metadata": {},
          "output_type": "execute_result"
        }
      ],
      "source": [
        "df2.select(numeric_cols).describe()\n"
      ]
    },
    {
      "cell_type": "code",
      "execution_count": null,
      "metadata": {
        "colab": {
          "base_uri": "https://localhost:8080/",
          "height": 1000
        },
        "id": "c9gFd4RfczKA",
        "outputId": "56017aed-4b69-4340-ebd1-7056913f78b3"
      },
      "outputs": [
        {
          "output_type": "display_data",
          "data": {
            "text/plain": [
              "<Figure size 1000x600 with 2 Axes>"
            ],
            "image/png": "[encoded data removed]"
          },
          "metadata": {}
        },
        {
          "output_type": "display_data",
          "data": {
            "text/plain": [
              "<Figure size 640x480 with 1 Axes>"
            ],
            "image/png": "[encoded data removed]"
          },
          "metadata": {}
        },
        {
          "output_type": "display_data",
          "data": {
            "text/plain": [
              "<Figure size 640x480 with 1 Axes>"
            ],
            "image/png": "[encoded data removed]"
          },
          "metadata": {}
        }
      ],
      "source": [
        "import matplotlib.pyplot as plt\n",
        "import seaborn as sns\n",
        "\n",
        "# Histogram for numeric data\n",
        "df2.select(numeric_cols).to_pandas().hist(figsize=(10, 6), bins=20)\n",
        "plt.show()\n",
        "\n",
        "# Boxplots for numeric columns\n",
        "for col in numeric_cols:\n",
        "    sns.boxplot(x=df2[col].to_pandas())\n",
        "    plt.title(f\"Boxplot for {col}\")\n",
        "    plt.show()\n"
      ]
    },
    {
      "cell_type": "code",
      "execution_count": null,
      "metadata": {
        "colab": {
          "base_uri": "https://localhost:8080/",
          "height": 431
        },
        "id": "jlsYjtrLczHB",
        "outputId": "c0f38c20-8c7d-4cdc-b7ac-d1134486df41"
      },
      "outputs": [
        {
          "output_type": "display_data",
          "data": {
            "text/plain": [
              "<Figure size 1200x600 with 3 Axes>"
            ],
            "image/png": "[encoded data removed]"
          },
          "metadata": {}
        }
      ],
      "source": [
        "import polars as pl\n",
        "import pandas as pd\n",
        "import seaborn as sns\n",
        "import matplotlib.pyplot as plt\n",
        "\n",
        "# Convert Polars DataFrame to Pandas\n",
        "df_pandas = df2.to_pandas()\n",
        "\n",
        "# List of numeric columns\n",
        "numeric_cols = ['Grade', 'Stress_Level (1-10)', 'Study_Hours_per_Week']\n",
        "\n",
        "# Create Violin Plots for Numeric Columns\n",
        "plt.figure(figsize=(12, 6))\n",
        "for i, col in enumerate(numeric_cols, 1):\n",
        "    plt.subplot(1, len(numeric_cols), i)\n",
        "    sns.violinplot(y=df_pandas[col])\n",
        "    plt.title(f\"Violin Plot of {col}\")\n",
        "\n",
        "plt.tight_layout()\n",
        "plt.show()\n"
      ]
    },
    {
      "cell_type": "code",
      "execution_count": null,
      "metadata": {
        "id": "gsIXGWqZkTV5"
      },
      "outputs": [],
      "source": []
    },
    {
      "cell_type": "markdown",
      "metadata": {
        "id": "vFYQcdZJgebB"
      },
      "source": [
        "With the columns measured at school ('Grade', 'Stress_Level (1-10)'), the columns of the house ( 'Internet_Access_at_Home', 'Study_Hours_per_Week', 'Family_Income_Level) will be predicted."
      ]
    },
    {
      "cell_type": "markdown",
      "source": [
        "## Knowing the data"
      ],
      "metadata": {
        "id": "OZUQuJDkAQH0"
      }
    },
    {
      "cell_type": "code",
      "execution_count": null,
      "metadata": {
        "colab": {
          "base_uri": "https://localhost:8080/"
        },
        "id": "h17F8FcF61r1",
        "outputId": "82f5348e-7847-4309-b3c5-b31cb2ed0153"
      },
      "outputs": [
        {
          "output_type": "stream",
          "name": "stdout",
          "text": [
            "Schema([('Grade', String), ('Stress_Level (1-10)', Int64), ('Internet_Access_at_Home', String), ('Study_Hours_per_Week', Float64), ('Family_Income_Level', String)])\n",
            "Numeric columns: ['Stress_Level (1-10)', 'Study_Hours_per_Week']\n",
            "shape: (5_000, 7)\n",
            "┌───────┬───────────────┬──────────────┬──────────────┬──────────────┬──────────────┬──────────────┐\n",
            "│ Grade ┆ Stress_Level  ┆ Internet_Acc ┆ Study_Hours_ ┆ Family_Incom ┆ Stress_Level ┆ Study_Hours_ │\n",
            "│ ---   ┆ (1-10)        ┆ ess_at_Home  ┆ per_Week     ┆ e_Level      ┆ (1-10)_norma ┆ per_Week_nor │\n",
            "│ str   ┆ ---           ┆ ---          ┆ ---          ┆ ---          ┆ lized        ┆ malize…      │\n",
            "│       ┆ i64           ┆ str          ┆ f64          ┆ str          ┆ ---          ┆ ---          │\n",
            "│       ┆               ┆              ┆              ┆              ┆ f64          ┆ f64          │\n",
            "╞═══════╪═══════════════╪══════════════╪══════════════╪══════════════╪══════════════╪══════════════╡\n",
            "│ F     ┆ 5             ┆ Yes          ┆ 6.2          ┆ Medium       ┆ 0.444444     ┆ 0.048        │\n",
            "│ A     ┆ 4             ┆ Yes          ┆ 19.0         ┆ Medium       ┆ 0.333333     ┆ 0.56         │\n",
            "│ D     ┆ 6             ┆ Yes          ┆ 20.7         ┆ Low          ┆ 0.555556     ┆ 0.628        │\n",
            "│ A     ┆ 3             ┆ Yes          ┆ 24.8         ┆ High         ┆ 0.222222     ┆ 0.792        │\n",
            "│ F     ┆ 2             ┆ Yes          ┆ 15.4         ┆ High         ┆ 0.111111     ┆ 0.416        │\n",
            "│ …     ┆ …             ┆ …            ┆ …            ┆ …            ┆ …            ┆ …            │\n",
            "│ D     ┆ 10            ┆ Yes          ┆ 25.5         ┆ Low          ┆ 1.0          ┆ 0.82         │\n",
            "│ C     ┆ 4             ┆ Yes          ┆ 5.0          ┆ Medium       ┆ 0.333333     ┆ 0.0          │\n",
            "│ A     ┆ 4             ┆ No           ┆ 24.8         ┆ Medium       ┆ 0.333333     ┆ 0.792        │\n",
            "│ A     ┆ 1             ┆ Yes          ┆ 16.1         ┆ Low          ┆ 0.0          ┆ 0.444        │\n",
            "│ F     ┆ 2             ┆ Yes          ┆ 29.2         ┆ Low          ┆ 0.111111     ┆ 0.968        │\n",
            "└───────┴───────────────┴──────────────┴──────────────┴──────────────┴──────────────┴──────────────┘\n"
          ]
        }
      ],
      "source": [
        "import polars as pl\n",
        "\n",
        "# Check the actual column types\n",
        "print(df2.schema)\n",
        "\n",
        "# Select only truly numeric columns\n",
        "numeric_cols = [col for col, dtype in df2.schema.items() if dtype in [pl.Int64, pl.Float64]]\n",
        "\n",
        "print(\"Numeric columns:\", numeric_cols)  # Verify selection\n",
        "\n",
        "# Apply Min-Max Scaling only to numeric columns\n",
        "df2 = df2.with_columns([\n",
        "    ((df2[col] - df2[col].min()) / (df2[col].max() - df2[col].min())).alias(col + \"_normalized\")\n",
        "    for col in numeric_cols\n",
        "])\n",
        "\n",
        "print(df2)\n"
      ]
    },
    {
      "cell_type": "code",
      "execution_count": null,
      "metadata": {
        "colab": {
          "base_uri": "https://localhost:8080/"
        },
        "id": "mAX2AEttCDoc",
        "outputId": "e306c541-d9c0-4321-9f3d-907df80464d3"
      },
      "outputs": [
        {
          "output_type": "stream",
          "name": "stdout",
          "text": [
            "shape: (5, 10)\n",
            "┌───────┬────────────┬────────────┬────────────┬───┬───────────┬───────────┬───────────┬───────────┐\n",
            "│ Grade ┆ Stress_Lev ┆ Internet_A ┆ Study_Hour ┆ … ┆ Study_Hou ┆ Income_Lo ┆ Income_Me ┆ Income_Hi │\n",
            "│ ---   ┆ el (1-10)  ┆ ccess_at_H ┆ s_per_Week ┆   ┆ rs_per_We ┆ w         ┆ dium      ┆ gh        │\n",
            "│ str   ┆ ---        ┆ ome        ┆ ---        ┆   ┆ ek_normal ┆ ---       ┆ ---       ┆ ---       │\n",
            "│       ┆ i64        ┆ ---        ┆ f64        ┆   ┆ ize…      ┆ i8        ┆ i8        ┆ i8        │\n",
            "│       ┆            ┆ str        ┆            ┆   ┆ ---       ┆           ┆           ┆           │\n",
            "│       ┆            ┆            ┆            ┆   ┆ f64       ┆           ┆           ┆           │\n",
            "╞═══════╪════════════╪════════════╪════════════╪═══╪═══════════╪═══════════╪═══════════╪═══════════╡\n",
            "│ F     ┆ 5          ┆ Yes        ┆ 6.2        ┆ … ┆ 0.048     ┆ 1         ┆ 1         ┆ 0         │\n",
            "│ A     ┆ 4          ┆ Yes        ┆ 19.0       ┆ … ┆ 0.56      ┆ 1         ┆ 1         ┆ 0         │\n",
            "│ D     ┆ 6          ┆ Yes        ┆ 20.7       ┆ … ┆ 0.628     ┆ 1         ┆ 0         ┆ 0         │\n",
            "│ A     ┆ 3          ┆ Yes        ┆ 24.8       ┆ … ┆ 0.792     ┆ 1         ┆ 1         ┆ 1         │\n",
            "│ F     ┆ 2          ┆ Yes        ┆ 15.4       ┆ … ┆ 0.416     ┆ 1         ┆ 1         ┆ 1         │\n",
            "└───────┴────────────┴────────────┴────────────┴───┴───────────┴───────────┴───────────┴───────────┘\n"
          ]
        },
        {
          "output_type": "execute_result",
          "data": {
            "text/plain": [
              "Schema([('Grade', String),\n",
              "        ('Stress_Level (1-10)', Int64),\n",
              "        ('Internet_Access_at_Home', String),\n",
              "        ('Study_Hours_per_Week', Float64),\n",
              "        ('Family_Income_Level', String),\n",
              "        ('Stress_Level (1-10)_normalized', Float64),\n",
              "        ('Study_Hours_per_Week_normalized', Float64),\n",
              "        ('Income_Low', Int8),\n",
              "        ('Income_Medium', Int8),\n",
              "        ('Income_High', Int8)])"
            ]
          },
          "metadata": {},
          "execution_count": 43
        }
      ],
      "source": [
        "\n",
        "\n",
        "# Define income levels in order\n",
        "income_levels = [\"Low\", \"Medium\", \"High\"]\n",
        "\n",
        "# Create cumulative one-hot encoding\n",
        "df3 = df2.with_columns([\n",
        "    (df2[\"Family_Income_Level\"].is_in(income_levels[i:])).cast(pl.Int8).alias(f\"Income_{level}\")\n",
        "    for i, level in enumerate(income_levels)\n",
        "])\n",
        "\n",
        "# Drop the original categorical column\n",
        "#df3 = df3.drop(\"Family_Income_Level\")\n",
        "\n",
        "print(df3.head())\n",
        "df3.schema"
      ]
    },
    {
      "cell_type": "code",
      "execution_count": null,
      "metadata": {
        "colab": {
          "base_uri": "https://localhost:8080/",
          "height": 443
        },
        "id": "ch7F7T2aCDiZ",
        "outputId": "a50036a0-65eb-40a8-dc63-abaeff54659f"
      },
      "outputs": [
        {
          "output_type": "execute_result",
          "data": {
            "text/plain": [
              "shape: (5_000, 4)\n",
              "┌─────────────────────┬────────────┬───────────────┬─────────────┐\n",
              "│ Family_Income_Level ┆ Income_Low ┆ Income_Medium ┆ Income_High │\n",
              "│ ---                 ┆ ---        ┆ ---           ┆ ---         │\n",
              "│ str                 ┆ i8         ┆ i8            ┆ i8          │\n",
              "╞═════════════════════╪════════════╪═══════════════╪═════════════╡\n",
              "│ Medium              ┆ 1          ┆ 1             ┆ 0           │\n",
              "│ Medium              ┆ 1          ┆ 1             ┆ 0           │\n",
              "│ Low                 ┆ 1          ┆ 0             ┆ 0           │\n",
              "│ High                ┆ 1          ┆ 1             ┆ 1           │\n",
              "│ High                ┆ 1          ┆ 1             ┆ 1           │\n",
              "│ …                   ┆ …          ┆ …             ┆ …           │\n",
              "│ Low                 ┆ 1          ┆ 0             ┆ 0           │\n",
              "│ Medium              ┆ 1          ┆ 1             ┆ 0           │\n",
              "│ Medium              ┆ 1          ┆ 1             ┆ 0           │\n",
              "│ Low                 ┆ 1          ┆ 0             ┆ 0           │\n",
              "│ Low                 ┆ 1          ┆ 0             ┆ 0           │\n",
              "└─────────────────────┴────────────┴───────────────┴─────────────┘"
            ],
            "text/html": [
              "<div><style>\n",
              ".dataframe > thead > tr,\n",
              ".dataframe > tbody > tr {\n",
              "  text-align: right;\n",
              "  white-space: pre-wrap;\n",
              "}\n",
              "</style>\n",
              "<small>shape: (5_000, 4)</small><table border=\"1\" class=\"dataframe\"><thead><tr><th>Family_Income_Level</th><th>Income_Low</th><th>Income_Medium</th><th>Income_High</th></tr><tr><td>str</td><td>i8</td><td>i8</td><td>i8</td></tr></thead><tbody><tr><td>&quot;Medium&quot;</td><td>1</td><td>1</td><td>0</td></tr><tr><td>&quot;Medium&quot;</td><td>1</td><td>1</td><td>0</td></tr><tr><td>&quot;Low&quot;</td><td>1</td><td>0</td><td>0</td></tr><tr><td>&quot;High&quot;</td><td>1</td><td>1</td><td>1</td></tr><tr><td>&quot;High&quot;</td><td>1</td><td>1</td><td>1</td></tr><tr><td>&hellip;</td><td>&hellip;</td><td>&hellip;</td><td>&hellip;</td></tr><tr><td>&quot;Low&quot;</td><td>1</td><td>0</td><td>0</td></tr><tr><td>&quot;Medium&quot;</td><td>1</td><td>1</td><td>0</td></tr><tr><td>&quot;Medium&quot;</td><td>1</td><td>1</td><td>0</td></tr><tr><td>&quot;Low&quot;</td><td>1</td><td>0</td><td>0</td></tr><tr><td>&quot;Low&quot;</td><td>1</td><td>0</td><td>0</td></tr></tbody></table></div>"
            ]
          },
          "metadata": {},
          "execution_count": 44
        }
      ],
      "source": [
        "df3.select([\"Family_Income_Level\",'Income_Low', 'Income_Medium', 'Income_High'])"
      ]
    },
    {
      "cell_type": "code",
      "execution_count": null,
      "metadata": {
        "colab": {
          "base_uri": "https://localhost:8080/"
        },
        "id": "WvCJI0NuCDb7",
        "outputId": "c9af5af5-4c6d-416a-956b-21e8ad3fb5a6"
      },
      "outputs": [
        {
          "output_type": "execute_result",
          "data": {
            "text/plain": [
              "Schema([('Grade', String),\n",
              "        ('Stress_Level (1-10)', Int64),\n",
              "        ('Internet_Access_at_Home', String),\n",
              "        ('Study_Hours_per_Week', Float64),\n",
              "        ('Family_Income_Level', String),\n",
              "        ('Stress_Level (1-10)_normalized', Float64),\n",
              "        ('Study_Hours_per_Week_normalized', Float64),\n",
              "        ('Income_Low', Int8),\n",
              "        ('Income_Medium', Int8),\n",
              "        ('Income_High', Int8),\n",
              "        ('Grade_A', UInt8),\n",
              "        ('Grade_B', UInt8),\n",
              "        ('Grade_C', UInt8),\n",
              "        ('Grade_D', UInt8),\n",
              "        ('Grade_F', UInt8)])"
            ]
          },
          "metadata": {},
          "execution_count": 45
        }
      ],
      "source": [
        "df4 = df3.hstack(df3.select(\"Grade\").to_dummies())\n",
        "df4.schema"
      ]
    },
    {
      "cell_type": "code",
      "execution_count": null,
      "metadata": {
        "colab": {
          "base_uri": "https://localhost:8080/",
          "height": 443
        },
        "id": "yakSrQVeCDYZ",
        "outputId": "d08c9689-18af-4104-c1a6-3a1a703cb083"
      },
      "outputs": [
        {
          "output_type": "execute_result",
          "data": {
            "text/plain": [
              "shape: (5_000, 6)\n",
              "┌───────┬─────────┬─────────┬─────────┬─────────┬─────────┐\n",
              "│ Grade ┆ Grade_A ┆ Grade_B ┆ Grade_C ┆ Grade_D ┆ Grade_F │\n",
              "│ ---   ┆ ---     ┆ ---     ┆ ---     ┆ ---     ┆ ---     │\n",
              "│ str   ┆ u8      ┆ u8      ┆ u8      ┆ u8      ┆ u8      │\n",
              "╞═══════╪═════════╪═════════╪═════════╪═════════╪═════════╡\n",
              "│ F     ┆ 0       ┆ 0       ┆ 0       ┆ 0       ┆ 1       │\n",
              "│ A     ┆ 1       ┆ 0       ┆ 0       ┆ 0       ┆ 0       │\n",
              "│ D     ┆ 0       ┆ 0       ┆ 0       ┆ 1       ┆ 0       │\n",
              "│ A     ┆ 1       ┆ 0       ┆ 0       ┆ 0       ┆ 0       │\n",
              "│ F     ┆ 0       ┆ 0       ┆ 0       ┆ 0       ┆ 1       │\n",
              "│ …     ┆ …       ┆ …       ┆ …       ┆ …       ┆ …       │\n",
              "│ D     ┆ 0       ┆ 0       ┆ 0       ┆ 1       ┆ 0       │\n",
              "│ C     ┆ 0       ┆ 0       ┆ 1       ┆ 0       ┆ 0       │\n",
              "│ A     ┆ 1       ┆ 0       ┆ 0       ┆ 0       ┆ 0       │\n",
              "│ A     ┆ 1       ┆ 0       ┆ 0       ┆ 0       ┆ 0       │\n",
              "│ F     ┆ 0       ┆ 0       ┆ 0       ┆ 0       ┆ 1       │\n",
              "└───────┴─────────┴─────────┴─────────┴─────────┴─────────┘"
            ],
            "text/html": [
              "<div><style>\n",
              ".dataframe > thead > tr,\n",
              ".dataframe > tbody > tr {\n",
              "  text-align: right;\n",
              "  white-space: pre-wrap;\n",
              "}\n",
              "</style>\n",
              "<small>shape: (5_000, 6)</small><table border=\"1\" class=\"dataframe\"><thead><tr><th>Grade</th><th>Grade_A</th><th>Grade_B</th><th>Grade_C</th><th>Grade_D</th><th>Grade_F</th></tr><tr><td>str</td><td>u8</td><td>u8</td><td>u8</td><td>u8</td><td>u8</td></tr></thead><tbody><tr><td>&quot;F&quot;</td><td>0</td><td>0</td><td>0</td><td>0</td><td>1</td></tr><tr><td>&quot;A&quot;</td><td>1</td><td>0</td><td>0</td><td>0</td><td>0</td></tr><tr><td>&quot;D&quot;</td><td>0</td><td>0</td><td>0</td><td>1</td><td>0</td></tr><tr><td>&quot;A&quot;</td><td>1</td><td>0</td><td>0</td><td>0</td><td>0</td></tr><tr><td>&quot;F&quot;</td><td>0</td><td>0</td><td>0</td><td>0</td><td>1</td></tr><tr><td>&hellip;</td><td>&hellip;</td><td>&hellip;</td><td>&hellip;</td><td>&hellip;</td><td>&hellip;</td></tr><tr><td>&quot;D&quot;</td><td>0</td><td>0</td><td>0</td><td>1</td><td>0</td></tr><tr><td>&quot;C&quot;</td><td>0</td><td>0</td><td>1</td><td>0</td><td>0</td></tr><tr><td>&quot;A&quot;</td><td>1</td><td>0</td><td>0</td><td>0</td><td>0</td></tr><tr><td>&quot;A&quot;</td><td>1</td><td>0</td><td>0</td><td>0</td><td>0</td></tr><tr><td>&quot;F&quot;</td><td>0</td><td>0</td><td>0</td><td>0</td><td>1</td></tr></tbody></table></div>"
            ]
          },
          "metadata": {},
          "execution_count": 49
        }
      ],
      "source": [
        "df4.select(['Grade','Grade_A', 'Grade_B', 'Grade_C', 'Grade_D', 'Grade_F'])\n"
      ]
    },
    {
      "cell_type": "code",
      "source": [
        "df4 = df4.with_columns(\n",
        "    df4[\"Internet_Access_at_Home\"].replace({\"Yes\": 1, \"No\": 0}).cast(pl.Int8)\n",
        ")"
      ],
      "metadata": {
        "id": "67gzoqVkPz4h"
      },
      "execution_count": null,
      "outputs": []
    },
    {
      "cell_type": "code",
      "execution_count": null,
      "metadata": {
        "colab": {
          "base_uri": "https://localhost:8080/"
        },
        "id": "hvzj9BMPCDUl",
        "outputId": "97d5147e-c1bd-402e-c6a1-ca4f4c8cae74"
      },
      "outputs": [
        {
          "output_type": "execute_result",
          "data": {
            "text/plain": [
              "Schema([('Internet_Access_at_Home', Int8),\n",
              "        ('Stress_Level (1-10)_normalized', Float64),\n",
              "        ('Study_Hours_per_Week_normalized', Float64),\n",
              "        ('Income_Low', Int8),\n",
              "        ('Income_Medium', Int8),\n",
              "        ('Income_High', Int8),\n",
              "        ('Grade_A', UInt8),\n",
              "        ('Grade_B', UInt8),\n",
              "        ('Grade_C', UInt8),\n",
              "        ('Grade_D', UInt8),\n",
              "        ('Grade_F', UInt8)])"
            ]
          },
          "metadata": {},
          "execution_count": 65
        }
      ],
      "source": [
        "df5=df4.drop([\"Grade\",'Stress_Level (1-10)','Study_Hours_per_Week','Family_Income_Level'])\n",
        "df5.schema"
      ]
    },
    {
      "cell_type": "code",
      "execution_count": null,
      "metadata": {
        "colab": {
          "base_uri": "https://localhost:8080/",
          "height": 498
        },
        "id": "ZRaUFN0iCDRA",
        "outputId": "8ed465eb-2060-4d32-b927-417e5983f6b6"
      },
      "outputs": [
        {
          "output_type": "execute_result",
          "data": {
            "text/plain": [
              "shape: (5_000, 11)\n",
              "┌─────────────┬─────────────┬─────────────┬────────────┬───┬─────────┬─────────┬─────────┬─────────┐\n",
              "│ Internet_Ac ┆ Stress_Leve ┆ Study_Hours ┆ Income_Low ┆ … ┆ Grade_B ┆ Grade_C ┆ Grade_D ┆ Grade_F │\n",
              "│ cess_at_Hom ┆ l (1-10)_no ┆ _per_Week_n ┆ ---        ┆   ┆ ---     ┆ ---     ┆ ---     ┆ ---     │\n",
              "│ e           ┆ rmalized    ┆ ormalize…   ┆ i8         ┆   ┆ u8      ┆ u8      ┆ u8      ┆ u8      │\n",
              "│ ---         ┆ ---         ┆ ---         ┆            ┆   ┆         ┆         ┆         ┆         │\n",
              "│ i8          ┆ f64         ┆ f64         ┆            ┆   ┆         ┆         ┆         ┆         │\n",
              "╞═════════════╪═════════════╪═════════════╪════════════╪═══╪═════════╪═════════╪═════════╪═════════╡\n",
              "│ 1           ┆ 0.444444    ┆ 0.048       ┆ 1          ┆ … ┆ 0       ┆ 0       ┆ 0       ┆ 1       │\n",
              "│ 1           ┆ 0.333333    ┆ 0.56        ┆ 1          ┆ … ┆ 0       ┆ 0       ┆ 0       ┆ 0       │\n",
              "│ 1           ┆ 0.555556    ┆ 0.628       ┆ 1          ┆ … ┆ 0       ┆ 0       ┆ 1       ┆ 0       │\n",
              "│ 1           ┆ 0.222222    ┆ 0.792       ┆ 1          ┆ … ┆ 0       ┆ 0       ┆ 0       ┆ 0       │\n",
              "│ 1           ┆ 0.111111    ┆ 0.416       ┆ 1          ┆ … ┆ 0       ┆ 0       ┆ 0       ┆ 1       │\n",
              "│ …           ┆ …           ┆ …           ┆ …          ┆ … ┆ …       ┆ …       ┆ …       ┆ …       │\n",
              "│ 1           ┆ 1.0         ┆ 0.82        ┆ 1          ┆ … ┆ 0       ┆ 0       ┆ 1       ┆ 0       │\n",
              "│ 1           ┆ 0.333333    ┆ 0.0         ┆ 1          ┆ … ┆ 0       ┆ 1       ┆ 0       ┆ 0       │\n",
              "│ 0           ┆ 0.333333    ┆ 0.792       ┆ 1          ┆ … ┆ 0       ┆ 0       ┆ 0       ┆ 0       │\n",
              "│ 1           ┆ 0.0         ┆ 0.444       ┆ 1          ┆ … ┆ 0       ┆ 0       ┆ 0       ┆ 0       │\n",
              "│ 1           ┆ 0.111111    ┆ 0.968       ┆ 1          ┆ … ┆ 0       ┆ 0       ┆ 0       ┆ 1       │\n",
              "└─────────────┴─────────────┴─────────────┴────────────┴───┴─────────┴─────────┴─────────┴─────────┘"
            ],
            "text/html": [
              "<div><style>\n",
              ".dataframe > thead > tr,\n",
              ".dataframe > tbody > tr {\n",
              "  text-align: right;\n",
              "  white-space: pre-wrap;\n",
              "}\n",
              "</style>\n",
              "<small>shape: (5_000, 11)</small><table border=\"1\" class=\"dataframe\"><thead><tr><th>Internet_Access_at_Home</th><th>Stress_Level (1-10)_normalized</th><th>Study_Hours_per_Week_normalized</th><th>Income_Low</th><th>Income_Medium</th><th>Income_High</th><th>Grade_A</th><th>Grade_B</th><th>Grade_C</th><th>Grade_D</th><th>Grade_F</th></tr><tr><td>i8</td><td>f64</td><td>f64</td><td>i8</td><td>i8</td><td>i8</td><td>u8</td><td>u8</td><td>u8</td><td>u8</td><td>u8</td></tr></thead><tbody><tr><td>1</td><td>0.444444</td><td>0.048</td><td>1</td><td>1</td><td>0</td><td>0</td><td>0</td><td>0</td><td>0</td><td>1</td></tr><tr><td>1</td><td>0.333333</td><td>0.56</td><td>1</td><td>1</td><td>0</td><td>1</td><td>0</td><td>0</td><td>0</td><td>0</td></tr><tr><td>1</td><td>0.555556</td><td>0.628</td><td>1</td><td>0</td><td>0</td><td>0</td><td>0</td><td>0</td><td>1</td><td>0</td></tr><tr><td>1</td><td>0.222222</td><td>0.792</td><td>1</td><td>1</td><td>1</td><td>1</td><td>0</td><td>0</td><td>0</td><td>0</td></tr><tr><td>1</td><td>0.111111</td><td>0.416</td><td>1</td><td>1</td><td>1</td><td>0</td><td>0</td><td>0</td><td>0</td><td>1</td></tr><tr><td>&hellip;</td><td>&hellip;</td><td>&hellip;</td><td>&hellip;</td><td>&hellip;</td><td>&hellip;</td><td>&hellip;</td><td>&hellip;</td><td>&hellip;</td><td>&hellip;</td><td>&hellip;</td></tr><tr><td>1</td><td>1.0</td><td>0.82</td><td>1</td><td>0</td><td>0</td><td>0</td><td>0</td><td>0</td><td>1</td><td>0</td></tr><tr><td>1</td><td>0.333333</td><td>0.0</td><td>1</td><td>1</td><td>0</td><td>0</td><td>0</td><td>1</td><td>0</td><td>0</td></tr><tr><td>0</td><td>0.333333</td><td>0.792</td><td>1</td><td>1</td><td>0</td><td>1</td><td>0</td><td>0</td><td>0</td><td>0</td></tr><tr><td>1</td><td>0.0</td><td>0.444</td><td>1</td><td>0</td><td>0</td><td>1</td><td>0</td><td>0</td><td>0</td><td>0</td></tr><tr><td>1</td><td>0.111111</td><td>0.968</td><td>1</td><td>0</td><td>0</td><td>0</td><td>0</td><td>0</td><td>0</td><td>1</td></tr></tbody></table></div>"
            ]
          },
          "metadata": {},
          "execution_count": 66
        }
      ],
      "source": [
        "df5"
      ]
    },
    {
      "cell_type": "code",
      "source": [
        "df6 = df5.sample(n=10, shuffle=True, seed=42)"
      ],
      "metadata": {
        "id": "CgtkU0MLXwkz"
      },
      "execution_count": null,
      "outputs": []
    },
    {
      "cell_type": "markdown",
      "source": [
        "## Combining Euclidean and Hamming distances"
      ],
      "metadata": {
        "id": "KUo87VJGAv_o"
      }
    },
    {
      "cell_type": "code",
      "source": [
        "import numpy as np\n",
        "from scipy.spatial.distance import euclidean, hamming\n",
        "from sklearn.neighbors import KNeighborsClassifier\n",
        "from sklearn.model_selection import train_test_split\n",
        "\n",
        "# Custom distance function\n",
        "def custom_distance(x, y):\n",
        "    # Euclidean distance for numeric feature (first column)\n",
        "    euclidean_part = euclidean(x[0:1], y[0:1])\n",
        "\n",
        "    # Hamming distance for one-hot encoded categorical features (remaining columns)\n",
        "    hamming_part = hamming(x[1:], y[1:])\n",
        "\n",
        "    # Combine both distances (weighting can be adjusted)\n",
        "    print('dist:',hamming_part,euclidean_part,x,y)\n",
        "    return euclidean_part + hamming_part  # You can adjust weights if needed\n",
        "\n",
        "# Select Features\n",
        "X6 = df6.select([\n",
        "    \"Stress_Level (1-10)_normalized\",  # Numeric\n",
        "    \"Grade_A\", \"Grade_B\", \"Grade_C\", \"Grade_D\", \"Grade_F\"  # Categorical One-Hot\n",
        "])\n",
        "\n",
        "# Select Target\n",
        "y6 = df6.select([\"Income_Low\", \"Income_Medium\", \"Income_High\"])\n",
        "\n",
        "# Convert to Pandas for compatibility\n",
        "X_train, X_test, y_train, y_test = train_test_split(X6.to_pandas(), y6.to_pandas(), test_size=0.2, random_state=42)\n",
        "\n",
        "# Train KNN with Custom Distance\n",
        "knn = KNeighborsClassifier(n_neighbors=5, metric=custom_distance)\n",
        "knn.fit(X_train.to_numpy(), y_train.to_numpy())  # Convert to NumPy for custom distance\n",
        "\n",
        "# Predict\n",
        "y_pred = knn.predict(X_test.to_numpy())"
      ],
      "metadata": {
        "colab": {
          "base_uri": "https://localhost:8080/"
        },
        "id": "pAckD0iuMjWq",
        "outputId": "08c4fc6b-4d89-45e8-dbe0-b642e5887a1d"
      },
      "execution_count": null,
      "outputs": [
        {
          "output_type": "stream",
          "name": "stdout",
          "text": [
            "dist: 0.4 0.3333333333333333 [0.33 1.   0.   0.   0.   0.  ] [0. 0. 1. 0. 0. 0.]\n",
            "dist: 0.0 0.6666666666666667 [0.33 1.   0.   0.   0.   0.  ] [1. 1. 0. 0. 0. 0.]\n",
            "dist: 0.4 0.5555555555555556 [0.33 1.   0.   0.   0.   0.  ] [0.89 0.   1.   0.   0.   0.  ]\n",
            "dist: 0.0 0.44444444444444436 [0.33 1.   0.   0.   0.   0.  ] [0.78 1.   0.   0.   0.   0.  ]\n",
            "dist: 0.4 0.2222222222222222 [0.33 1.   0.   0.   0.   0.  ] [0.11 0.   0.   0.   1.   0.  ]\n",
            "dist: 0.4 0.1111111111111111 [0.33 1.   0.   0.   0.   0.  ] [0.22 0.   0.   1.   0.   0.  ]\n",
            "dist: 0.4 0.44444444444444436 [0.33 1.   0.   0.   0.   0.  ] [0.78 0.   0.   0.   1.   0.  ]\n",
            "dist: 0.4 0.5555555555555556 [0.33 1.   0.   0.   0.   0.  ] [0.89 0.   0.   0.   0.   1.  ]\n",
            "dist: 0.4 0.6666666666666666 [0.67 1.   0.   0.   0.   0.  ] [0. 0. 1. 0. 0. 0.]\n",
            "dist: 0.0 0.33333333333333337 [0.67 1.   0.   0.   0.   0.  ] [1. 1. 0. 0. 0. 0.]\n",
            "dist: 0.4 0.2222222222222222 [0.67 1.   0.   0.   0.   0.  ] [0.89 0.   1.   0.   0.   0.  ]\n",
            "dist: 0.0 0.11111111111111105 [0.67 1.   0.   0.   0.   0.  ] [0.78 1.   0.   0.   0.   0.  ]\n",
            "dist: 0.4 0.5555555555555556 [0.67 1.   0.   0.   0.   0.  ] [0.11 0.   0.   0.   1.   0.  ]\n",
            "dist: 0.4 0.4444444444444444 [0.67 1.   0.   0.   0.   0.  ] [0.22 0.   0.   1.   0.   0.  ]\n",
            "dist: 0.4 0.11111111111111105 [0.67 1.   0.   0.   0.   0.  ] [0.78 0.   0.   0.   1.   0.  ]\n",
            "dist: 0.4 0.2222222222222222 [0.67 1.   0.   0.   0.   0.  ] [0.89 0.   0.   0.   0.   1.  ]\n"
          ]
        }
      ]
    },
    {
      "cell_type": "markdown",
      "source": [
        "## 5 Near Neighbors"
      ],
      "metadata": {
        "id": "COb5M9hcCrbi"
      }
    },
    {
      "cell_type": "code",
      "source": [
        "import numpy as np\n",
        "from scipy.spatial.distance import euclidean, hamming\n",
        "from sklearn.neighbors import KNeighborsClassifier\n",
        "from sklearn.model_selection import train_test_split\n",
        "\n",
        "# Custom distance function\n",
        "def custom_distance(x, y):\n",
        "    return euclidean(x[0:1], y[0:1]) + hamming(x[1:], y[1:])\n",
        "\n",
        "# Select Features\n",
        "X = df5.select([\n",
        "    \"Stress_Level (1-10)_normalized\",  # Numeric\n",
        "    \"Grade_A\", \"Grade_B\", \"Grade_C\", \"Grade_D\", \"Grade_F\"  # Categorical One-Hot\n",
        "])\n",
        "\n",
        "# Select Target\n",
        "y = df5.select([\"Income_Low\", \"Income_Medium\", \"Income_High\"])\n",
        "\n",
        "# Convert to Pandas for compatibility\n",
        "X_train, X_test, y_train, y_test = train_test_split(X.to_pandas(), y.to_pandas(), test_size=0.2, random_state=42)\n",
        "\n",
        "# Train KNN with Custom Distance\n",
        "knn = KNeighborsClassifier(n_neighbors=5, metric=custom_distance)\n",
        "knn.fit(X_train.to_numpy(), y_train.to_numpy())  # Convert to NumPy for custom distance\n",
        "\n",
        "# Predict\n",
        "y_pred = knn.predict(X_test.to_numpy())"
      ],
      "metadata": {
        "id": "8rZaLcmNMjTS"
      },
      "execution_count": null,
      "outputs": []
    },
    {
      "cell_type": "markdown",
      "source": [
        "## Evaluating"
      ],
      "metadata": {
        "id": "uIHFGiiOFANp"
      }
    },
    {
      "cell_type": "code",
      "source": [
        "y_true=y_test.to_numpy()"
      ],
      "metadata": {
        "id": "XHdLKSiVmxjj"
      },
      "execution_count": null,
      "outputs": []
    },
    {
      "cell_type": "code",
      "source": [
        "y_true.shape"
      ],
      "metadata": {
        "colab": {
          "base_uri": "https://localhost:8080/"
        },
        "id": "cRHteYJ7iqJa",
        "outputId": "4fd19156-01b5-46ab-b8f1-f5df24f59e29"
      },
      "execution_count": null,
      "outputs": [
        {
          "output_type": "execute_result",
          "data": {
            "text/plain": [
              "(1000, 3)"
            ]
          },
          "metadata": {},
          "execution_count": 119
        }
      ]
    },
    {
      "cell_type": "code",
      "source": [
        "y_true"
      ],
      "metadata": {
        "colab": {
          "base_uri": "https://localhost:8080/"
        },
        "id": "BNqPp6CX67Yl",
        "outputId": "ffb8fc05-f297-4a0d-bac4-d503d940c4de"
      },
      "execution_count": null,
      "outputs": [
        {
          "output_type": "execute_result",
          "data": {
            "text/plain": [
              "array([[1, 1, 1],\n",
              "       [1, 1, 1],\n",
              "       [1, 1, 0],\n",
              "       ...,\n",
              "       [1, 0, 0],\n",
              "       [1, 1, 0],\n",
              "       [1, 0, 0]], dtype=int8)"
            ]
          },
          "metadata": {},
          "execution_count": 120
        }
      ]
    },
    {
      "cell_type": "code",
      "source": [
        "y_pred.shape"
      ],
      "metadata": {
        "colab": {
          "base_uri": "https://localhost:8080/"
        },
        "id": "64V3PX_Di1LM",
        "outputId": "ff18ef68-17bb-4a95-fcb8-0abb771d8d91"
      },
      "execution_count": null,
      "outputs": [
        {
          "output_type": "execute_result",
          "data": {
            "text/plain": [
              "(1000, 3)"
            ]
          },
          "metadata": {},
          "execution_count": 121
        }
      ]
    },
    {
      "cell_type": "code",
      "source": [
        "y_pred"
      ],
      "metadata": {
        "colab": {
          "base_uri": "https://localhost:8080/"
        },
        "id": "oIUAf0UB7FTb",
        "outputId": "849a5a6b-7bcb-4429-8b29-f026509fdde7"
      },
      "execution_count": null,
      "outputs": [
        {
          "output_type": "execute_result",
          "data": {
            "text/plain": [
              "array([[1, 1, 0],\n",
              "       [1, 1, 0],\n",
              "       [1, 1, 0],\n",
              "       ...,\n",
              "       [1, 1, 0],\n",
              "       [1, 1, 0],\n",
              "       [1, 1, 0]], dtype=int8)"
            ]
          },
          "metadata": {},
          "execution_count": 122
        }
      ]
    },
    {
      "cell_type": "code",
      "source": [
        "import numpy as np\n",
        "\n",
        "\n",
        "# Convert cumulative one-hot encoding to categorical labels\n",
        "y_true_labels = y_true.sum(axis=1) - 1  # [0, 1, 2, 1, 0]\n",
        "y_pred_labels = y_pred.sum(axis=1) - 1  # [0, 1, 1, 1, 0]\n",
        "\n",
        "# Unique class labels\n",
        "labels = [\"Low\", \"Medium\", \"High\"]\n",
        "\n",
        "# Compute confusion matrix manually\n",
        "cm = np.zeros((len(labels), len(labels)), dtype=int)\n",
        "for i in range(len(y_true_labels)):\n",
        "    cm[y_true_labels[i], y_pred_labels[i]] += 1\n",
        "\n",
        "print(\"Confusion Matrix (NumPy):\\n\", cm)"
      ],
      "metadata": {
        "id": "LJObkpWS_fne",
        "colab": {
          "base_uri": "https://localhost:8080/"
        },
        "outputId": "4ed9ba32-6e0f-4810-f0e8-09d88b968f1a"
      },
      "execution_count": null,
      "outputs": [
        {
          "output_type": "stream",
          "name": "stdout",
          "text": [
            "Confusion Matrix (NumPy):\n",
            " [[148 245  16]\n",
            " [117 241  12]\n",
            " [ 69 142  10]]\n"
          ]
        }
      ]
    },
    {
      "cell_type": "code",
      "source": [
        "import seaborn as sns\n",
        "import matplotlib.pyplot as plt\n",
        "\n",
        "# Create heatmap\n",
        "plt.figure(figsize=(6, 5))\n",
        "sns.heatmap(cm, annot=True, fmt=\"d\", cmap=\"Blues\", xticklabels=[\"Low\", \"Medium\", \"High\"], yticklabels=[\"Low\", \"Medium\", \"High\"])\n",
        "plt.xlabel(\"Predicted\")\n",
        "plt.ylabel(\"Actual\")\n",
        "plt.title(\"Confusion Matrix\")\n",
        "plt.show()"
      ],
      "metadata": {
        "colab": {
          "base_uri": "https://localhost:8080/",
          "height": 287
        },
        "id": "dCOz74eClIuR",
        "outputId": "7ba3b3c4-eee7-4d13-bd8a-2d76ae8115d5"
      },
      "execution_count": null,
      "outputs": [
        {
          "output_type": "display_data",
          "data": {
            "text/plain": [
              "<Figure size 600x500 with 2 Axes>"
            ],
            "image/png": "[encoded data removed]"
          },
          "metadata": {}
        }
      ]
    },
    {
      "cell_type": "code",
      "source": [
        "def compute_error(cm):\n",
        "    total_errors = cm.sum() - np.trace(cm)  # Misclassified samples\n",
        "    total_samples = cm.sum()  # All predictions\n",
        "    return total_errors / total_samples  # Error Rate\n",
        "\n",
        "# Example usage\n",
        "error_rate = compute_error(cm)\n",
        "print(f\"Error Rate: {error_rate:.2%}\")"
      ],
      "metadata": {
        "id": "KmU4ahkKC2qY"
      },
      "execution_count": null,
      "outputs": []
    },
    {
      "cell_type": "markdown",
      "source": [
        "## Searching for the best k"
      ],
      "metadata": {
        "id": "5mlCcVgVFJ4F"
      }
    },
    {
      "cell_type": "code",
      "source": [
        "\n",
        "#import numpy as np\n",
        "#from sklearn.neighbors import KNeighborsClassifier\n",
        "#from sklearn.metrics import confusion_matrix\n",
        "\n",
        "# Example: Features (X) and Labels (y) from training data\n",
        "#X_train, X_test, y_train, y_test = ...  # Replace with actual split data\n",
        "\n",
        "# Convert one-hot encoded labels to categorical (if needed)\n",
        "y_train = y_train.sum(axis=1) - 1  # Cumulative one-hot decoding\n",
        "y_test = y_test.sum(axis=1) - 1\n",
        "\n",
        "# Function to compute error from confusion matrix\n",
        "def compute_error(cm):\n",
        "    return (cm.sum() - np.trace(cm)) / cm.sum()  # Error rate\n",
        "\n",
        "# Test multiple values of k\n",
        "k_values = range(1, 21)  # Example: k from 1 to 20\n",
        "errors = []\n",
        "\n",
        "for k in k_values:\n",
        "    knn = KNeighborsClassifier(n_neighbors=k)  # Initialize KNN\n",
        "    knn.fit(X_train, y_train)  # Fit model\n",
        "    y_pred = knn.predict(X_test)  # Predict\n",
        "\n",
        "    # Compute confusion matrix & error rate\n",
        "    cm = confusion_matrix(y_test, y_pred)\n",
        "    error = compute_error(cm)\n",
        "    errors.append(error)\n",
        "\n",
        "# Find the best k\n",
        "best_k = k_values[np.argmin(errors)]\n",
        "print(f\"Best k: {best_k} with Error Rate: {min(errors):.2%}\")"
      ],
      "metadata": {
        "id": "Z8CfAJZ_C2-V",
        "colab": {
          "base_uri": "https://localhost:8080/"
        },
        "outputId": "b85f23d0-1451-46d1-8f46-3c0fbd72e79d"
      },
      "execution_count": null,
      "outputs": [
        {
          "output_type": "stream",
          "name": "stdout",
          "text": [
            "Best k: 11 with Error Rate: 58.30%\n"
          ]
        }
      ]
    },
    {
      "cell_type": "code",
      "source": [
        "errors"
      ],
      "metadata": {
        "id": "od8bpadWC3Sa",
        "colab": {
          "base_uri": "https://localhost:8080/"
        },
        "outputId": "5ef8b133-d23c-427f-eefd-5b7fdabc678f"
      },
      "execution_count": null,
      "outputs": [
        {
          "output_type": "execute_result",
          "data": {
            "text/plain": [
              "[np.float64(0.645),\n",
              " np.float64(0.599),\n",
              " np.float64(0.617),\n",
              " np.float64(0.603),\n",
              " np.float64(0.59),\n",
              " np.float64(0.595),\n",
              " np.float64(0.605),\n",
              " np.float64(0.588),\n",
              " np.float64(0.597),\n",
              " np.float64(0.587),\n",
              " np.float64(0.583),\n",
              " np.float64(0.596),\n",
              " np.float64(0.591),\n",
              " np.float64(0.588),\n",
              " np.float64(0.592),\n",
              " np.float64(0.587),\n",
              " np.float64(0.602),\n",
              " np.float64(0.591),\n",
              " np.float64(0.6),\n",
              " np.float64(0.583)]"
            ]
          },
          "metadata": {},
          "execution_count": 127
        }
      ]
    },
    {
      "cell_type": "markdown",
      "source": [
        "## To Do\n",
        "\n",
        "* How can you evaluate the hypothesis that the problem with almost all predictions giving `Medium` is due to the disproportionate data in that column?\n",
        "* Predict the numeric variable `Study_Hours_per_Week_normalized`, determine the error for each `k` and choice the best `k`.\n",
        "* Add new variables that can improve performance.\n",
        "\n"
      ],
      "metadata": {
        "id": "cEqmJGi8FyQV"
      }
    }
  ],
  "metadata": {
    "colab": {
      "provenance": [],
      "authorship_tag": "ABX9TyOYEPY7AVe+dbzKJdXos4ye",
      "include_colab_link": true
    },
    "kernelspec": {
      "display_name": "Python 3",
      "name": "python3"
    },
    "language_info": {
      "name": "python"
    }
  },
  "nbformat": 4,
  "nbformat_minor": 0
}